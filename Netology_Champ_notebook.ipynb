{
 "cells": [
  {
   "cell_type": "code",
   "execution_count": 140,
   "metadata": {
    "id": "MTgpe_1quUDs"
   },
   "outputs": [],
   "source": [
    "import pandas as pd\n",
    "import matplotlib.pyplot as plt\n",
    "from sklearn.model_selection import train_test_split\n",
    "import numpy as np\n",
    "from sklearn.metrics import recall_score, precision_score\n",
    "from sklearn.preprocessing import StandardScaler\n",
    "from copy import deepcopy\n",
    "import catboost as cat\n",
    "\n",
    "from collections import defaultdict\n",
    "import category_encoders as ce\n",
    "\n",
    "import os\n",
    "import pickle"
   ]
  },
  {
   "cell_type": "code",
   "execution_count": 9,
   "metadata": {
    "id": "1frTHL8bX70Z"
   },
   "outputs": [],
   "source": [
    "def metric_func(y_true, y_pred):\n",
    "    return 0.2*recall_score(y_true, y_pred, average=\"macro\", zero_division=0) +\\\n",
    "        0.8*precision_score(y_true, y_pred, average=\"macro\", zero_division=0)\n",
    "\n",
    "def convert_strDatetime_to_int(series):\n",
    "    series = pd.to_datetime(series)\n",
    "    series = series.astype(np.int64) // 10 ** 9\n",
    "    return series"
   ]
  },
  {
   "cell_type": "code",
   "execution_count": 106,
   "metadata": {
    "id": "o9N4JbcWudk2"
   },
   "outputs": [],
   "source": [
    "df = pd.read_csv(\"train_dataset_train.csv\")\n",
    "df = df.fillna(-9999)"
   ]
  },
  {
   "cell_type": "code",
   "execution_count": 107,
   "metadata": {
    "colab": {
     "base_uri": "https://localhost:8080/"
    },
    "id": "xc54XjZHX70h",
    "outputId": "93bbd283-3224-43ed-ca3e-5cd8dd7cce7a"
   },
   "outputs": [],
   "source": [
    "obj_cols = df.dtypes[df.dtypes == \"object\"].index.drop(['month_id', 'carts_created_at'])\n",
    "df[obj_cols] = df[obj_cols].astype(str)\n",
    "\n",
    "time_cols = ['month_id', 'carts_created_at'] \n",
    "df[time_cols] = df[time_cols].apply(convert_strDatetime_to_int)"
   ]
  },
  {
   "cell_type": "code",
   "execution_count": 108,
   "metadata": {
    "id": "czsoZexkyyTw"
   },
   "outputs": [],
   "source": [
    "X = df.drop('target', axis=1)\n",
    "y = df[[\"target\"]]"
   ]
  },
  {
   "cell_type": "code",
   "execution_count": 109,
   "metadata": {
    "id": "E-LfoARf2WGZ"
   },
   "outputs": [],
   "source": [
    "X_train, X_test, y_train, y_test = train_test_split(X, y, test_size=0.3, random_state=42)\n",
    "\n",
    "# Ordinally encoding\n",
    "encoder = ce.OrdinalEncoder(cols=obj_cols)\n",
    "encoder.fit(X_train)\n",
    "X_train = encoder.transform(X_train)\n",
    "X_test = encoder.transform(X_test)\n",
    "X_train[obj_cols] = X_train[obj_cols].astype(int)\n",
    "X_test[obj_cols] = X_test[obj_cols].astype(int)"
   ]
  },
  {
   "cell_type": "markdown",
   "metadata": {
    "id": "ZkH75_xtX70t"
   },
   "source": [
    "# Посмотрим на важность признаков с помощью CatBoostClassifier"
   ]
  },
  {
   "cell_type": "code",
   "execution_count": null,
   "metadata": {
    "id": "CY77hG1lX70u"
   },
   "outputs": [],
   "source": [
    "cat_fi = cat.CatBoostClassifier(task_type='GPU')\n",
    "cat_fi.fit(X_train,y_train,cat_features=obj_cols.values, eval_set=(X_test, y_test), silent=True)"
   ]
  },
  {
   "cell_type": "code",
   "execution_count": 25,
   "metadata": {
    "colab": {
     "base_uri": "https://localhost:8080/",
     "height": 585
    },
    "id": "n-cvyLYCX70u",
    "outputId": "a96f7b42-c90b-43ea-84eb-3bd5141ceeea"
   },
   "outputs": [],
   "source": [
    "import pandas as pd\n",
    "cat_features_importances = cat_fi.get_feature_importance()\n",
    "cat_importances = pd.Series(cat_features_importances, index=X.columns)\n",
    "\n",
    "fig, ax = plt.subplots(figsize=(16,8))\n",
    "cat_importances.plot.bar(ax=ax)\n",
    "ax.set_title(\"Feature importances cat\")\n",
    "ax.set_ylabel(\"Importance\")\n",
    "fig.tight_layout()"
   ]
  },
  {
   "cell_type": "code",
   "execution_count": 63,
   "metadata": {
    "colab": {
     "base_uri": "https://localhost:8080/"
    },
    "id": "DJMKr9vTX70u",
    "outputId": "ea7a2b6d-0122-4716-ce96-897fd8c217ae"
   },
   "outputs": [
    {
     "name": "stdout",
     "output_type": "stream",
     "text": [
      "Index(['id', 'age_indicator', 'month_id', 'student_id', 'program_id',\n",
      "       'carts_created_at', 'spent_time_total', 'payment_type', 'promo',\n",
      "       'price', 'communication_type', 'auto_payment', 'ABC', 'gender', 'os',\n",
      "       'browser', 'm_avg_talk_duration', 'm_avg_duration', 'm_total_duration',\n",
      "       'support_feedback_avg', 'feedback_avg_d1', 'feedback_avg_d2',\n",
      "       'feedback_avg_d3', 'feedback_avg_d4', 'feedback_avg_d5'],\n",
      "      dtype='object')\n"
     ]
    }
   ],
   "source": [
    "useful_feature_idxs = np.where(cat_features_importances > 1)\n",
    "useful_columns = X.columns[useful_feature_idxs]\n",
    "print(useful_columns)"
   ]
  },
  {
   "cell_type": "code",
   "execution_count": 61,
   "metadata": {
    "id": "zUR-H3E3X70u"
   },
   "outputs": [],
   "source": [
    "# Выбрано 12 признаков путем ручных тестов\n",
    "useful_features = ['age_indicator', 'month_id', 'student_id', 'program_id',\n",
    "       'carts_created_at', 'promo', 'price', 'communication_type',\n",
    "       'auto_payment', 'ABC', 'gender', 'feedback_avg_d1']"
   ]
  },
  {
   "cell_type": "code",
   "execution_count": 62,
   "metadata": {
    "colab": {
     "base_uri": "https://localhost:8080/",
     "height": 206
    },
    "id": "bTBY3eGUX70u",
    "outputId": "94073d00-34f0-4ef4-ce48-14c373574aa0"
   },
   "outputs": [
    {
     "data": {
      "text/html": [
       "<div>\n",
       "<style scoped>\n",
       "    .dataframe tbody tr th:only-of-type {\n",
       "        vertical-align: middle;\n",
       "    }\n",
       "\n",
       "    .dataframe tbody tr th {\n",
       "        vertical-align: top;\n",
       "    }\n",
       "\n",
       "    .dataframe thead th {\n",
       "        text-align: right;\n",
       "    }\n",
       "</style>\n",
       "<table border=\"1\" class=\"dataframe\">\n",
       "  <thead>\n",
       "    <tr style=\"text-align: right;\">\n",
       "      <th></th>\n",
       "      <th>age_indicator</th>\n",
       "      <th>month_id</th>\n",
       "      <th>student_id</th>\n",
       "      <th>program_id</th>\n",
       "      <th>carts_created_at</th>\n",
       "      <th>promo</th>\n",
       "      <th>price</th>\n",
       "      <th>communication_type</th>\n",
       "      <th>auto_payment</th>\n",
       "      <th>ABC</th>\n",
       "      <th>gender</th>\n",
       "      <th>feedback_avg_d1</th>\n",
       "    </tr>\n",
       "  </thead>\n",
       "  <tbody>\n",
       "    <tr>\n",
       "      <th>21269</th>\n",
       "      <td>12.0</td>\n",
       "      <td>1635638400</td>\n",
       "      <td>7005300</td>\n",
       "      <td>366</td>\n",
       "      <td>1610496000</td>\n",
       "      <td>1</td>\n",
       "      <td>46299.31320</td>\n",
       "      <td>1</td>\n",
       "      <td>0</td>\n",
       "      <td>1</td>\n",
       "      <td>2.0</td>\n",
       "      <td>-9999.000</td>\n",
       "    </tr>\n",
       "    <tr>\n",
       "      <th>187660</th>\n",
       "      <td>20.0</td>\n",
       "      <td>1635638400</td>\n",
       "      <td>6825196</td>\n",
       "      <td>910</td>\n",
       "      <td>1602115200</td>\n",
       "      <td>1</td>\n",
       "      <td>17723.34135</td>\n",
       "      <td>2</td>\n",
       "      <td>0</td>\n",
       "      <td>1</td>\n",
       "      <td>0.0</td>\n",
       "      <td>-9999.000</td>\n",
       "    </tr>\n",
       "    <tr>\n",
       "      <th>774</th>\n",
       "      <td>28.0</td>\n",
       "      <td>1601424000</td>\n",
       "      <td>6747187</td>\n",
       "      <td>1360</td>\n",
       "      <td>1598313600</td>\n",
       "      <td>1</td>\n",
       "      <td>23222.96794</td>\n",
       "      <td>3</td>\n",
       "      <td>0</td>\n",
       "      <td>1</td>\n",
       "      <td>0.0</td>\n",
       "      <td>4.715</td>\n",
       "    </tr>\n",
       "    <tr>\n",
       "      <th>184577</th>\n",
       "      <td>-9999.0</td>\n",
       "      <td>1638230400</td>\n",
       "      <td>6801141</td>\n",
       "      <td>724</td>\n",
       "      <td>1599696000</td>\n",
       "      <td>1</td>\n",
       "      <td>52315.54855</td>\n",
       "      <td>1</td>\n",
       "      <td>1</td>\n",
       "      <td>2</td>\n",
       "      <td>0.0</td>\n",
       "      <td>-9999.000</td>\n",
       "    </tr>\n",
       "    <tr>\n",
       "      <th>37127</th>\n",
       "      <td>14.0</td>\n",
       "      <td>1625011200</td>\n",
       "      <td>6724992</td>\n",
       "      <td>166</td>\n",
       "      <td>1597104000</td>\n",
       "      <td>1</td>\n",
       "      <td>13847.58200</td>\n",
       "      <td>1</td>\n",
       "      <td>0</td>\n",
       "      <td>1</td>\n",
       "      <td>1.0</td>\n",
       "      <td>5.000</td>\n",
       "    </tr>\n",
       "  </tbody>\n",
       "</table>\n",
       "</div>"
      ],
      "text/plain": [
       "        age_indicator    month_id  student_id  program_id  carts_created_at  \\\n",
       "21269            12.0  1635638400     7005300         366        1610496000   \n",
       "187660           20.0  1635638400     6825196         910        1602115200   \n",
       "774              28.0  1601424000     6747187        1360        1598313600   \n",
       "184577        -9999.0  1638230400     6801141         724        1599696000   \n",
       "37127            14.0  1625011200     6724992         166        1597104000   \n",
       "\n",
       "        promo        price  communication_type  auto_payment  ABC  gender  \\\n",
       "21269       1  46299.31320                   1             0    1     2.0   \n",
       "187660      1  17723.34135                   2             0    1     0.0   \n",
       "774         1  23222.96794                   3             0    1     0.0   \n",
       "184577      1  52315.54855                   1             1    2     0.0   \n",
       "37127       1  13847.58200                   1             0    1     1.0   \n",
       "\n",
       "        feedback_avg_d1  \n",
       "21269         -9999.000  \n",
       "187660        -9999.000  \n",
       "774               4.715  \n",
       "184577        -9999.000  \n",
       "37127             5.000  "
      ]
     },
     "execution_count": 62,
     "metadata": {},
     "output_type": "execute_result"
    }
   ],
   "source": [
    "X_train[useful_features].head()"
   ]
  },
  {
   "cell_type": "markdown",
   "metadata": {},
   "source": [
    "# Ещё предобработаем данные"
   ]
  },
  {
   "cell_type": "code",
   "execution_count": 110,
   "metadata": {
    "colab": {
     "base_uri": "https://localhost:8080/",
     "height": 320
    },
    "id": "N9NzC7V8X70v",
    "outputId": "ba3d65b5-0f95-4528-eeac-57f8d1d54bf7",
    "scrolled": true
   },
   "outputs": [
    {
     "data": {
      "image/png": "[encoded data removed]",
      "text/plain": [
       "<Figure size 1440x360 with 2 Axes>"
      ]
     },
     "metadata": {
      "needs_background": "light"
     },
     "output_type": "display_data"
    }
   ],
   "source": [
    "# Посмотрим на распределение цены и log1p цены \n",
    "plt.figure(figsize=(20,5))\n",
    "plt.subplot(121, title='Price')\n",
    "plt.hist(X['price'], bins=200)\n",
    "plt.subplot(122, title='log1p(price)')\n",
    "plt.hist(X['price'].apply(np.log1p), bins=200)\n",
    "plt.show()\n",
    "# Очевидно лучше поправить распределение, взяв логарифм"
   ]
  },
  {
   "cell_type": "code",
   "execution_count": 111,
   "metadata": {
    "id": "UbC-I2j9X70v"
   },
   "outputs": [],
   "source": [
    "num_features = [\n",
    "    'age_indicator', \n",
    "    'price', \n",
    "    'feedback_avg_d1'\n",
    "]\n",
    "\n",
    "useful_features = ['age_indicator', 'month_id', 'student_id', 'program_id',\n",
    "       'carts_created_at', 'promo', 'price', 'communication_type',\n",
    "       'auto_payment', 'ABC', 'gender', 'feedback_avg_d1']\n",
    "\n",
    "obj_cols_to_use = np.intersect1d(useful_features, obj_cols)\n",
    "# array(['ABC', 'communication_type', 'promo'], dtype=object)"
   ]
  },
  {
   "cell_type": "code",
   "execution_count": 112,
   "metadata": {
    "id": "3e4u5EodX70w"
   },
   "outputs": [],
   "source": [
    "X_train, X_test, y_train, y_test = train_test_split(X, y, test_size=0.3, random_state=42)\n",
    "\n",
    "# Берем log1p от цены\n",
    "X_train['price'] = X_train['price'].apply(np.log1p)\n",
    "X_test['price'] = X_test['price'].apply(np.log1p)\n",
    "\n",
    "d_scaler_std = defaultdict(StandardScaler)\n",
    "# Нормализуем числовые фичи\n",
    "num_features_train = X_train[num_features].apply(lambda x: d_scaler_std[x.name].fit_transform(x.values.reshape(-1, 1))[:,0])\n",
    "num_features_test = X_test[num_features].apply(lambda x: d_scaler_std[x.name].transform(x.values.reshape(-1, 1))[:,0])\n",
    "X_train.update(num_features_train)\n",
    "X_test.update(num_features_test)\n",
    "\n",
    "# Кодируем числами категориальные фичи\n",
    "encoder = ce.OrdinalEncoder(cols=obj_cols)\n",
    "encoder.fit(X_train)\n",
    "X_train = encoder.transform(X_train)\n",
    "X_test = encoder.transform(X_test)\n",
    "X_train[obj_cols] = X_train[obj_cols].astype(int)\n",
    "X_test[obj_cols] = X_test[obj_cols].astype(int)\n",
    "\n",
    "# Выбираем только нужные \n",
    "X_train = X_train[useful_features]\n",
    "X_test = X_test[useful_features]"
   ]
  },
  {
   "cell_type": "markdown",
   "metadata": {},
   "source": [
    "# XGBoost"
   ]
  },
  {
   "cell_type": "code",
   "execution_count": 247,
   "metadata": {},
   "outputs": [],
   "source": [
    "from xgboost import XGBClassifier"
   ]
  },
  {
   "cell_type": "code",
   "execution_count": 250,
   "metadata": {},
   "outputs": [
    {
     "name": "stdout",
     "output_type": "stream",
     "text": [
      "XGBClassifier(base_score=0.5, booster='gbtree', callbacks=None,\n",
      "              colsample_bylevel=1, colsample_bynode=1, colsample_bytree=1,\n",
      "              early_stopping_rounds=None, enable_categorical=False, eta=0.1,\n",
      "              eval_metric=None, gamma=0, gpu_id=0, grow_policy='depthwise',\n",
      "              importance_type=None, interaction_constraints='',\n",
      "              learning_rate=0.100000001, max_bin=256, max_cat_to_onehot=4,\n",
      "              max_delta_step=0, max_depth=12, max_leaves=0, min_child_weight=1,\n",
      "              missing=nan, monotone_constraints='()', n_estimators=2000,\n",
      "              n_jobs=0, num_parallel_tree=1, objective='multi:softprob',\n",
      "              predictor='auto', random_state=9195, ...) \n",
      " 0.9260393815545094\n"
     ]
    }
   ],
   "source": [
    "clf = XGBClassifier(\n",
    "    gpu_id=0,\n",
    "    tree_method='gpu_hist',\n",
    "    random_state=9195,\n",
    "    max_depth=12,\n",
    "    subsample=0.8,\n",
    "    n_estimators=2000,\n",
    "    eta = 0.1\n",
    ")\n",
    "\n",
    "clf.fit(X_train, y_train)\n",
    "pred = clf.predict(X_test)\n",
    "print(clf,'\\n',metric_func(y_test, pred))"
   ]
  },
  {
   "cell_type": "code",
   "execution_count": 257,
   "metadata": {},
   "outputs": [
    {
     "name": "stdout",
     "output_type": "stream",
     "text": [
      "XGBClassifier(base_score=0.5, booster='gbtree', callbacks=None,\n",
      "              colsample_bylevel=1, colsample_bynode=1, colsample_bytree=1,\n",
      "              early_stopping_rounds=None, enable_categorical=False, eta=0.1,\n",
      "              eval_metric=None, gamma=0, gpu_id=0, grow_policy='depthwise',\n",
      "              importance_type=None, interaction_constraints='',\n",
      "              learning_rate=0.100000001, max_bin=256, max_cat_to_onehot=4,\n",
      "              max_delta_step=0, max_depth=12, max_leaves=0, min_child_weight=1,\n",
      "              missing=nan, monotone_constraints='()', n_estimators=3000,\n",
      "              n_jobs=0, num_parallel_tree=1, objective='multi:softprob',\n",
      "              predictor='auto', random_state=9195, ...) \n",
      " 0.9261179333704244\n"
     ]
    }
   ],
   "source": [
    "clf = XGBClassifier(\n",
    "    gpu_id=0,\n",
    "    tree_method='gpu_hist',\n",
    "    random_state=9195,\n",
    "    max_depth=12,\n",
    "    subsample=0.8,\n",
    "    n_estimators=3000,\n",
    "    eta = 0.1\n",
    ")\n",
    "\n",
    "clf.fit(X_train, y_train)\n",
    "pred = clf.predict(X_test)\n",
    "print(clf,'\\n',metric_func(y_test, pred))"
   ]
  },
  {
   "cell_type": "code",
   "execution_count": 258,
   "metadata": {},
   "outputs": [
    {
     "name": "stdout",
     "output_type": "stream",
     "text": [
      "XGBClassifier(base_score=0.5, booster='gbtree', callbacks=None,\n",
      "              colsample_bylevel=1, colsample_bynode=1, colsample_bytree=1,\n",
      "              early_stopping_rounds=None, enable_categorical=False, eta=0.1,\n",
      "              eval_metric=None, gamma=0, gpu_id=0, grow_policy='depthwise',\n",
      "              importance_type=None, interaction_constraints='',\n",
      "              learning_rate=0.100000001, max_bin=256, max_cat_to_onehot=4,\n",
      "              max_delta_step=0, max_depth=12, max_leaves=0, min_child_weight=1,\n",
      "              missing=nan, monotone_constraints='()', n_estimators=4000,\n",
      "              n_jobs=0, num_parallel_tree=1, objective='multi:softprob',\n",
      "              predictor='auto', random_state=9195, ...) \n",
      " 0.9252079224883073\n"
     ]
    }
   ],
   "source": [
    "clf = XGBClassifier(\n",
    "    gpu_id=0,\n",
    "    tree_method='gpu_hist',\n",
    "    random_state=9195,\n",
    "    max_depth=12,\n",
    "    subsample=0.8,\n",
    "    n_estimators=3000,\n",
    "    eta = 0.1,\n",
    "    \n",
    ")\n",
    "\n",
    "clf.fit(X_train, y_train)\n",
    "pred = clf.predict(X_test)\n",
    "print(clf,'\\n',metric_func(y_test, pred))"
   ]
  },
  {
   "cell_type": "code",
   "execution_count": 259,
   "metadata": {},
   "outputs": [
    {
     "name": "stdout",
     "output_type": "stream",
     "text": [
      "XGBClassifier(base_score=0.5, booster='gbtree', callbacks=None,\n",
      "              colsample_bylevel=1, colsample_bynode=1, colsample_bytree=1,\n",
      "              early_stopping_rounds=None, enable_categorical=False, eta=0.1,\n",
      "              eval_metric=None, gamma=0, gpu_id=0, grow_policy='depthwise',\n",
      "              importance_type=None, interaction_constraints='',\n",
      "              learning_rate=0.100000001, max_bin=256, max_cat_to_onehot=4,\n",
      "              max_delta_step=0, max_depth=12, max_leaves=0, min_child_weight=1,\n",
      "              missing=nan, monotone_constraints='()', n_estimators=2000,\n",
      "              n_jobs=0, num_parallel_tree=1, objective='multi:softprob',\n",
      "              predictor='auto', random_state=9195, ...) \n",
      " 0.9264779888846408\n"
     ]
    }
   ],
   "source": [
    "clf = XGBClassifier(\n",
    "    gpu_id=0,\n",
    "    tree_method='gpu_hist',\n",
    "    random_state=9195,\n",
    "    max_depth=12,\n",
    "    subsample=0.9,\n",
    "    n_estimators=2000,\n",
    "    eta = 0.1\n",
    ")\n",
    "\n",
    "clf.fit(X_train, y_train)\n",
    "pred = clf.predict(X_test)\n",
    "print(clf,'\\n',metric_func(y_test, pred))"
   ]
  },
  {
   "cell_type": "code",
   "execution_count": 260,
   "metadata": {},
   "outputs": [
    {
     "name": "stdout",
     "output_type": "stream",
     "text": [
      "XGBClassifier(base_score=0.5, booster='gbtree', callbacks=None,\n",
      "              colsample_bylevel=1, colsample_bynode=1, colsample_bytree=1,\n",
      "              early_stopping_rounds=None, enable_categorical=False, eta=0.1,\n",
      "              eval_metric=None, gamma=0, gpu_id=0, grow_policy='depthwise',\n",
      "              importance_type=None, interaction_constraints='',\n",
      "              learning_rate=0.100000001, max_bin=256, max_cat_to_onehot=4,\n",
      "              max_delta_step=0, max_depth=12, max_leaves=0, min_child_weight=1,\n",
      "              missing=nan, monotone_constraints='()', n_estimators=2000,\n",
      "              n_jobs=0, num_parallel_tree=1, objective='multi:softprob',\n",
      "              predictor='auto', random_state=9195, ...) \n",
      " 0.9260364638422689\n"
     ]
    }
   ],
   "source": [
    "clf = XGBClassifier(\n",
    "    gpu_id=0,\n",
    "    tree_method='gpu_hist',\n",
    "    random_state=9195,\n",
    "    max_depth=12,\n",
    "    subsample=0.95,\n",
    "    n_estimators=2000,\n",
    "    eta = 0.1\n",
    ")\n",
    "\n",
    "clf.fit(X_train, y_train)\n",
    "pred = clf.predict(X_test)\n",
    "print(clf,'\\n',metric_func(y_test, pred))"
   ]
  },
  {
   "cell_type": "code",
   "execution_count": 276,
   "metadata": {},
   "outputs": [
    {
     "name": "stdout",
     "output_type": "stream",
     "text": [
      "XGBClassifier(base_score=0.5, booster='gbtree', callbacks=None,\n",
      "              colsample_bylevel=1, colsample_bynode=1, colsample_bytree=1,\n",
      "              early_stopping_rounds=None, enable_categorical=False, eta=0.1,\n",
      "              eval_metric=None, gamma=0, gpu_id=0, grow_policy='depthwise',\n",
      "              importance_type=None, interaction_constraints='',\n",
      "              learning_rate=0.100000001, max_bin=256, max_cat_to_onehot=4,\n",
      "              max_delta_step=0, max_depth=12, max_leaves=0, min_child_weight=1,\n",
      "              missing=nan, monotone_constraints='()', n_estimators=2000,\n",
      "              n_jobs=0, num_parallel_tree=1, objective='multi:softprob',\n",
      "              predictor='auto', random_state=9195, ...) \n",
      " 0.9273049667590266\n"
     ]
    }
   ],
   "source": [
    "# Best params\n",
    "clf = XGBClassifier(\n",
    "    gpu_id=0,\n",
    "    tree_method='gpu_hist',\n",
    "    random_state=9195,\n",
    "    max_depth=12,\n",
    "    subsample=0.85,\n",
    "    n_estimators=2000,\n",
    "    eta = 0.1\n",
    ")\n",
    "\n",
    "clf.fit(X_train, y_train)\n",
    "pred = clf.predict(X_test)\n",
    "print(clf,'\\n',metric_func(y_test, pred))"
   ]
  },
  {
   "cell_type": "markdown",
   "metadata": {
    "id": "M4UKTty0X70x"
   },
   "source": [
    "# Bagging "
   ]
  },
  {
   "cell_type": "code",
   "execution_count": 26,
   "metadata": {},
   "outputs": [],
   "source": [
    "probas = []\n",
    "# Changing random_seed\n",
    "for i in range(0,10):\n",
    "    clf = XGBClassifier(\n",
    "    gpu_id=0,\n",
    "    tree_method='gpu_hist',\n",
    "    random_state=i,\n",
    "    max_depth=12,\n",
    "    subsample=0.85,\n",
    "    n_estimators=2000,\n",
    "    eta = 0.1\n",
    "    )\n",
    "\n",
    "    clf.fit(X_train, y_train)\n",
    "    probas.append(clf.predict_proba(X_test))\n",
    "    print(\"Iteration {} ended\".format(i))"
   ]
  },
  {
   "cell_type": "code",
   "execution_count": 1,
   "metadata": {},
   "outputs": [],
   "source": [
    "# bagging with xgboost\n",
    "metric_func(y_test, np.array(probas).sum(axis=0).argmax(axis=1))"
   ]
  },
  {
   "cell_type": "markdown",
   "metadata": {
    "id": "FwjwakqOX707"
   },
   "source": [
    "# Предсказываем тест"
   ]
  },
  {
   "cell_type": "code",
   "execution_count": 286,
   "metadata": {
    "id": "1afkvfhkX708"
   },
   "outputs": [],
   "source": [
    "subm_df = pd.read_csv(\"test_dataset_test.csv\")\n",
    "subm_df = subm_df.fillna(-9999)"
   ]
  },
  {
   "cell_type": "code",
   "execution_count": 287,
   "metadata": {
    "id": "hNP-auoLX708",
    "scrolled": false
   },
   "outputs": [],
   "source": [
    "encoder_subm = ce.OrdinalEncoder(cols=obj_cols)\n",
    "d_scaler_std_subm = defaultdict(StandardScaler)\n",
    "##############################################\n",
    "# Preparing train dataset for training\n",
    "##############################################\n",
    "# Ordinally encoding and converting to int categorical features \n",
    "X_encoded = encoder_subm.fit_transform(X)\n",
    "X_encoded[obj_cols] = X_encoded[obj_cols].astype(int)\n",
    "# Taking log1p of price\n",
    "X_encoded['price'] = X_encoded['price'].apply(np.log1p)\n",
    "# STD scaler with defaultdict to scale all num_features in train dataset\n",
    "num_features_all_train = X_encoded[num_features].apply(lambda x: d_scaler_std_subm[x.name].fit_transform(x.values.reshape(-1, 1))[:,0])\n",
    "X_encoded.update(num_features_all_train)\n",
    "\n",
    "##############################################\n",
    "# Preparing test dataset for submition\n",
    "##############################################\n",
    "X_subm = subm_df\n",
    "# Converting time features to int timestamp\n",
    "X_subm[time_cols] = X_subm[time_cols].apply(convert_strDatetime_to_int)\n",
    "# Ordinally encoding and converting to int categorical features \n",
    "X_subm[obj_cols] = X_subm[obj_cols].astype(str)\n",
    "X_subm = encoder_subm.transform(X_subm)\n",
    "X_subm[obj_cols] = X_subm[obj_cols].astype(int)\n",
    "# Taking log1p of price \n",
    "X_subm['price'] = X_subm['price'].apply(np.log1p)\n",
    "# Using the defalutdict to normalize numerical features in test dataset\n",
    "num_features_subm = X_subm[num_features].apply(lambda x: d_scaler_std_subm[x.name].transform(x.values.reshape(-1, 1))[:,0])\n",
    "X_subm.update(num_features_subm)"
   ]
  },
  {
   "cell_type": "markdown",
   "metadata": {
    "heading_collapsed": true
   },
   "source": [
    "## XGBoost submission"
   ]
  },
  {
   "cell_type": "code",
   "execution_count": 265,
   "metadata": {
    "hidden": true
   },
   "outputs": [
    {
     "name": "stdout",
     "output_type": "stream",
     "text": [
      "Predctions are ready\n"
     ]
    }
   ],
   "source": [
    "# xgb_subm =  XGBClassifier(\n",
    "#     gpu_id=0,\n",
    "#     tree_method='gpu_hist',\n",
    "#     random_state=9195,\n",
    "#     max_depth=12,\n",
    "#     subsample=0.85,\n",
    "#     n_estimators=2000,\n",
    "#     eta = 0.1\n",
    "# )\n",
    "# xgb_subm.fit(X_encoded[useful_features], y)\n",
    "# y_subm = xgb_subm.predict(X_subm[useful_features])\n",
    "# print(\"Predctions are ready\")"
   ]
  },
  {
   "cell_type": "markdown",
   "metadata": {
    "id": "R9D9VcG9X709"
   },
   "source": [
    "## Bagging Submission"
   ]
  },
  {
   "cell_type": "markdown",
   "metadata": {},
   "source": [
    "### Bagging - XGBoost"
   ]
  },
  {
   "cell_type": "code",
   "execution_count": null,
   "metadata": {},
   "outputs": [],
   "source": [
    "probas_subm = []\n",
    "\n",
    "subm_iterations = 2000\n",
    "for i in range(0, 10):\n",
    "    clf_xgb_subm = XGBClassifier(\n",
    "        gpu_id=0,\n",
    "        tree_method='gpu_hist',\n",
    "        random_state=i,\n",
    "        max_depth=12,\n",
    "        subsample=0.85,\n",
    "        n_estimators=subm_iterations,\n",
    "        eta = 0.1\n",
    "    )\n",
    "\n",
    "    clf_xgb_subm.fit(X_encoded[useful_features], y)\n",
    "    \n",
    "    # Saving models\n",
    "    if not os.path.exists(\"xgb_bag\"):\n",
    "        os.mkdir(\"xgb_bag\")\n",
    "    clf_xgb_subm.save_model(fname=\"xgb_bag/\"+f\"xgb_bag_{subm_iterations}_{i}\")\n",
    "    \n",
    "    probas_subm.append(clf_xgb_subm.predict_proba(X_subm[useful_features]))\n",
    "    print(\"Iteration {} ended\".format(i))"
   ]
  },
  {
   "cell_type": "code",
   "execution_count": null,
   "metadata": {
    "id": "HQ496B9bX709"
   },
   "outputs": [],
   "source": [
    "y_subm = np.array(probas_subm).sum(axis=0).argmax(axis=1)"
   ]
  },
  {
   "cell_type": "markdown",
   "metadata": {
    "id": "4vjW73voX71A"
   },
   "source": [
    "#  Saving submission"
   ]
  },
  {
   "cell_type": "code",
   "execution_count": null,
   "metadata": {
    "id": "SBH1rQUiX71A"
   },
   "outputs": [],
   "source": [
    "subm_file = \"sample_solution.csv\"\n",
    "submission = pd.read_csv(subm_file)\n",
    "submission['target'] = y_subm"
   ]
  },
  {
   "cell_type": "code",
   "execution_count": null,
   "metadata": {
    "id": "VrqE1yHUX71B"
   },
   "outputs": [],
   "source": [
    "from datetime import datetime\n",
    "time_str = datetime.now().strftime('%d-%m-%Y_%H-%M-%S')\n",
    "\n",
    "# Saving the submission\n",
    "filename = \"Oren_subm_{}\".format(time_str)\n",
    "submission.to_csv(\"Submissions/{}.csv\".format(filename), sep=',', index=False)"
   ]
  }
 ],
 "metadata": {
  "accelerator": "GPU",
  "colab": {
   "collapsed_sections": [],
   "name": "Netology_Champ_notebook.ipynb",
   "provenance": []
  },
  "gpuClass": "standard",
  "kernelspec": {
   "display_name": "Python 3 (ipykernel)",
   "language": "python",
   "name": "python3"
  },
  "language_info": {
   "codemirror_mode": {
    "name": "ipython",
    "version": 3
   },
   "file_extension": ".py",
   "mimetype": "text/x-python",
   "name": "python",
   "nbconvert_exporter": "python",
   "pygments_lexer": "ipython3",
   "version": "3.9.13"
  },
  "widgets": {
   "application/vnd.jupyter.widget-state+json": {
    "cba277aea01a4abdaf2f05e7ab323021": {
     "model_module": "catboost-widget",
     "model_module_version": "^1.0.0",
     "model_name": "CatboostWidgetModel",
     "state": {
      "_dom_classes": [],
      "_model_module": "catboost-widget",
      "_model_module_version": "^1.0.0",
      "_model_name": "CatboostWidgetModel",
      "_view_count": null,
      "_view_module": "catboost-widget",
      "_view_module_version": "^1.0.0",
      "_view_name": "CatboostWidgetView",
      "data": {
       "catboost_info": {
        "content": {
         "data": {
          "iterations": [
           {
            "iteration": 0,
            "learn": [
             0.5053576451
            ],
            "passed_time": 0.1376591513,
            "remaining_time": 412.8397946,
            "test": [
             0.5053924479
            ]
           },
           {
            "iteration": 1,
            "learn": [
             0.3914363281
            ],
            "passed_time": 0.2577118619,
            "remaining_time": 386.310081,
            "test": [
             0.3915516927
            ]
           },
           {
            "iteration": 2,
            "learn": [
             0.3163080636
            ],
            "passed_time": 0.3329866728,
            "remaining_time": 332.6536861,
            "test": [
             0.3165499674
            ]
           },
           {
            "iteration": 3,
            "learn": [
             0.2642869699
            ],
            "passed_time": 0.4151001446,
            "remaining_time": 310.9100083,
            "test": [
             0.264750472
            ]
           },
           {
            "iteration": 4,
            "learn": [
             0.2271069754
            ],
            "passed_time": 0.4832733712,
            "remaining_time": 289.4807493,
            "test": [
             0.2277561361
            ]
           },
           {
            "iteration": 5,
            "learn": [
             0.200476702
            ],
            "passed_time": 0.5479276296,
            "remaining_time": 273.4158872,
            "test": [
             0.2013169759
            ]
           },
           {
            "iteration": 6,
            "learn": [
             0.1809451311
            ],
            "passed_time": 0.6184066421,
            "remaining_time": 264.4130114,
            "test": [
             0.1818622559
            ]
           },
           {
            "iteration": 7,
            "learn": [
             0.1660840123
            ],
            "passed_time": 0.6935926459,
            "remaining_time": 259.4036496,
            "test": [
             0.1674423828
            ]
           },
           {
            "iteration": 8,
            "learn": [
             0.1547621233
            ],
            "passed_time": 0.7775969458,
            "remaining_time": 258.421385,
            "test": [
             0.1564798828
            ]
           },
           {
            "iteration": 9,
            "learn": [
             0.1465079799
            ],
            "passed_time": 0.8453065136,
            "remaining_time": 252.7466476,
            "test": [
             0.1484989746
            ]
           },
           {
            "iteration": 10,
            "learn": [
             0.1397742885
            ],
            "passed_time": 0.9141333524,
            "remaining_time": 248.3949627,
            "test": [
             0.1422350911
            ]
           },
           {
            "iteration": 11,
            "learn": [
             0.1346426897
            ],
            "passed_time": 0.9871060678,
            "remaining_time": 245.7894109,
            "test": [
             0.137547526
            ]
           },
           {
            "iteration": 12,
            "learn": [
             0.1306873884
            ],
            "passed_time": 1.049395635,
            "remaining_time": 241.1188279,
            "test": [
             0.1339155029
            ]
           },
           {
            "iteration": 13,
            "learn": [
             0.1273815988
            ],
            "passed_time": 1.119505956,
            "remaining_time": 238.7746276,
            "test": [
             0.1311104411
            ]
           },
           {
            "iteration": 14,
            "learn": [
             0.1249921038
            ],
            "passed_time": 1.181456695,
            "remaining_time": 235.1098823,
            "test": [
             0.1289874349
            ]
           },
           {
            "iteration": 15,
            "learn": [
             0.1220577288
            ],
            "passed_time": 1.256081539,
            "remaining_time": 234.2592071,
            "test": [
             0.1264461019
            ]
           },
           {
            "iteration": 16,
            "learn": [
             0.1197201172
            ],
            "passed_time": 1.322210958,
            "remaining_time": 232.0091346,
            "test": [
             0.1245607829
            ]
           },
           {
            "iteration": 17,
            "learn": [
             0.1167666504
            ],
            "passed_time": 1.406922296,
            "remaining_time": 233.0801271,
            "test": [
             0.1224422852
            ]
           },
           {
            "iteration": 18,
            "learn": [
             0.1154256417
            ],
            "passed_time": 1.47008172,
            "remaining_time": 230.6480846,
            "test": [
             0.1214869141
            ]
           },
           {
            "iteration": 19,
            "learn": [
             0.1137838937
            ],
            "passed_time": 1.544823347,
            "remaining_time": 230.1786787,
            "test": [
             0.1204644043
            ]
           },
           {
            "iteration": 20,
            "learn": [
             0.1127277623
            ],
            "passed_time": 1.619009823,
            "remaining_time": 229.6681077,
            "test": [
             0.1197136068
            ]
           },
           {
            "iteration": 21,
            "learn": [
             0.1112952846
            ],
            "passed_time": 1.690109625,
            "remaining_time": 228.7793848,
            "test": [
             0.1187724935
            ]
           },
           {
            "iteration": 22,
            "learn": [
             0.1095871443
            ],
            "passed_time": 1.771926985,
            "remaining_time": 229.3489841,
            "test": [
             0.117607251
            ]
           },
           {
            "iteration": 23,
            "learn": [
             0.1086988421
            ],
            "passed_time": 1.841858228,
            "remaining_time": 228.3904203,
            "test": [
             0.1170783366
            ]
           },
           {
            "iteration": 24,
            "learn": [
             0.1073794573
            ],
            "passed_time": 1.910189919,
            "remaining_time": 227.3126004,
            "test": [
             0.1161950602
            ]
           },
           {
            "iteration": 25,
            "learn": [
             0.106342034
            ],
            "passed_time": 1.977834586,
            "remaining_time": 226.2338484,
            "test": [
             0.1153748372
            ]
           },
           {
            "iteration": 26,
            "learn": [
             0.1051051479
            ],
            "passed_time": 2.047569558,
            "remaining_time": 225.4601591,
            "test": [
             0.1145090007
            ]
           },
           {
            "iteration": 27,
            "learn": [
             0.1036419434
            ],
            "passed_time": 2.123752343,
            "remaining_time": 225.4211416,
            "test": [
             0.1135046468
            ]
           },
           {
            "iteration": 28,
            "learn": [
             0.101955113
            ],
            "passed_time": 2.200947265,
            "remaining_time": 225.4832525,
            "test": [
             0.1124922689
            ]
           },
           {
            "iteration": 29,
            "learn": [
             0.1005421387
            ],
            "passed_time": 2.272896763,
            "remaining_time": 225.0167795,
            "test": [
             0.1115779622
            ]
           },
           {
            "iteration": 30,
            "learn": [
             0.09847137974
            ],
            "passed_time": 2.356773037,
            "remaining_time": 225.718037,
            "test": [
             0.1101817708
            ]
           },
           {
            "iteration": 31,
            "learn": [
             0.09646000977
            ],
            "passed_time": 2.443987739,
            "remaining_time": 226.6798628,
            "test": [
             0.1088579427
            ]
           },
           {
            "iteration": 32,
            "learn": [
             0.09497700893
            ],
            "passed_time": 2.515138595,
            "remaining_time": 226.1338246,
            "test": [
             0.1077001872
            ]
           },
           {
            "iteration": 33,
            "learn": [
             0.09390011858
            ],
            "passed_time": 2.595876833,
            "remaining_time": 226.452079,
            "test": [
             0.1070224121
            ]
           },
           {
            "iteration": 34,
            "learn": [
             0.09272785993
            ],
            "passed_time": 2.668703815,
            "remaining_time": 226.0773374,
            "test": [
             0.1061295573
            ]
           },
           {
            "iteration": 35,
            "learn": [
             0.09125908901
            ],
            "passed_time": 2.737963527,
            "remaining_time": 225.4256638,
            "test": [
             0.1051210856
            ]
           },
           {
            "iteration": 36,
            "learn": [
             0.08972109375
            ],
            "passed_time": 2.814156791,
            "remaining_time": 225.3607182,
            "test": [
             0.1039937174
            ]
           },
           {
            "iteration": 37,
            "learn": [
             0.08894412667
            ],
            "passed_time": 2.88142831,
            "remaining_time": 224.599754,
            "test": [
             0.1034469645
            ]
           },
           {
            "iteration": 38,
            "learn": [
             0.08770122768
            ],
            "passed_time": 2.959062998,
            "remaining_time": 224.6611676,
            "test": [
             0.1026621582
            ]
           },
           {
            "iteration": 39,
            "learn": [
             0.08680777762
            ],
            "passed_time": 3.025275483,
            "remaining_time": 223.8703858,
            "test": [
             0.1018761719
            ]
           },
           {
            "iteration": 40,
            "learn": [
             0.085385512
            ],
            "passed_time": 3.102974893,
            "remaining_time": 223.9439685,
            "test": [
             0.1007547038
            ]
           },
           {
            "iteration": 41,
            "learn": [
             0.0848387486
            ],
            "passed_time": 3.171481034,
            "remaining_time": 223.3628785,
            "test": [
             0.1002563639
            ]
           },
           {
            "iteration": 42,
            "learn": [
             0.08428632115
            ],
            "passed_time": 3.238265487,
            "remaining_time": 222.6872336,
            "test": [
             0.09988846842
            ]
           },
           {
            "iteration": 43,
            "learn": [
             0.08356767578
            ],
            "passed_time": 3.313101429,
            "remaining_time": 222.5801778,
            "test": [
             0.09943479818
            ]
           },
           {
            "iteration": 44,
            "learn": [
             0.0825945731
            ],
            "passed_time": 3.389493236,
            "remaining_time": 222.5767225,
            "test": [
             0.09870906576
            ]
           },
           {
            "iteration": 45,
            "learn": [
             0.08228250558
            ],
            "passed_time": 3.450037389,
            "remaining_time": 221.552401,
            "test": [
             0.09847185872
            ]
           },
           {
            "iteration": 46,
            "learn": [
             0.08109455218
            ],
            "passed_time": 3.522314121,
            "remaining_time": 221.3062468,
            "test": [
             0.09761026204
            ]
           },
           {
            "iteration": 47,
            "learn": [
             0.08060388532
            ],
            "passed_time": 3.604212125,
            "remaining_time": 221.6590457,
            "test": [
             0.09727770182
            ]
           },
           {
            "iteration": 48,
            "learn": [
             0.08020404576
            ],
            "passed_time": 3.671389666,
            "remaining_time": 221.1075695,
            "test": [
             0.09701785482
            ]
           },
           {
            "iteration": 49,
            "learn": [
             0.07929912807
            ],
            "passed_time": 3.741620983,
            "remaining_time": 220.755638,
            "test": [
             0.0963682373
            ]
           },
           {
            "iteration": 50,
            "learn": [
             0.07859864676
            ],
            "passed_time": 3.831715355,
            "remaining_time": 221.5633055,
            "test": [
             0.09595152181
            ]
           },
           {
            "iteration": 51,
            "learn": [
             0.07766856864
            ],
            "passed_time": 3.907865389,
            "remaining_time": 221.5459071,
            "test": [
             0.09534936523
            ]
           },
           {
            "iteration": 52,
            "learn": [
             0.07683754185
            ],
            "passed_time": 3.983754922,
            "remaining_time": 221.5118067,
            "test": [
             0.09476747233
            ]
           },
           {
            "iteration": 53,
            "learn": [
             0.07604209682
            ],
            "passed_time": 4.052688993,
            "remaining_time": 221.0966995,
            "test": [
             0.09426490885
            ]
           },
           {
            "iteration": 54,
            "learn": [
             0.07524806083
            ],
            "passed_time": 4.121103734,
            "remaining_time": 220.6663727,
            "test": [
             0.09380223796
            ]
           },
           {
            "iteration": 55,
            "learn": [
             0.07477816685
            ],
            "passed_time": 4.185613246,
            "remaining_time": 220.0436678,
            "test": [
             0.0935607666
            ]
           },
           {
            "iteration": 56,
            "learn": [
             0.07373581194
            ],
            "passed_time": 4.257448732,
            "remaining_time": 219.8188003,
            "test": [
             0.0926291748
            ]
           },
           {
            "iteration": 57,
            "learn": [
             0.07295055804
            ],
            "passed_time": 4.335149248,
            "remaining_time": 219.8967084,
            "test": [
             0.09204995117
            ]
           },
           {
            "iteration": 58,
            "learn": [
             0.0722750279
            ],
            "passed_time": 4.407824982,
            "remaining_time": 219.718869,
            "test": [
             0.09159921875
            ]
           },
           {
            "iteration": 59,
            "learn": [
             0.07165740095
            ],
            "passed_time": 4.479582497,
            "remaining_time": 219.4995423,
            "test": [
             0.09130524089
            ]
           },
           {
            "iteration": 60,
            "learn": [
             0.07108261021
            ],
            "passed_time": 4.5465907,
            "remaining_time": 219.0562306,
            "test": [
             0.09093425293
            ]
           },
           {
            "iteration": 61,
            "learn": [
             0.07020787528
            ],
            "passed_time": 4.628552655,
            "remaining_time": 219.3336726,
            "test": [
             0.09031918945
            ]
           },
           {
            "iteration": 62,
            "learn": [
             0.06922682757
            ],
            "passed_time": 4.706379154,
            "remaining_time": 219.4069139,
            "test": [
             0.08956098633
            ]
           },
           {
            "iteration": 63,
            "learn": [
             0.06847248884
            ],
            "passed_time": 4.776500845,
            "remaining_time": 219.1219763,
            "test": [
             0.08905205078
            ]
           },
           {
            "iteration": 64,
            "learn": [
             0.0678371861
            ],
            "passed_time": 4.857842656,
            "remaining_time": 219.3502799,
            "test": [
             0.0886369873
            ]
           },
           {
            "iteration": 65,
            "learn": [
             0.06711874302
            ],
            "passed_time": 4.934275763,
            "remaining_time": 219.3509862,
            "test": [
             0.0879957194
            ]
           },
           {
            "iteration": 66,
            "learn": [
             0.06680052316
            ],
            "passed_time": 4.999760521,
            "remaining_time": 218.8701136,
            "test": [
             0.08784228516
            ]
           },
           {
            "iteration": 67,
            "learn": [
             0.06622527902
            ],
            "passed_time": 5.068858011,
            "remaining_time": 218.5572307,
            "test": [
             0.08739328613
            ]
           },
           {
            "iteration": 68,
            "learn": [
             0.06559946289
            ],
            "passed_time": 5.140835298,
            "remaining_time": 218.3737429,
            "test": [
             0.08687963867
            ]
           },
           {
            "iteration": 69,
            "learn": [
             0.06500341099
            ],
            "passed_time": 5.212276839,
            "remaining_time": 218.1710163,
            "test": [
             0.08637633464
            ]
           },
           {
            "iteration": 70,
            "learn": [
             0.06450763114
            ],
            "passed_time": 5.281055001,
            "remaining_time": 217.862114,
            "test": [
             0.08609117025
            ]
           },
           {
            "iteration": 71,
            "learn": [
             0.06387873884
            ],
            "passed_time": 5.348575805,
            "remaining_time": 217.5087494,
            "test": [
             0.08570664062
            ]
           },
           {
            "iteration": 72,
            "learn": [
             0.06347257254
            ],
            "passed_time": 5.420147328,
            "remaining_time": 217.3256333,
            "test": [
             0.08539758301
            ]
           },
           {
            "iteration": 73,
            "learn": [
             0.06317922015
            ],
            "passed_time": 5.483435115,
            "remaining_time": 216.8179885,
            "test": [
             0.08521938477
            ]
           },
           {
            "iteration": 74,
            "learn": [
             0.06260084403
            ],
            "passed_time": 5.552599403,
            "remaining_time": 216.5513767,
            "test": [
             0.08493465983
            ]
           },
           {
            "iteration": 75,
            "learn": [
             0.06200525949
            ],
            "passed_time": 5.640380495,
            "remaining_time": 217.006218,
            "test": [
             0.08454375
            ]
           },
           {
            "iteration": 76,
            "learn": [
             0.06170260184
            ],
            "passed_time": 5.70912741,
            "remaining_time": 216.724408,
            "test": [
             0.08440602214
            ]
           },
           {
            "iteration": 77,
            "learn": [
             0.06106469029
            ],
            "passed_time": 5.783866381,
            "remaining_time": 216.6725329,
            "test": [
             0.08399051921
            ]
           },
           {
            "iteration": 78,
            "learn": [
             0.06070025809
            ],
            "passed_time": 5.86089082,
            "remaining_time": 216.7045834,
            "test": [
             0.08380020345
            ]
           },
           {
            "iteration": 79,
            "learn": [
             0.06017804129
            ],
            "passed_time": 5.929997205,
            "remaining_time": 216.444898,
            "test": [
             0.08338203939
            ]
           },
           {
            "iteration": 80,
            "learn": [
             0.05974771903
            ],
            "passed_time": 5.998689236,
            "remaining_time": 216.1749862,
            "test": [
             0.0830357666
            ]
           },
           {
            "iteration": 81,
            "learn": [
             0.05941233956
            ],
            "passed_time": 6.064263094,
            "remaining_time": 215.7990209,
            "test": [
             0.08282579753
            ]
           },
           {
            "iteration": 82,
            "learn": [
             0.0588047154
            ],
            "passed_time": 6.13702942,
            "remaining_time": 215.6833111,
            "test": [
             0.08238366699
            ]
           },
           {
            "iteration": 83,
            "learn": [
             0.05855804967
            ],
            "passed_time": 6.203139524,
            "remaining_time": 215.3375577,
            "test": [
             0.08222666829
            ]
           },
           {
            "iteration": 84,
            "learn": [
             0.05817993164
            ],
            "passed_time": 6.2730971,
            "remaining_time": 215.13033,
            "test": [
             0.08191547038
            ]
           },
           {
            "iteration": 85,
            "learn": [
             0.05776900809
            ],
            "passed_time": 6.34086717,
            "remaining_time": 214.8521736,
            "test": [
             0.08161680501
            ]
           },
           {
            "iteration": 86,
            "learn": [
             0.05724404297
            ],
            "passed_time": 6.414726359,
            "remaining_time": 214.7827343,
            "test": [
             0.0813180013
            ]
           },
           {
            "iteration": 87,
            "learn": [
             0.05675410156
            ],
            "passed_time": 6.485086171,
            "remaining_time": 214.5973969,
            "test": [
             0.08096438802
            ]
           },
           {
            "iteration": 88,
            "learn": [
             0.0562008231
            ],
            "passed_time": 6.562781947,
            "remaining_time": 214.654587,
            "test": [
             0.08060106608
            ]
           },
           {
            "iteration": 89,
            "learn": [
             0.05586127581
            ],
            "passed_time": 6.64777794,
            "remaining_time": 214.9448201,
            "test": [
             0.08034967448
            ]
           },
           {
            "iteration": 90,
            "learn": [
             0.05558294503
            ],
            "passed_time": 6.712203456,
            "remaining_time": 214.5692292,
            "test": [
             0.08013021647
            ]
           },
           {
            "iteration": 91,
            "learn": [
             0.05504247001
            ],
            "passed_time": 6.78395272,
            "remaining_time": 214.4318968,
            "test": [
             0.07970898437
            ]
           },
           {
            "iteration": 92,
            "learn": [
             0.05488115932
            ],
            "passed_time": 6.844623744,
            "remaining_time": 213.9496906,
            "test": [
             0.07961763509
            ]
           },
           {
            "iteration": 93,
            "learn": [
             0.05444386509
            ],
            "passed_time": 6.926023571,
            "remaining_time": 214.1172819,
            "test": [
             0.07935891927
            ]
           },
           {
            "iteration": 94,
            "learn": [
             0.05411264648
            ],
            "passed_time": 6.992474847,
            "remaining_time": 213.8225203,
            "test": [
             0.07916953125
            ]
           },
           {
            "iteration": 95,
            "learn": [
             0.05385350516
            ],
            "passed_time": 7.060353199,
            "remaining_time": 213.5756843,
            "test": [
             0.07908229167
            ]
           },
           {
            "iteration": 96,
            "learn": [
             0.05344882464
            ],
            "passed_time": 7.134468458,
            "remaining_time": 213.5191952,
            "test": [
             0.07867298991
            ]
           },
           {
            "iteration": 97,
            "learn": [
             0.05311151297
            ],
            "passed_time": 7.202756485,
            "remaining_time": 213.289789,
            "test": [
             0.07839485677
            ]
           },
           {
            "iteration": 98,
            "learn": [
             0.05282274693
            ],
            "passed_time": 7.271094017,
            "remaining_time": 213.0650883,
            "test": [
             0.07818342285
            ]
           },
           {
            "iteration": 99,
            "learn": [
             0.05247409668
            ],
            "passed_time": 7.347097269,
            "remaining_time": 213.0658208,
            "test": [
             0.0779654541
            ]
           },
           {
            "iteration": 100,
            "learn": [
             0.05213068848
            ],
            "passed_time": 7.41392405,
            "remaining_time": 212.8016418,
            "test": [
             0.0776468099
            ]
           },
           {
            "iteration": 101,
            "learn": [
             0.05161690151
            ],
            "passed_time": 7.485476841,
            "remaining_time": 212.6756067,
            "test": [
             0.07731832682
            ]
           },
           {
            "iteration": 102,
            "learn": [
             0.05139849679
            ],
            "passed_time": 7.548292431,
            "remaining_time": 212.3048852,
            "test": [
             0.07718035482
            ]
           },
           {
            "iteration": 103,
            "learn": [
             0.05107912946
            ],
            "passed_time": 7.624850443,
            "remaining_time": 212.3227585,
            "test": [
             0.07701064453
            ]
           },
           {
            "iteration": 104,
            "learn": [
             0.05093723145
            ],
            "passed_time": 7.690729559,
            "remaining_time": 212.0444007,
            "test": [
             0.07693343913
            ]
           },
           {
            "iteration": 105,
            "learn": [
             0.0504387207
            ],
            "passed_time": 7.760825273,
            "remaining_time": 211.885173,
            "test": [
             0.07650375163
            ]
           },
           {
            "iteration": 106,
            "learn": [
             0.0501229248
            ],
            "passed_time": 7.827394915,
            "remaining_time": 211.6322756,
            "test": [
             0.0762728597
            ]
           },
           {
            "iteration": 107,
            "learn": [
             0.04976151995
            ],
            "passed_time": 7.911748167,
            "remaining_time": 211.8590343,
            "test": [
             0.07598917643
            ]
           },
           {
            "iteration": 108,
            "learn": [
             0.04940318778
            ],
            "passed_time": 7.978982814,
            "remaining_time": 211.6260488,
            "test": [
             0.07568748372
            ]
           },
           {
            "iteration": 109,
            "learn": [
             0.0491441755
            ],
            "passed_time": 8.095624408,
            "remaining_time": 212.6941322,
            "test": [
             0.07550549316
            ]
           },
           {
            "iteration": 110,
            "learn": [
             0.04878997977
            ],
            "passed_time": 8.341512479,
            "remaining_time": 217.1047707,
            "test": [
             0.0751775472
            ]
           },
           {
            "iteration": 111,
            "learn": [
             0.04833408552
            ],
            "passed_time": 8.585789471,
            "remaining_time": 221.3907142,
            "test": [
             0.07469281413
            ]
           },
           {
            "iteration": 112,
            "learn": [
             0.04785069406
            ],
            "passed_time": 8.838516771,
            "remaining_time": 225.812371,
            "test": [
             0.07437728678
            ]
           },
           {
            "iteration": 113,
            "learn": [
             0.04738603864
            ],
            "passed_time": 9.149108373,
            "remaining_time": 231.6169014,
            "test": [
             0.07399012858
            ]
           },
           {
            "iteration": 114,
            "learn": [
             0.04705563267
            ],
            "passed_time": 9.32444278,
            "remaining_time": 233.9218906,
            "test": [
             0.07383513184
            ]
           },
           {
            "iteration": 115,
            "learn": [
             0.04671903948
            ],
            "passed_time": 9.558384997,
            "remaining_time": 237.641227,
            "test": [
             0.07357552897
            ]
           },
           {
            "iteration": 116,
            "learn": [
             0.04641153041
            ],
            "passed_time": 9.727944725,
            "remaining_time": 239.7065354,
            "test": [
             0.07338169759
            ]
           },
           {
            "iteration": 117,
            "learn": [
             0.04599603097
            ],
            "passed_time": 9.872996946,
            "remaining_time": 241.1354,
            "test": [
             0.07297774251
            ]
           },
           {
            "iteration": 118,
            "learn": [
             0.0456142055
            ],
            "passed_time": 10.06406688,
            "remaining_time": 243.6519048,
            "test": [
             0.07265955404
            ]
           },
           {
            "iteration": 119,
            "learn": [
             0.04545144392
            ],
            "passed_time": 10.30010734,
            "remaining_time": 247.2025762,
            "test": [
             0.07254244792
            ]
           },
           {
            "iteration": 120,
            "learn": [
             0.04527918178
            ],
            "passed_time": 10.53990463,
            "remaining_time": 250.780045,
            "test": [
             0.07237809245
            ]
           },
           {
            "iteration": 121,
            "learn": [
             0.04495963658
            ],
            "passed_time": 10.76637685,
            "remaining_time": 253.9805949,
            "test": [
             0.07212936198
            ]
           },
           {
            "iteration": 122,
            "learn": [
             0.04472140067
            ],
            "passed_time": 11.02706372,
            "remaining_time": 257.92571,
            "test": [
             0.07190825195
            ]
           },
           {
            "iteration": 123,
            "learn": [
             0.04434639718
            ],
            "passed_time": 11.22367422,
            "remaining_time": 260.3168311,
            "test": [
             0.07157085775
            ]
           },
           {
            "iteration": 124,
            "learn": [
             0.04418156738
            ],
            "passed_time": 11.36014098,
            "remaining_time": 261.2832425,
            "test": [
             0.07145731608
            ]
           },
           {
            "iteration": 125,
            "learn": [
             0.04386961147
            ],
            "passed_time": 11.48898807,
            "remaining_time": 262.0583469,
            "test": [
             0.07122833659
            ]
           },
           {
            "iteration": 126,
            "learn": [
             0.04363840332
            ],
            "passed_time": 11.61237824,
            "remaining_time": 262.6957692,
            "test": [
             0.07103909505
            ]
           },
           {
            "iteration": 127,
            "learn": [
             0.04332022531
            ],
            "passed_time": 11.78462452,
            "remaining_time": 264.4175128,
            "test": [
             0.07081485189
            ]
           },
           {
            "iteration": 128,
            "learn": [
             0.04299568569
            ],
            "passed_time": 11.99400288,
            "remaining_time": 266.9362968,
            "test": [
             0.070553125
            ]
           },
           {
            "iteration": 129,
            "learn": [
             0.04263203823
            ],
            "passed_time": 12.22494899,
            "remaining_time": 269.8892585,
            "test": [
             0.0703300944
            ]
           },
           {
            "iteration": 130,
            "learn": [
             0.0422994036
            ],
            "passed_time": 12.39853467,
            "remaining_time": 271.5373739,
            "test": [
             0.07007009277
            ]
           },
           {
            "iteration": 131,
            "learn": [
             0.04196399972
            ],
            "passed_time": 12.62658078,
            "remaining_time": 274.3411642,
            "test": [
             0.06984808757
            ]
           },
           {
            "iteration": 132,
            "learn": [
             0.04184180036
            ],
            "passed_time": 12.85100014,
            "remaining_time": 277.0211834,
            "test": [
             0.06979625651
            ]
           },
           {
            "iteration": 133,
            "learn": [
             0.04167389788
            ],
            "passed_time": 13.00957216,
            "remaining_time": 278.249506,
            "test": [
             0.06970503743
            ]
           },
           {
            "iteration": 134,
            "learn": [
             0.04142498256
            ],
            "passed_time": 13.18937063,
            "remaining_time": 279.9077545,
            "test": [
             0.06949963379
            ]
           },
           {
            "iteration": 135,
            "learn": [
             0.0410447998
            ],
            "passed_time": 13.31491361,
            "remaining_time": 280.396416,
            "test": [
             0.06921210124
            ]
           },
           {
            "iteration": 136,
            "learn": [
             0.0406630127
            ],
            "passed_time": 13.46940588,
            "remaining_time": 281.4810878,
            "test": [
             0.0689883138
            ]
           },
           {
            "iteration": 137,
            "learn": [
             0.04042368862
            ],
            "passed_time": 13.65880396,
            "remaining_time": 283.2717168,
            "test": [
             0.06880421549
            ]
           },
           {
            "iteration": 138,
            "learn": [
             0.04019328265
            ],
            "passed_time": 13.79825257,
            "remaining_time": 284.0057597,
            "test": [
             0.06865021159
            ]
           },
           {
            "iteration": 139,
            "learn": [
             0.04003904506
            ],
            "passed_time": 14.00791893,
            "remaining_time": 286.1617725,
            "test": [
             0.06856249186
            ]
           },
           {
            "iteration": 140,
            "learn": [
             0.0398681536
            ],
            "passed_time": 14.3353492,
            "remaining_time": 290.6720806,
            "test": [
             0.0684756429
            ]
           },
           {
            "iteration": 141,
            "learn": [
             0.03973013044
            ],
            "passed_time": 14.6156985,
            "remaining_time": 294.1666641,
            "test": [
             0.06837680664
            ]
           },
           {
            "iteration": 142,
            "learn": [
             0.03947246791
            ],
            "passed_time": 14.85280843,
            "remaining_time": 296.7445712,
            "test": [
             0.06822469076
            ]
           },
           {
            "iteration": 143,
            "learn": [
             0.03917206334
            ],
            "passed_time": 14.97872199,
            "remaining_time": 297.0779861,
            "test": [
             0.0680773234
            ]
           },
           {
            "iteration": 144,
            "learn": [
             0.0389990618
            ],
            "passed_time": 15.08866676,
            "remaining_time": 297.0906455,
            "test": [
             0.06795624186
            ]
           },
           {
            "iteration": 145,
            "learn": [
             0.03885619071
            ],
            "passed_time": 15.22386913,
            "remaining_time": 297.5953596,
            "test": [
             0.06786437581
            ]
           },
           {
            "iteration": 146,
            "learn": [
             0.03867313407
            ],
            "passed_time": 15.34714702,
            "remaining_time": 297.8599351,
            "test": [
             0.06776870931
            ]
           },
           {
            "iteration": 147,
            "learn": [
             0.03846598772
            ],
            "passed_time": 15.47252694,
            "remaining_time": 298.1597759,
            "test": [
             0.06763059082
            ]
           },
           {
            "iteration": 148,
            "learn": [
             0.03807490234
            ],
            "passed_time": 15.60598932,
            "remaining_time": 298.6085608,
            "test": [
             0.06721464844
            ]
           },
           {
            "iteration": 149,
            "learn": [
             0.03789735631
            ],
            "passed_time": 15.72941326,
            "remaining_time": 298.8588519,
            "test": [
             0.06709967855
            ]
           },
           {
            "iteration": 150,
            "learn": [
             0.03763975656
            ],
            "passed_time": 15.85435349,
            "remaining_time": 299.1328019,
            "test": [
             0.06695222982
            ]
           },
           {
            "iteration": 151,
            "learn": [
             0.03740526995
            ],
            "passed_time": 15.97869026,
            "remaining_time": 299.3901965,
            "test": [
             0.0667130127
            ]
           },
           {
            "iteration": 152,
            "learn": [
             0.03717716239
            ],
            "passed_time": 16.10487482,
            "remaining_time": 299.6769845,
            "test": [
             0.06653246257
            ]
           },
           {
            "iteration": 153,
            "learn": [
             0.03692663225
            ],
            "passed_time": 16.22907212,
            "remaining_time": 299.9216835,
            "test": [
             0.06629909261
            ]
           },
           {
            "iteration": 154,
            "learn": [
             0.03669034947
            ],
            "passed_time": 16.36644454,
            "remaining_time": 300.4034498,
            "test": [
             0.06608804525
            ]
           },
           {
            "iteration": 155,
            "learn": [
             0.03653702567
            ],
            "passed_time": 16.51168689,
            "remaining_time": 301.0207534,
            "test": [
             0.06597430013
            ]
           },
           {
            "iteration": 156,
            "learn": [
             0.03628527134
            ],
            "passed_time": 16.73928186,
            "remaining_time": 303.1196072,
            "test": [
             0.06575386149
            ]
           },
           {
            "iteration": 157,
            "learn": [
             0.03608029436
            ],
            "passed_time": 16.93207886,
            "remaining_time": 304.5630894,
            "test": [
             0.06561929932
            ]
           },
           {
            "iteration": 158,
            "learn": [
             0.03590833217
            ],
            "passed_time": 17.12106668,
            "remaining_time": 305.9179273,
            "test": [
             0.06547831217
            ]
           },
           {
            "iteration": 159,
            "learn": [
             0.03571929408
            ],
            "passed_time": 17.24318894,
            "remaining_time": 306.0666037,
            "test": [
             0.06534655762
            ]
           },
           {
            "iteration": 160,
            "learn": [
             0.03532169713
            ],
            "passed_time": 17.37706305,
            "remaining_time": 306.4191429,
            "test": [
             0.06490945231
            ]
           },
           {
            "iteration": 161,
            "learn": [
             0.03518656878
            ],
            "passed_time": 17.47176199,
            "remaining_time": 306.0793859,
            "test": [
             0.06488806152
            ]
           },
           {
            "iteration": 162,
            "learn": [
             0.03505768694
            ],
            "passed_time": 17.58569034,
            "remaining_time": 306.0773221,
            "test": [
             0.06479788005
            ]
           },
           {
            "iteration": 163,
            "learn": [
             0.03486361607
            ],
            "passed_time": 17.65714899,
            "remaining_time": 305.3394789,
            "test": [
             0.06458804118
            ]
           },
           {
            "iteration": 164,
            "learn": [
             0.03467537319
            ],
            "passed_time": 17.74099464,
            "remaining_time": 304.8225442,
            "test": [
             0.06447655843
            ]
           },
           {
            "iteration": 165,
            "learn": [
             0.03439717146
            ],
            "passed_time": 17.90778776,
            "remaining_time": 305.7269308,
            "test": [
             0.06426762288
            ]
           },
           {
            "iteration": 166,
            "learn": [
             0.03417163435
            ],
            "passed_time": 18.10783977,
            "remaining_time": 307.182695,
            "test": [
             0.06403889567
            ]
           },
           {
            "iteration": 167,
            "learn": [
             0.03406513672
            ],
            "passed_time": 18.25910281,
            "remaining_time": 307.7963045,
            "test": [
             0.06398562419
            ]
           },
           {
            "iteration": 168,
            "learn": [
             0.03380558384
            ],
            "passed_time": 18.39429646,
            "remaining_time": 308.1316762,
            "test": [
             0.06383160807
            ]
           },
           {
            "iteration": 169,
            "learn": [
             0.03370066964
            ],
            "passed_time": 18.53201037,
            "remaining_time": 308.5034668,
            "test": [
             0.06378260905
            ]
           },
           {
            "iteration": 170,
            "learn": [
             0.03350497001
            ],
            "passed_time": 18.65939282,
            "remaining_time": 308.698376,
            "test": [
             0.06361844889
            ]
           },
           {
            "iteration": 171,
            "learn": [
             0.03334095982
            ],
            "passed_time": 18.78999246,
            "remaining_time": 308.9424342,
            "test": [
             0.06345692139
            ]
           },
           {
            "iteration": 172,
            "learn": [
             0.03318130929
            ],
            "passed_time": 18.91418693,
            "remaining_time": 309.077494,
            "test": [
             0.06331801351
            ]
           },
           {
            "iteration": 173,
            "learn": [
             0.03307252023
            ],
            "passed_time": 19.04859143,
            "remaining_time": 309.3753987,
            "test": [
             0.06324311523
            ]
           },
           {
            "iteration": 174,
            "learn": [
             0.03297459891
            ],
            "passed_time": 19.20008043,
            "remaining_time": 309.9441555,
            "test": [
             0.06316339111
            ]
           },
           {
            "iteration": 175,
            "learn": [
             0.03274808873
            ],
            "passed_time": 19.3286265,
            "remaining_time": 310.1365979,
            "test": [
             0.06296253662
            ]
           },
           {
            "iteration": 176,
            "learn": [
             0.03259143764
            ],
            "passed_time": 19.45277682,
            "remaining_time": 310.2553049,
            "test": [
             0.06286890462
            ]
           },
           {
            "iteration": 177,
            "learn": [
             0.03244438128
            ],
            "passed_time": 19.55296694,
            "remaining_time": 309.9914197,
            "test": [
             0.06280581462
            ]
           },
           {
            "iteration": 178,
            "learn": [
             0.03229607282
            ],
            "passed_time": 19.61604504,
            "remaining_time": 309.1444864,
            "test": [
             0.06273313395
            ]
           },
           {
            "iteration": 179,
            "learn": [
             0.03209581124
            ],
            "passed_time": 19.68439432,
            "remaining_time": 308.3888444,
            "test": [
             0.06250715739
            ]
           },
           {
            "iteration": 180,
            "learn": [
             0.03189906529
            ],
            "passed_time": 19.75624776,
            "remaining_time": 307.6953726,
            "test": [
             0.06230787354
            ]
           },
           {
            "iteration": 181,
            "learn": [
             0.03168017229
            ],
            "passed_time": 19.82563755,
            "remaining_time": 306.9705859,
            "test": [
             0.06206686198
            ]
           },
           {
            "iteration": 182,
            "learn": [
             0.03157630092
            ],
            "passed_time": 19.8916651,
            "remaining_time": 306.2012054,
            "test": [
             0.06202675781
            ]
           },
           {
            "iteration": 183,
            "learn": [
             0.03134234445
            ],
            "passed_time": 19.98564433,
            "remaining_time": 305.8672523,
            "test": [
             0.06189078776
            ]
           },
           {
            "iteration": 184,
            "learn": [
             0.03119616002
            ],
            "passed_time": 20.05311541,
            "remaining_time": 305.1325398,
            "test": [
             0.06178178304
            ]
           },
           {
            "iteration": 185,
            "learn": [
             0.03098654436
            ],
            "passed_time": 20.13774398,
            "remaining_time": 304.6645782,
            "test": [
             0.06162931722
            ]
           },
           {
            "iteration": 186,
            "learn": [
             0.03088386928
            ],
            "passed_time": 20.20706642,
            "remaining_time": 303.9704698,
            "test": [
             0.06160598145
            ]
           },
           {
            "iteration": 187,
            "learn": [
             0.03077206334
            ],
            "passed_time": 20.26971089,
            "remaining_time": 303.1831224,
            "test": [
             0.06151416423
            ]
           },
           {
            "iteration": 188,
            "learn": [
             0.03063567243
            ],
            "passed_time": 20.3370934,
            "remaining_time": 302.4739129,
            "test": [
             0.06143233236
            ]
           },
           {
            "iteration": 189,
            "learn": [
             0.03048246722
            ],
            "passed_time": 20.40815892,
            "remaining_time": 301.8259293,
            "test": [
             0.06137751465
            ]
           },
           {
            "iteration": 190,
            "learn": [
             0.0302427281
            ],
            "passed_time": 20.48471505,
            "remaining_time": 301.264736,
            "test": [
             0.06118096517
            ]
           },
           {
            "iteration": 191,
            "learn": [
             0.03009673549
            ],
            "passed_time": 20.55198584,
            "remaining_time": 300.5727929,
            "test": [
             0.06112862549
            ]
           },
           {
            "iteration": 192,
            "learn": [
             0.02996917899
            ],
            "passed_time": 20.61743959,
            "remaining_time": 299.860896,
            "test": [
             0.06101634115
            ]
           },
           {
            "iteration": 193,
            "learn": [
             0.0297431257
            ],
            "passed_time": 20.68907208,
            "remaining_time": 299.2450323,
            "test": [
             0.06081007487
            ]
           },
           {
            "iteration": 194,
            "learn": [
             0.02953168945
            ],
            "passed_time": 20.76239082,
            "remaining_time": 298.6590064,
            "test": [
             0.06061474609
            ]
           },
           {
            "iteration": 195,
            "learn": [
             0.02943216727
            ],
            "passed_time": 20.82842799,
            "remaining_time": 297.9740413,
            "test": [
             0.06055299072
            ]
           },
           {
            "iteration": 196,
            "learn": [
             0.02927333984
            ],
            "passed_time": 20.89872513,
            "remaining_time": 297.3559723,
            "test": [
             0.06039418538
            ]
           },
           {
            "iteration": 197,
            "learn": [
             0.02918027867
            ],
            "passed_time": 20.98148523,
            "remaining_time": 296.9198062,
            "test": [
             0.06030993245
            ]
           },
           {
            "iteration": 198,
            "learn": [
             0.02903576311
            ],
            "passed_time": 21.0494528,
            "remaining_time": 296.2789813,
            "test": [
             0.0602144694
            ]
           },
           {
            "iteration": 199,
            "learn": [
             0.02884074707
            ],
            "passed_time": 21.12854701,
            "remaining_time": 295.7996582,
            "test": [
             0.06007059326
            ]
           },
           {
            "iteration": 200,
            "learn": [
             0.02868661063
            ],
            "passed_time": 21.20627973,
            "remaining_time": 295.3053581,
            "test": [
             0.05994512939
            ]
           },
           {
            "iteration": 201,
            "learn": [
             0.02854447021
            ],
            "passed_time": 21.28549569,
            "remaining_time": 294.8357274,
            "test": [
             0.05985745443
            ]
           },
           {
            "iteration": 202,
            "learn": [
             0.02835973598
            ],
            "passed_time": 21.35585878,
            "remaining_time": 294.2479656,
            "test": [
             0.05980847168
            ]
           },
           {
            "iteration": 203,
            "learn": [
             0.02821769671
            ],
            "passed_time": 21.42889058,
            "remaining_time": 293.7018532,
            "test": [
             0.05970289307
            ]
           },
           {
            "iteration": 204,
            "learn": [
             0.02807947126
            ],
            "passed_time": 21.49502104,
            "remaining_time": 293.0662625,
            "test": [
             0.05956490885
            ]
           },
           {
            "iteration": 205,
            "learn": [
             0.02789871303
            ],
            "passed_time": 21.56803659,
            "remaining_time": 292.5295837,
            "test": [
             0.05950165609
            ]
           },
           {
            "iteration": 206,
            "learn": [
             0.02774347621
            ],
            "passed_time": 21.63906094,
            "remaining_time": 291.9705179,
            "test": [
             0.05934174805
            ]
           },
           {
            "iteration": 207,
            "learn": [
             0.02760514614
            ],
            "passed_time": 21.70982752,
            "remaining_time": 291.4126848,
            "test": [
             0.05922243652
            ]
           },
           {
            "iteration": 208,
            "learn": [
             0.02752072056
            ],
            "passed_time": 21.77152596,
            "remaining_time": 290.7384161,
            "test": [
             0.05915026449
            ]
           },
           {
            "iteration": 209,
            "learn": [
             0.02746481934
            ],
            "passed_time": 21.83418983,
            "remaining_time": 290.0828077,
            "test": [
             0.05915009766
            ]
           },
           {
            "iteration": 210,
            "learn": [
             0.02733393206
            ],
            "passed_time": 21.8990383,
            "remaining_time": 289.4616959,
            "test": [
             0.05905021159
            ]
           },
           {
            "iteration": 211,
            "learn": [
             0.02723830218
            ],
            "passed_time": 21.98625733,
            "remaining_time": 289.1400256,
            "test": [
             0.05900968831
            ]
           },
           {
            "iteration": 212,
            "learn": [
             0.02708332171
            ],
            "passed_time": 22.05800702,
            "remaining_time": 288.6181482,
            "test": [
             0.05890438639
            ]
           },
           {
            "iteration": 213,
            "learn": [
             0.02699435861
            ],
            "passed_time": 22.12635859,
            "remaining_time": 288.0562385,
            "test": [
             0.05884432373
            ]
           },
           {
            "iteration": 214,
            "learn": [
             0.02677867432
            ],
            "passed_time": 22.21715549,
            "remaining_time": 287.7896653,
            "test": [
             0.05868163656
            ]
           },
           {
            "iteration": 215,
            "learn": [
             0.02668153251
            ],
            "passed_time": 22.28614422,
            "remaining_time": 287.2436366,
            "test": [
             0.05865506592
            ]
           },
           {
            "iteration": 216,
            "learn": [
             0.02659409005
            ],
            "passed_time": 22.35327009,
            "remaining_time": 286.6781137,
            "test": [
             0.05858688558
            ]
           },
           {
            "iteration": 217,
            "learn": [
             0.02646994803
            ],
            "passed_time": 22.42084565,
            "remaining_time": 286.1229019,
            "test": [
             0.05851591797
            ]
           },
           {
            "iteration": 218,
            "learn": [
             0.02630019706
            ],
            "passed_time": 22.49348058,
            "remaining_time": 285.6363904,
            "test": [
             0.05842285563
            ]
           },
           {
            "iteration": 219,
            "learn": [
             0.02615834787
            ],
            "passed_time": 22.56367127,
            "remaining_time": 285.1227551,
            "test": [
             0.05834661865
            ]
           },
           {
            "iteration": 220,
            "learn": [
             0.02597361189
            ],
            "passed_time": 22.63601334,
            "remaining_time": 284.6401858,
            "test": [
             0.0581713501
            ]
           },
           {
            "iteration": 221,
            "learn": [
             0.0258556536
            ],
            "passed_time": 22.70237288,
            "remaining_time": 284.0864499,
            "test": [
             0.05809126383
            ]
           },
           {
            "iteration": 222,
            "learn": [
             0.02579365758
            ],
            "passed_time": 22.77038426,
            "remaining_time": 283.5576551,
            "test": [
             0.05809586995
            ]
           },
           {
            "iteration": 223,
            "learn": [
             0.02568175398
            ],
            "passed_time": 22.84574101,
            "remaining_time": 283.1240047,
            "test": [
             0.0580374471
            ]
           },
           {
            "iteration": 224,
            "learn": [
             0.02552154541
            ],
            "passed_time": 22.91717197,
            "remaining_time": 282.6451209,
            "test": [
             0.05786318359
            ]
           },
           {
            "iteration": 225,
            "learn": [
             0.02540862514
            ],
            "passed_time": 23.01613701,
            "remaining_time": 282.5078056,
            "test": [
             0.05778573812
            ]
           },
           {
            "iteration": 226,
            "learn": [
             0.02531921387
            ],
            "passed_time": 23.08798223,
            "remaining_time": 282.0395363,
            "test": [
             0.05773636068
            ]
           },
           {
            "iteration": 227,
            "learn": [
             0.02526133161
            ],
            "passed_time": 23.15296554,
            "remaining_time": 281.4913179,
            "test": [
             0.05770032959
            ]
           },
           {
            "iteration": 228,
            "learn": [
             0.02507784947
            ],
            "passed_time": 23.24183079,
            "remaining_time": 281.2363018,
            "test": [
             0.05749582926
            ]
           },
           {
            "iteration": 229,
            "learn": [
             0.02494321115
            ],
            "passed_time": 23.31643951,
            "remaining_time": 280.8110323,
            "test": [
             0.05745165202
            ]
           },
           {
            "iteration": 230,
            "learn": [
             0.02487412284
            ],
            "passed_time": 23.38005911,
            "remaining_time": 280.2570722,
            "test": [
             0.05737113037
            ]
           },
           {
            "iteration": 231,
            "learn": [
             0.02477261614
            ],
            "passed_time": 23.44801947,
            "remaining_time": 279.7591288,
            "test": [
             0.05728583577
            ]
           },
           {
            "iteration": 232,
            "learn": [
             0.02468350133
            ],
            "passed_time": 23.51407782,
            "remaining_time": 279.242289,
            "test": [
             0.05718216146
            ]
           },
           {
            "iteration": 233,
            "learn": [
             0.02456577497
            ],
            "passed_time": 23.58589039,
            "remaining_time": 278.7973197,
            "test": [
             0.05707024333
            ]
           },
           {
            "iteration": 234,
            "learn": [
             0.02445213972
            ],
            "passed_time": 23.65694842,
            "remaining_time": 278.3466485,
            "test": [
             0.05699881592
            ]
           },
           {
            "iteration": 235,
            "learn": [
             0.02432818952
            ],
            "passed_time": 23.73073163,
            "remaining_time": 277.9311111,
            "test": [
             0.05693151042
            ]
           },
           {
            "iteration": 236,
            "learn": [
             0.024184021
            ],
            "passed_time": 23.80547935,
            "remaining_time": 277.5297023,
            "test": [
             0.05681453451
            ]
           },
           {
            "iteration": 237,
            "learn": [
             0.02399612165
            ],
            "passed_time": 23.88042999,
            "remaining_time": 277.1333934,
            "test": [
             0.05662876383
            ]
           },
           {
            "iteration": 238,
            "learn": [
             0.02390906634
            ],
            "passed_time": 23.94806545,
            "remaining_time": 276.6552666,
            "test": [
             0.05655178223
            ]
           },
           {
            "iteration": 239,
            "learn": [
             0.02375183977
            ],
            "passed_time": 24.04513491,
            "remaining_time": 276.5190514,
            "test": [
             0.05648053792
            ]
           },
           {
            "iteration": 240,
            "learn": [
             0.02362384208
            ],
            "passed_time": 24.11562489,
            "remaining_time": 276.0788759,
            "test": [
             0.05635681966
            ]
           },
           {
            "iteration": 241,
            "learn": [
             0.0234869751
            ],
            "passed_time": 24.20095438,
            "remaining_time": 275.8108767,
            "test": [
             0.05623831787
            ]
           },
           {
            "iteration": 242,
            "learn": [
             0.02335273612
            ],
            "passed_time": 24.26816927,
            "remaining_time": 275.3388588,
            "test": [
             0.05611199137
            ]
           },
           {
            "iteration": 243,
            "learn": [
             0.02321854248
            ],
            "passed_time": 24.34032487,
            "remaining_time": 274.9259645,
            "test": [
             0.05601733805
            ]
           },
           {
            "iteration": 244,
            "learn": [
             0.02308582415
            ],
            "passed_time": 24.41249592,
            "remaining_time": 274.5160255,
            "test": [
             0.05591859945
            ]
           },
           {
            "iteration": 245,
            "learn": [
             0.02297291434
            ],
            "passed_time": 24.48326323,
            "remaining_time": 274.0931176,
            "test": [
             0.05586547445
            ]
           },
           {
            "iteration": 246,
            "learn": [
             0.02284517473
            ],
            "passed_time": 24.55256918,
            "remaining_time": 273.6567731,
            "test": [
             0.05580268148
            ]
           },
           {
            "iteration": 247,
            "learn": [
             0.02271218262
            ],
            "passed_time": 24.62241857,
            "remaining_time": 273.229419,
            "test": [
             0.05570335693
            ]
           },
           {
            "iteration": 248,
            "learn": [
             0.02260935407
            ],
            "passed_time": 24.68917608,
            "remaining_time": 272.7707767,
            "test": [
             0.05564475098
            ]
           },
           {
            "iteration": 249,
            "learn": [
             0.0225040196
            ],
            "passed_time": 24.75613017,
            "remaining_time": 272.3174319,
            "test": [
             0.05552248942
            ]
           },
           {
            "iteration": 250,
            "learn": [
             0.02239378139
            ],
            "passed_time": 24.82153506,
            "remaining_time": 271.8501987,
            "test": [
             0.0554046224
            ]
           },
           {
            "iteration": 251,
            "learn": [
             0.0223456822
            ],
            "passed_time": 24.88747908,
            "remaining_time": 271.3920338,
            "test": [
             0.05538840739
            ]
           },
           {
            "iteration": 252,
            "learn": [
             0.02222543945
            ],
            "passed_time": 24.95743225,
            "remaining_time": 270.9804996,
            "test": [
             0.0552786377
            ]
           },
           {
            "iteration": 253,
            "learn": [
             0.02211270054
            ],
            "passed_time": 25.03729072,
            "remaining_time": 270.6787414,
            "test": [
             0.05517700195
            ]
           },
           {
            "iteration": 254,
            "learn": [
             0.02205382952
            ],
            "passed_time": 25.11652308,
            "remaining_time": 270.3719837,
            "test": [
             0.05513391927
            ]
           },
           {
            "iteration": 255,
            "learn": [
             0.021935512
            ],
            "passed_time": 25.1955007,
            "remaining_time": 270.0642731,
            "test": [
             0.05508869629
            ]
           },
           {
            "iteration": 256,
            "learn": [
             0.02185951625
            ],
            "passed_time": 25.28529283,
            "remaining_time": 269.8737675,
            "test": [
             0.05504836426
            ]
           },
           {
            "iteration": 257,
            "learn": [
             0.02175860073
            ],
            "passed_time": 25.35868524,
            "remaining_time": 269.5097478,
            "test": [
             0.05498528239
            ]
           },
           {
            "iteration": 258,
            "learn": [
             0.02163631243
            ],
            "passed_time": 25.43133529,
            "remaining_time": 269.1401159,
            "test": [
             0.05490423177
            ]
           },
           {
            "iteration": 259,
            "learn": [
             0.02149252407
            ],
            "passed_time": 25.50144449,
            "remaining_time": 268.7459919,
            "test": [
             0.05479338379
            ]
           },
           {
            "iteration": 260,
            "learn": [
             0.0214510934
            ],
            "passed_time": 25.56700773,
            "remaining_time": 268.3066443,
            "test": [
             0.05478365479
            ]
           },
           {
            "iteration": 261,
            "learn": [
             0.02137687291
            ],
            "passed_time": 25.63648398,
            "remaining_time": 267.9110425,
            "test": [
             0.05473909505
            ]
           },
           {
            "iteration": 262,
            "learn": [
             0.02132770124
            ],
            "passed_time": 25.69941644,
            "remaining_time": 267.4498205,
            "test": [
             0.05472609863
            ]
           },
           {
            "iteration": 263,
            "learn": [
             0.02116262381
            ],
            "passed_time": 25.77748315,
            "remaining_time": 267.1484617,
            "test": [
             0.05462089437
            ]
           },
           {
            "iteration": 264,
            "learn": [
             0.02105796945
            ],
            "passed_time": 25.84669483,
            "remaining_time": 266.7573975,
            "test": [
             0.0545680013
            ]
           },
           {
            "iteration": 265,
            "learn": [
             0.02098555211
            ],
            "passed_time": 25.91629088,
            "remaining_time": 266.372704,
            "test": [
             0.05449892171
            ]
           },
           {
            "iteration": 266,
            "learn": [
             0.02086267787
            ],
            "passed_time": 25.99247743,
            "remaining_time": 266.0578307,
            "test": [
             0.05433024089
            ]
           },
           {
            "iteration": 267,
            "learn": [
             0.02074955706
            ],
            "passed_time": 26.08808987,
            "remaining_time": 265.9427669,
            "test": [
             0.05427569173
            ]
           },
           {
            "iteration": 268,
            "learn": [
             0.02067069964
            ],
            "passed_time": 26.15777878,
            "remaining_time": 265.5646612,
            "test": [
             0.05422679036
            ]
           },
           {
            "iteration": 269,
            "learn": [
             0.02057563825
            ],
            "passed_time": 26.23717429,
            "remaining_time": 265.2869845,
            "test": [
             0.05412375081
            ]
           },
           {
            "iteration": 270,
            "learn": [
             0.02052327009
            ],
            "passed_time": 26.29895907,
            "remaining_time": 264.8334292,
            "test": [
             0.05408816325
            ]
           },
           {
            "iteration": 271,
            "learn": [
             0.02041546631
            ],
            "passed_time": 26.37515555,
            "remaining_time": 264.5272954,
            "test": [
             0.05400774333
            ]
           },
           {
            "iteration": 272,
            "learn": [
             0.02032490234
            ],
            "passed_time": 26.44381468,
            "remaining_time": 264.1475554,
            "test": [
             0.05398402507
            ]
           },
           {
            "iteration": 273,
            "learn": [
             0.02027108329
            ],
            "passed_time": 26.50751841,
            "remaining_time": 263.7207853,
            "test": [
             0.05395536296
            ]
           },
           {
            "iteration": 274,
            "learn": [
             0.02021392997
            ],
            "passed_time": 26.57761535,
            "remaining_time": 263.3600067,
            "test": [
             0.05389200846
            ]
           },
           {
            "iteration": 275,
            "learn": [
             0.02018200509
            ],
            "passed_time": 26.64180002,
            "remaining_time": 262.9429828,
            "test": [
             0.05387392578
            ]
           },
           {
            "iteration": 276,
            "learn": [
             0.02012030378
            ],
            "passed_time": 26.70798511,
            "remaining_time": 262.5481713,
            "test": [
             0.05379703369
            ]
           },
           {
            "iteration": 277,
            "learn": [
             0.02005514788
            ],
            "passed_time": 26.77672221,
            "remaining_time": 262.1807117,
            "test": [
             0.053753361
            ]
           },
           {
            "iteration": 278,
            "learn": [
             0.01988824637
            ],
            "passed_time": 26.85668941,
            "remaining_time": 261.9249171,
            "test": [
             0.05364572347
            ]
           },
           {
            "iteration": 279,
            "learn": [
             0.01982263358
            ],
            "passed_time": 26.92931399,
            "remaining_time": 261.5990502,
            "test": [
             0.05359390055
            ]
           },
           {
            "iteration": 280,
            "learn": [
             0.01973709194
            ],
            "passed_time": 26.99708072,
            "remaining_time": 261.2279803,
            "test": [
             0.05351212158
            ]
           },
           {
            "iteration": 281,
            "learn": [
             0.01966110491
            ],
            "passed_time": 27.0652778,
            "remaining_time": 260.8632094,
            "test": [
             0.05348434652
            ]
           },
           {
            "iteration": 282,
            "learn": [
             0.01960288958
            ],
            "passed_time": 27.14167716,
            "remaining_time": 260.5792822,
            "test": [
             0.05348674723
            ]
           },
           {
            "iteration": 283,
            "learn": [
             0.01953612409
            ],
            "passed_time": 27.20706711,
            "remaining_time": 260.1915291,
            "test": [
             0.05345866699
            ]
           },
           {
            "iteration": 284,
            "learn": [
             0.01939435512
            ],
            "passed_time": 27.29680872,
            "remaining_time": 260.0380199,
            "test": [
             0.05332911377
            ]
           },
           {
            "iteration": 285,
            "learn": [
             0.01932670898
            ],
            "passed_time": 27.36648005,
            "remaining_time": 259.6944995,
            "test": [
             0.05327165527
            ]
           },
           {
            "iteration": 286,
            "learn": [
             0.01921669573
            ],
            "passed_time": 27.43966973,
            "remaining_time": 259.3861462,
            "test": [
             0.05319030762
            ]
           },
           {
            "iteration": 287,
            "learn": [
             0.01909891706
            ],
            "passed_time": 27.51550194,
            "remaining_time": 259.1043099,
            "test": [
             0.05312799072
            ]
           },
           {
            "iteration": 288,
            "learn": [
             0.01899635184
            ],
            "passed_time": 27.58689144,
            "remaining_time": 258.7822238,
            "test": [
             0.05303713379
            ]
           },
           {
            "iteration": 289,
            "learn": [
             0.01892025844
            ],
            "passed_time": 27.65845835,
            "remaining_time": 258.4635245,
            "test": [
             0.05301568604
            ]
           },
           {
            "iteration": 290,
            "learn": [
             0.01886306327
            ],
            "passed_time": 27.7281987,
            "remaining_time": 258.1295198,
            "test": [
             0.05298750407
            ]
           },
           {
            "iteration": 291,
            "learn": [
             0.01875687605
            ],
            "passed_time": 27.79767247,
            "remaining_time": 257.7948529,
            "test": [
             0.05292237142
            ]
           },
           {
            "iteration": 292,
            "learn": [
             0.01864295654
            ],
            "passed_time": 27.8691862,
            "remaining_time": 257.4808432,
            "test": [
             0.05281653646
            ]
           },
           {
            "iteration": 293,
            "learn": [
             0.01859835205
            ],
            "passed_time": 27.93360087,
            "remaining_time": 257.1031427,
            "test": [
             0.05281586914
            ]
           },
           {
            "iteration": 294,
            "learn": [
             0.01853949498
            ],
            "passed_time": 28.00009771,
            "remaining_time": 256.7466587,
            "test": [
             0.05277731934
            ]
           },
           {
            "iteration": 295,
            "learn": [
             0.01843015137
            ],
            "passed_time": 28.07211014,
            "remaining_time": 256.4425197,
            "test": [
             0.05272739665
            ]
           },
           {
            "iteration": 296,
            "learn": [
             0.01829867118
            ],
            "passed_time": 28.15969563,
            "remaining_time": 256.2816744,
            "test": [
             0.05264582113
            ]
           },
           {
            "iteration": 297,
            "learn": [
             0.01818325893
            ],
            "passed_time": 28.23287508,
            "remaining_time": 255.9906995,
            "test": [
             0.0525597819
            ]
           },
           {
            "iteration": 298,
            "learn": [
             0.01811972133
            ],
            "passed_time": 28.30658003,
            "remaining_time": 255.7059286,
            "test": [
             0.0525009847
            ]
           },
           {
            "iteration": 299,
            "learn": [
             0.0180655814
            ],
            "passed_time": 28.37125598,
            "remaining_time": 255.3413038,
            "test": [
             0.0524663208
            ]
           },
           {
            "iteration": 300,
            "learn": [
             0.01802302769
            ],
            "passed_time": 28.43575421,
            "remaining_time": 254.9770785,
            "test": [
             0.05243483073
            ]
           },
           {
            "iteration": 301,
            "learn": [
             0.01792585275
            ],
            "passed_time": 28.50583495,
            "remaining_time": 254.664711,
            "test": [
             0.05233980306
            ]
           },
           {
            "iteration": 302,
            "learn": [
             0.01785365339
            ],
            "passed_time": 28.57125834,
            "remaining_time": 254.3124876,
            "test": [
             0.05226555176
            ]
           },
           {
            "iteration": 303,
            "learn": [
             0.01779686105
            ],
            "passed_time": 28.63440206,
            "remaining_time": 253.9419341,
            "test": [
             0.05220235189
            ]
           },
           {
            "iteration": 304,
            "learn": [
             0.01770911865
            ],
            "passed_time": 28.7032819,
            "remaining_time": 253.6240811,
            "test": [
             0.05209637451
            ]
           },
           {
            "iteration": 305,
            "learn": [
             0.01765132708
            ],
            "passed_time": 28.76831572,
            "remaining_time": 253.2739953,
            "test": [
             0.0520668335
            ]
           },
           {
            "iteration": 306,
            "learn": [
             0.01758342285
            ],
            "passed_time": 28.84033176,
            "remaining_time": 252.9870144,
            "test": [
             0.05202722575
            ]
           },
           {
            "iteration": 307,
            "learn": [
             0.0175220023
            ],
            "passed_time": 28.90527601,
            "remaining_time": 252.6396202,
            "test": [
             0.05195933838
            ]
           },
           {
            "iteration": 308,
            "learn": [
             0.01747635324
            ],
            "passed_time": 28.96793063,
            "remaining_time": 252.2741143,
            "test": [
             0.05193032227
            ]
           },
           {
            "iteration": 309,
            "learn": [
             0.01740271694
            ],
            "passed_time": 29.04315495,
            "remaining_time": 252.0196349,
            "test": [
             0.05183862712
            ]
           },
           {
            "iteration": 310,
            "learn": [
             0.01727915213
            ],
            "passed_time": 29.11498469,
            "remaining_time": 251.7369576,
            "test": [
             0.05172728678
            ]
           },
           {
            "iteration": 311,
            "learn": [
             0.01716533029
            ],
            "passed_time": 29.20839218,
            "remaining_time": 251.6415326,
            "test": [
             0.05163867188
            ]
           },
           {
            "iteration": 312,
            "learn": [
             0.01710781076
            ],
            "passed_time": 29.28837088,
            "remaining_time": 251.4308388,
            "test": [
             0.0516388265
            ]
           },
           {
            "iteration": 313,
            "learn": [
             0.01706372245
            ],
            "passed_time": 29.35688132,
            "remaining_time": 251.1228765,
            "test": [
             0.0516229248
            ]
           },
           {
            "iteration": 314,
            "learn": [
             0.01695911342
            ],
            "passed_time": 29.42927047,
            "remaining_time": 250.8494959,
            "test": [
             0.05154838867
            ]
           },
           {
            "iteration": 315,
            "learn": [
             0.0169054827
            ],
            "passed_time": 29.49445855,
            "remaining_time": 250.5162239,
            "test": [
             0.05154257406
            ]
           },
           {
            "iteration": 316,
            "learn": [
             0.01681366141
            ],
            "passed_time": 29.56871805,
            "remaining_time": 250.2614212,
            "test": [
             0.05144887288
            ]
           },
           {
            "iteration": 317,
            "learn": [
             0.01670594134
            ],
            "passed_time": 29.64178869,
            "remaining_time": 249.9977273,
            "test": [
             0.05133014323
            ]
           },
           {
            "iteration": 318,
            "learn": [
             0.01664848807
            ],
            "passed_time": 29.7105786,
            "remaining_time": 249.6992515,
            "test": [
             0.05127289632
            ]
           },
           {
            "iteration": 319,
            "learn": [
             0.01662317069
            ],
            "passed_time": 29.77556015,
            "remaining_time": 249.3703162,
            "test": [
             0.05126513672
            ]
           },
           {
            "iteration": 320,
            "learn": [
             0.01657034389
            ],
            "passed_time": 29.84082193,
            "remaining_time": 249.0453643,
            "test": [
             0.05120450439
            ]
           },
           {
            "iteration": 321,
            "learn": [
             0.01651821463
            ],
            "passed_time": 29.91100882,
            "remaining_time": 248.7629864,
            "test": [
             0.05117921956
            ]
           },
           {
            "iteration": 322,
            "learn": [
             0.01646858782
            ],
            "passed_time": 29.97741813,
            "remaining_time": 248.4506141,
            "test": [
             0.05115331217
            ]
           },
           {
            "iteration": 323,
            "learn": [
             0.0163736084
            ],
            "passed_time": 30.052906,
            "remaining_time": 248.2147422,
            "test": [
             0.05108107503
            ]
           },
           {
            "iteration": 324,
            "learn": [
             0.01626316616
            ],
            "passed_time": 30.13215094,
            "remaining_time": 248.0107808,
            "test": [
             0.05101713867
            ]
           },
           {
            "iteration": 325,
            "learn": [
             0.01623582241
            ],
            "passed_time": 30.22989074,
            "remaining_time": 247.9592879,
            "test": [
             0.0510018514
            ]
           },
           {
            "iteration": 326,
            "learn": [
             0.01621232213
            ],
            "passed_time": 30.30403621,
            "remaining_time": 247.7146446,
            "test": [
             0.05097435303
            ]
           },
           {
            "iteration": 327,
            "learn": [
             0.01608376639
            ],
            "passed_time": 30.37781491,
            "remaining_time": 247.4680531,
            "test": [
             0.05086685791
            ]
           },
           {
            "iteration": 328,
            "learn": [
             0.01605740095
            ],
            "passed_time": 30.44269975,
            "remaining_time": 247.1503071,
            "test": [
             0.05086390788
            ]
           },
           {
            "iteration": 329,
            "learn": [
             0.01602882429
            ],
            "passed_time": 30.5099004,
            "remaining_time": 246.8528305,
            "test": [
             0.05084877116
            ]
           },
           {
            "iteration": 330,
            "learn": [
             0.01598941302
            ],
            "passed_time": 30.57248933,
            "remaining_time": 246.519559,
            "test": [
             0.0508330485
            ]
           },
           {
            "iteration": 331,
            "learn": [
             0.01593243757
            ],
            "passed_time": 30.64457615,
            "remaining_time": 246.2642445,
            "test": [
             0.05078986003
            ]
           },
           {
            "iteration": 332,
            "learn": [
             0.01584534912
            ],
            "passed_time": 30.71843437,
            "remaining_time": 246.0242176,
            "test": [
             0.05074722087
            ]
           },
           {
            "iteration": 333,
            "learn": [
             0.01577352469
            ],
            "passed_time": 30.79060633,
            "remaining_time": 245.771726,
            "test": [
             0.05072276204
            ]
           },
           {
            "iteration": 334,
            "learn": [
             0.01574114467
            ],
            "passed_time": 30.85303611,
            "remaining_time": 245.4428096,
            "test": [
             0.05069158936
            ]
           },
           {
            "iteration": 335,
            "learn": [
             0.01567315499
            ],
            "passed_time": 30.92627969,
            "remaining_time": 245.2012176,
            "test": [
             0.05062381999
            ]
           },
           {
            "iteration": 336,
            "learn": [
             0.01558815569
            ],
            "passed_time": 30.99600689,
            "remaining_time": 244.9328378,
            "test": [
             0.05055851237
            ]
           },
           {
            "iteration": 337,
            "learn": [
             0.01551759905
            ],
            "passed_time": 31.06290013,
            "remaining_time": 244.643314,
            "test": [
             0.05050603027
            ]
           },
           {
            "iteration": 338,
            "learn": [
             0.01542268241
            ],
            "passed_time": 31.13778288,
            "remaining_time": 244.4178179,
            "test": [
             0.05039949951
            ]
           },
           {
            "iteration": 339,
            "learn": [
             0.01533389021
            ],
            "passed_time": 31.23396251,
            "remaining_time": 244.3598244,
            "test": [
             0.05032523193
            ]
           },
           {
            "iteration": 340,
            "learn": [
             0.01526780483
            ],
            "passed_time": 31.32088204,
            "remaining_time": 244.2293998,
            "test": [
             0.05030211995
            ]
           },
           {
            "iteration": 341,
            "learn": [
             0.01518940081
            ],
            "passed_time": 31.39310841,
            "remaining_time": 243.9850355,
            "test": [
             0.05021525472
            ]
           },
           {
            "iteration": 342,
            "learn": [
             0.0151353254
            ],
            "passed_time": 31.46526639,
            "remaining_time": 243.7411452,
            "test": [
             0.05020007324
            ]
           },
           {
            "iteration": 343,
            "learn": [
             0.01508627407
            ],
            "passed_time": 31.53234076,
            "remaining_time": 243.4590031,
            "test": [
             0.05016303304
            ]
           },
           {
            "iteration": 344,
            "learn": [
             0.0150362514
            ],
            "passed_time": 31.60129383,
            "remaining_time": 243.1925656,
            "test": [
             0.05014043783
            ]
           },
           {
            "iteration": 345,
            "learn": [
             0.01500068534
            ],
            "passed_time": 31.66603243,
            "remaining_time": 242.8949424,
            "test": [
             0.05011638184
            ]
           },
           {
            "iteration": 346,
            "learn": [
             0.01493187256
            ],
            "passed_time": 31.74004206,
            "remaining_time": 242.6695434,
            "test": [
             0.05009887288
            ]
           },
           {
            "iteration": 347,
            "learn": [
             0.01487734549
            ],
            "passed_time": 31.8053621,
            "remaining_time": 242.3787939,
            "test": [
             0.05005211995
            ]
           },
           {
            "iteration": 348,
            "learn": [
             0.01479786203
            ],
            "passed_time": 31.87450154,
            "remaining_time": 242.1183484,
            "test": [
             0.05001707357
            ]
           },
           {
            "iteration": 349,
            "learn": [
             0.01477346017
            ],
            "passed_time": 31.94128881,
            "remaining_time": 241.8411867,
            "test": [
             0.05000656738
            ]
           },
           {
            "iteration": 350,
            "learn": [
             0.01472775879
            ],
            "passed_time": 32.01231945,
            "remaining_time": 241.5972485,
            "test": [
             0.04997496745
            ]
           },
           {
            "iteration": 351,
            "learn": [
             0.01467804478
            ],
            "passed_time": 32.07742746,
            "remaining_time": 241.3097384,
            "test": [
             0.04993363851
            ]
           },
           {
            "iteration": 352,
            "learn": [
             0.01459087699
            ],
            "passed_time": 32.15075039,
            "remaining_time": 241.0850886,
            "test": [
             0.04983585205
            ]
           },
           {
            "iteration": 353,
            "learn": [
             0.01451796439
            ],
            "passed_time": 32.22257842,
            "remaining_time": 240.8501201,
            "test": [
             0.0497808431
            ]
           },
           {
            "iteration": 354,
            "learn": [
             0.01441950945
            ],
            "passed_time": 32.32426724,
            "remaining_time": 240.8385545,
            "test": [
             0.04969206136
            ]
           },
           {
            "iteration": 355,
            "learn": [
             0.01435497001
            ],
            "passed_time": 32.40745255,
            "remaining_time": 240.6890577,
            "test": [
             0.04967645264
            ]
           },
           {
            "iteration": 356,
            "learn": [
             0.0143086077
            ],
            "passed_time": 32.47517116,
            "remaining_time": 240.4254268,
            "test": [
             0.04964674479
            ]
           },
           {
            "iteration": 357,
            "learn": [
             0.01425973424
            ],
            "passed_time": 32.54491141,
            "remaining_time": 240.1778099,
            "test": [
             0.04963813477
            ]
           },
           {
            "iteration": 358,
            "learn": [
             0.01420443464
            ],
            "passed_time": 32.61847347,
            "remaining_time": 239.9592993,
            "test": [
             0.04957030436
            ]
           },
           {
            "iteration": 359,
            "learn": [
             0.01415833566
            ],
            "passed_time": 32.68695377,
            "remaining_time": 239.7043277,
            "test": [
             0.04954615072
            ]
           },
           {
            "iteration": 360,
            "learn": [
             0.01412575596
            ],
            "passed_time": 32.75260659,
            "remaining_time": 239.4297197,
            "test": [
             0.0495523763
            ]
           },
           {
            "iteration": 361,
            "learn": [
             0.01406742467
            ],
            "passed_time": 32.82143304,
            "remaining_time": 239.1793933,
            "test": [
             0.04949710286
            ]
           },
           {
            "iteration": 362,
            "learn": [
             0.01403409424
            ],
            "passed_time": 32.89012328,
            "remaining_time": 238.9290774,
            "test": [
             0.04948116455
            ]
           },
           {
            "iteration": 363,
            "learn": [
             0.01397320731
            ],
            "passed_time": 32.96667095,
            "remaining_time": 238.7366611,
            "test": [
             0.04944967855
            ]
           },
           {
            "iteration": 364,
            "learn": [
             0.01390979004
            ],
            "passed_time": 33.03706485,
            "remaining_time": 238.5004544,
            "test": [
             0.0494254069
            ]
           },
           {
            "iteration": 365,
            "learn": [
             0.01385169416
            ],
            "passed_time": 33.10730195,
            "remaining_time": 238.2640255,
            "test": [
             0.04938078613
            ]
           },
           {
            "iteration": 366,
            "learn": [
             0.01377073277
            ],
            "passed_time": 33.17979623,
            "remaining_time": 238.0446961,
            "test": [
             0.04930926107
            ]
           },
           {
            "iteration": 367,
            "learn": [
             0.0137144322
            ],
            "passed_time": 33.2498464,
            "remaining_time": 237.808684,
            "test": [
             0.04928332926
            ]
           },
           {
            "iteration": 368,
            "learn": [
             0.01364630737
            ],
            "passed_time": 33.34747292,
            "remaining_time": 237.7701931,
            "test": [
             0.04928054199
            ]
           },
           {
            "iteration": 369,
            "learn": [
             0.01360572335
            ],
            "passed_time": 33.41507112,
            "remaining_time": 237.5179379,
            "test": [
             0.04926858317
            ]
           },
           {
            "iteration": 370,
            "learn": [
             0.0135568185
            ],
            "passed_time": 33.48226306,
            "remaining_time": 237.2637994,
            "test": [
             0.04924145508
            ]
           },
           {
            "iteration": 371,
            "learn": [
             0.01349101301
            ],
            "passed_time": 33.55192986,
            "remaining_time": 237.0281496,
            "test": [
             0.04918446452
            ]
           },
           {
            "iteration": 372,
            "learn": [
             0.01346554217
            ],
            "passed_time": 33.61870581,
            "remaining_time": 236.7730299,
            "test": [
             0.04917304688
            ]
           },
           {
            "iteration": 373,
            "learn": [
             0.0134089495
            ],
            "passed_time": 33.68712782,
            "remaining_time": 236.530475,
            "test": [
             0.04913242187
            ]
           },
           {
            "iteration": 374,
            "learn": [
             0.01336216431
            ],
            "passed_time": 33.7563833,
            "remaining_time": 236.2946831,
            "test": [
             0.04909637044
            ]
           },
           {
            "iteration": 375,
            "learn": [
             0.01329589931
            ],
            "passed_time": 33.84027278,
            "remaining_time": 236.1619037,
            "test": [
             0.04901785482
            ]
           },
           {
            "iteration": 376,
            "learn": [
             0.01325603376
            ],
            "passed_time": 33.90725411,
            "remaining_time": 235.9117441,
            "test": [
             0.04897635498
            ]
           },
           {
            "iteration": 377,
            "learn": [
             0.0132032802
            ],
            "passed_time": 33.97500464,
            "remaining_time": 235.6678893,
            "test": [
             0.04889878337
            ]
           },
           {
            "iteration": 378,
            "learn": [
             0.01312474191
            ],
            "passed_time": 34.04581514,
            "remaining_time": 235.4461253,
            "test": [
             0.04884306234
            ]
           },
           {
            "iteration": 379,
            "learn": [
             0.01309786987
            ],
            "passed_time": 34.11135825,
            "remaining_time": 235.1888385,
            "test": [
             0.04881394043
            ]
           },
           {
            "iteration": 380,
            "learn": [
             0.0130500776
            ],
            "passed_time": 34.18279808,
            "remaining_time": 234.9730923,
            "test": [
             0.04879120687
            ]
           },
           {
            "iteration": 381,
            "learn": [
             0.01298307321
            ],
            "passed_time": 34.2616811,
            "remaining_time": 234.8091129,
            "test": [
             0.04874794515
            ]
           },
           {
            "iteration": 382,
            "learn": [
             0.01294639021
            ],
            "passed_time": 34.3596567,
            "remaining_time": 234.7760355,
            "test": [
             0.04874617106
            ]
           },
           {
            "iteration": 383,
            "learn": [
             0.01290745675
            ],
            "passed_time": 34.42947958,
            "remaining_time": 234.5508296,
            "test": [
             0.04873960368
            ]
           },
           {
            "iteration": 384,
            "learn": [
             0.01285439017
            ],
            "passed_time": 34.4996131,
            "remaining_time": 234.3285409,
            "test": [
             0.04873553467
            ]
           },
           {
            "iteration": 385,
            "learn": [
             0.01281978149
            ],
            "passed_time": 34.56561659,
            "remaining_time": 234.079072,
            "test": [
             0.04872546387
            ]
           },
           {
            "iteration": 386,
            "learn": [
             0.01276899937
            ],
            "passed_time": 34.63534189,
            "remaining_time": 233.8556805,
            "test": [
             0.04868589681
            ]
           },
           {
            "iteration": 387,
            "learn": [
             0.01271488909
            ],
            "passed_time": 34.70551901,
            "remaining_time": 233.6361228,
            "test": [
             0.04867159831
            ]
           },
           {
            "iteration": 388,
            "learn": [
             0.01265095651
            ],
            "passed_time": 34.77886595,
            "remaining_time": 233.4386093,
            "test": [
             0.04866716715
            ]
           },
           {
            "iteration": 389,
            "learn": [
             0.01260852574
            ],
            "passed_time": 34.84365578,
            "remaining_time": 233.1844656,
            "test": [
             0.04863950195
            ]
           },
           {
            "iteration": 390,
            "learn": [
             0.0125701076
            ],
            "passed_time": 34.91357633,
            "remaining_time": 232.9655259,
            "test": [
             0.0486288737
            ]
           },
           {
            "iteration": 391,
            "learn": [
             0.01250407976
            ],
            "passed_time": 34.9861062,
            "remaining_time": 232.7647065,
            "test": [
             0.04856441243
            ]
           },
           {
            "iteration": 392,
            "learn": [
             0.01247848424
            ],
            "passed_time": 35.04920579,
            "remaining_time": 232.5019834,
            "test": [
             0.0485320516
            ]
           },
           {
            "iteration": 393,
            "learn": [
             0.01243529837
            ],
            "passed_time": 35.11563097,
            "remaining_time": 232.2622698,
            "test": [
             0.04848472087
            ]
           },
           {
            "iteration": 394,
            "learn": [
             0.01239717058
            ],
            "passed_time": 35.18443347,
            "remaining_time": 232.0391119,
            "test": [
             0.04848086751
            ]
           },
           {
            "iteration": 395,
            "learn": [
             0.01235777152
            ],
            "passed_time": 35.25598144,
            "remaining_time": 231.834787,
            "test": [
             0.04846434733
            ]
           },
           {
            "iteration": 396,
            "learn": [
             0.01231375558
            ],
            "passed_time": 35.32292922,
            "remaining_time": 231.6009692,
            "test": [
             0.04841055908
            ]
           },
           {
            "iteration": 397,
            "learn": [
             0.01227030988
            ],
            "passed_time": 35.42135581,
            "remaining_time": 231.5737885,
            "test": [
             0.04837287191
            ]
           },
           {
            "iteration": 398,
            "learn": [
             0.01224070609
            ],
            "passed_time": 35.49037052,
            "remaining_time": 231.3545206,
            "test": [
             0.04837534993
            ]
           },
           {
            "iteration": 399,
            "learn": [
             0.01220095476
            ],
            "passed_time": 35.55760265,
            "remaining_time": 231.1244172,
            "test": [
             0.0483612793
            ]
           },
           {
            "iteration": 400,
            "learn": [
             0.01217596
            ],
            "passed_time": 35.62274597,
            "remaining_time": 230.881588,
            "test": [
             0.04833809814
            ]
           },
           {
            "iteration": 401,
            "learn": [
             0.01215110735
            ],
            "passed_time": 35.69077972,
            "remaining_time": 230.6583227,
            "test": [
             0.04830599772
            ]
           },
           {
            "iteration": 402,
            "learn": [
             0.0120871861
            ],
            "passed_time": 35.76441479,
            "remaining_time": 230.4719236,
            "test": [
             0.04824052734
            ]
           },
           {
            "iteration": 403,
            "learn": [
             0.01205260795
            ],
            "passed_time": 35.84177368,
            "remaining_time": 230.310011,
            "test": [
             0.0482311971
            ]
           },
           {
            "iteration": 404,
            "learn": [
             0.01198934152
            ],
            "passed_time": 35.91565248,
            "remaining_time": 230.1262177,
            "test": [
             0.04818570964
            ]
           },
           {
            "iteration": 405,
            "learn": [
             0.01195065133
            ],
            "passed_time": 35.98066123,
            "remaining_time": 229.8862937,
            "test": [
             0.04814233805
            ]
           },
           {
            "iteration": 406,
            "learn": [
             0.01189992937
            ],
            "passed_time": 36.04819721,
            "remaining_time": 229.6633301,
            "test": [
             0.04806750081
            ]
           },
           {
            "iteration": 407,
            "learn": [
             0.01185652204
            ],
            "passed_time": 36.11228352,
            "remaining_time": 229.4192129,
            "test": [
             0.04803627523
            ]
           },
           {
            "iteration": 408,
            "learn": [
             0.01182202759
            ],
            "passed_time": 36.18009747,
            "remaining_time": 229.1995906,
            "test": [
             0.04803010254
            ]
           },
           {
            "iteration": 409,
            "learn": [
             0.01177134312
            ],
            "passed_time": 36.2546256,
            "remaining_time": 229.0231227,
            "test": [
             0.04799960938
            ]
           },
           {
            "iteration": 410,
            "learn": [
             0.01173932582
            ],
            "passed_time": 36.32461953,
            "remaining_time": 228.8185887,
            "test": [
             0.04799440918
            ]
           },
           {
            "iteration": 411,
            "learn": [
             0.01170363682
            ],
            "passed_time": 36.42782038,
            "remaining_time": 228.8232989,
            "test": [
             0.04796748454
            ]
           },
           {
            "iteration": 412,
            "learn": [
             0.01166582293
            ],
            "passed_time": 36.51321832,
            "remaining_time": 228.7159704,
            "test": [
             0.04793936361
            ]
           },
           {
            "iteration": 413,
            "learn": [
             0.01162327532
            ],
            "passed_time": 36.5805838,
            "remaining_time": 228.4961104,
            "test": [
             0.04792059326
            ]
           },
           {
            "iteration": 414,
            "learn": [
             0.01158322318
            ],
            "passed_time": 36.64906548,
            "remaining_time": 228.283938,
            "test": [
             0.04789432373
            ]
           },
           {
            "iteration": 415,
            "learn": [
             0.01152891671
            ],
            "passed_time": 36.71836749,
            "remaining_time": 228.0775519,
            "test": [
             0.04782498372
            ]
           },
           {
            "iteration": 416,
            "learn": [
             0.01149116908
            ],
            "passed_time": 36.79020718,
            "remaining_time": 227.8875423,
            "test": [
             0.04776978353
            ]
           },
           {
            "iteration": 417,
            "learn": [
             0.01144969831
            ],
            "passed_time": 36.8619666,
            "remaining_time": 227.6976023,
            "test": [
             0.04775812581
            ]
           },
           {
            "iteration": 418,
            "learn": [
             0.01142444807
            ],
            "passed_time": 36.92757221,
            "remaining_time": 227.4703195,
            "test": [
             0.04774367269
            ]
           },
           {
            "iteration": 419,
            "learn": [
             0.01138463396
            ],
            "passed_time": 36.99192012,
            "remaining_time": 227.2360807,
            "test": [
             0.04772354329
            ]
           },
           {
            "iteration": 420,
            "learn": [
             0.01135906198
            ],
            "passed_time": 37.05645453,
            "remaining_time": 227.0037915,
            "test": [
             0.04774105225
            ]
           },
           {
            "iteration": 421,
            "learn": [
             0.0113097168
            ],
            "passed_time": 37.13241383,
            "remaining_time": 226.8420921,
            "test": [
             0.04770308838
            ]
           },
           {
            "iteration": 422,
            "learn": [
             0.01126455078
            ],
            "passed_time": 37.19911776,
            "remaining_time": 226.6244125,
            "test": [
             0.04766872152
            ]
           },
           {
            "iteration": 423,
            "learn": [
             0.0112274571
            ],
            "passed_time": 37.26678693,
            "remaining_time": 226.4133093,
            "test": [
             0.0476595459
            ]
           },
           {
            "iteration": 424,
            "learn": [
             0.01116925223
            ],
            "passed_time": 37.34573247,
            "remaining_time": 226.2712026,
            "test": [
             0.04762219238
            ]
           },
           {
            "iteration": 425,
            "learn": [
             0.01112870919
            ],
            "passed_time": 37.42501876,
            "remaining_time": 226.1314514,
            "test": [
             0.04757252604
            ]
           },
           {
            "iteration": 426,
            "learn": [
             0.01108909999
            ],
            "passed_time": 37.52134665,
            "remaining_time": 226.094672,
            "test": [
             0.04755527344
            ]
           },
           {
            "iteration": 427,
            "learn": [
             0.01102730364
            ],
            "passed_time": 37.59138682,
            "remaining_time": 225.8996423,
            "test": [
             0.04748770752
            ]
           },
           {
            "iteration": 428,
            "learn": [
             0.01099472395
            ],
            "passed_time": 37.65759756,
            "remaining_time": 225.6822455,
            "test": [
             0.04750070394
            ]
           },
           {
            "iteration": 429,
            "learn": [
             0.01094624285
            ],
            "passed_time": 37.73260669,
            "remaining_time": 225.5181376,
            "test": [
             0.04747811279
            ]
           },
           {
            "iteration": 430,
            "learn": [
             0.01092221418
            ],
            "passed_time": 37.79963795,
            "remaining_time": 225.3068907,
            "test": [
             0.0474783488
            ]
           },
           {
            "iteration": 431,
            "learn": [
             0.01088873204
            ],
            "passed_time": 37.8616569,
            "remaining_time": 225.066516,
            "test": [
             0.04743691406
            ]
           },
           {
            "iteration": 432,
            "learn": [
             0.01086581682
            ],
            "passed_time": 37.92859237,
            "remaining_time": 224.8561123,
            "test": [
             0.04743312174
            ]
           },
           {
            "iteration": 433,
            "learn": [
             0.01082340785
            ],
            "passed_time": 37.99987155,
            "remaining_time": 224.6720516,
            "test": [
             0.04742423503
            ]
           },
           {
            "iteration": 434,
            "learn": [
             0.01078125174
            ],
            "passed_time": 38.06705227,
            "remaining_time": 224.4643427,
            "test": [
             0.04739599202
            ]
           },
           {
            "iteration": 435,
            "learn": [
             0.01076176758
            ],
            "passed_time": 38.13446869,
            "remaining_time": 224.2586645,
            "test": [
             0.04738418783
            ]
           },
           {
            "iteration": 436,
            "learn": [
             0.01074155099
            ],
            "passed_time": 38.195131,
            "remaining_time": 224.0140063,
            "test": [
             0.04736450195
            ]
           },
           {
            "iteration": 437,
            "learn": [
             0.01070934012
            ],
            "passed_time": 38.26150262,
            "remaining_time": 223.8035838,
            "test": [
             0.04733837484
            ]
           },
           {
            "iteration": 438,
            "learn": [
             0.01066278338
            ],
            "passed_time": 38.33548047,
            "remaining_time": 223.6381902,
            "test": [
             0.04730157064
            ]
           },
           {
            "iteration": 439,
            "learn": [
             0.01060784127
            ],
            "passed_time": 38.40564742,
            "remaining_time": 223.4510395,
            "test": [
             0.04726529948
            ]
           },
           {
            "iteration": 440,
            "learn": [
             0.01056015538
            ],
            "passed_time": 38.49748396,
            "remaining_time": 223.390162,
            "test": [
             0.04721520996
            ]
           },
           {
            "iteration": 441,
            "learn": [
             0.01053718436
            ],
            "passed_time": 38.5940193,
            "remaining_time": 223.356338,
            "test": [
             0.04721262614
            ]
           },
           {
            "iteration": 442,
            "learn": [
             0.01046880668
            ],
            "passed_time": 38.6733929,
            "remaining_time": 223.223173,
            "test": [
             0.0471679891
            ]
           },
           {
            "iteration": 443,
            "learn": [
             0.0104080392
            ],
            "passed_time": 38.74530158,
            "remaining_time": 223.0472767,
            "test": [
             0.047090389
            ]
           },
           {
            "iteration": 444,
            "learn": [
             0.01037301374
            ],
            "passed_time": 38.81637682,
            "remaining_time": 222.8670624,
            "test": [
             0.04707699788
            ]
           },
           {
            "iteration": 445,
            "learn": [
             0.01033589129
            ],
            "passed_time": 38.89202471,
            "remaining_time": 222.7135227,
            "test": [
             0.04703658447
            ]
           },
           {
            "iteration": 446,
            "learn": [
             0.01028838152
            ],
            "passed_time": 38.96555861,
            "remaining_time": 222.5482576,
            "test": [
             0.04700635986
            ]
           },
           {
            "iteration": 447,
            "learn": [
             0.01025096261
            ],
            "passed_time": 39.03578907,
            "remaining_time": 222.3645842,
            "test": [
             0.04699228923
            ]
           },
           {
            "iteration": 448,
            "learn": [
             0.01020594744
            ],
            "passed_time": 39.10968689,
            "remaining_time": 222.2022523,
            "test": [
             0.04697822673
            ]
           },
           {
            "iteration": 449,
            "learn": [
             0.01017913818
            ],
            "passed_time": 39.17951077,
            "remaining_time": 222.0172277,
            "test": [
             0.04694506022
            ]
           },
           {
            "iteration": 450,
            "learn": [
             0.01014436646
            ],
            "passed_time": 39.24549361,
            "remaining_time": 221.8110049,
            "test": [
             0.04689997152
            ]
           },
           {
            "iteration": 451,
            "learn": [
             0.01012064296
            ],
            "passed_time": 39.3102715,
            "remaining_time": 221.5986101,
            "test": [
             0.04689262695
            ]
           },
           {
            "iteration": 452,
            "learn": [
             0.01009967913
            ],
            "passed_time": 39.37666313,
            "remaining_time": 221.3959404,
            "test": [
             0.04688045654
            ]
           },
           {
            "iteration": 453,
            "learn": [
             0.01007265276
            ],
            "passed_time": 39.45124038,
            "remaining_time": 221.2397753,
            "test": [
             0.04686050212
            ]
           },
           {
            "iteration": 454,
            "learn": [
             0.01003924473
            ],
            "passed_time": 39.52370791,
            "remaining_time": 221.0721684,
            "test": [
             0.04684500326
            ]
           },
           {
            "iteration": 455,
            "learn": [
             0.01001986869
            ],
            "passed_time": 39.63050517,
            "remaining_time": 221.0965025,
            "test": [
             0.04684329427
            ]
           },
           {
            "iteration": 456,
            "learn": [
             0.009994795445
            ],
            "passed_time": 39.6965191,
            "remaining_time": 220.8933218,
            "test": [
             0.04681656494
            ]
           },
           {
            "iteration": 457,
            "learn": [
             0.009961133684
            ],
            "passed_time": 39.76578361,
            "remaining_time": 220.7087815,
            "test": [
             0.04678712565
            ]
           },
           {
            "iteration": 458,
            "learn": [
             0.009933208357
            ],
            "passed_time": 39.82810117,
            "remaining_time": 220.4862856,
            "test": [
             0.04678162435
            ]
           },
           {
            "iteration": 459,
            "learn": [
             0.009878593227
            ],
            "passed_time": 39.90791922,
            "remaining_time": 220.3611192,
            "test": [
             0.04673995361
            ]
           },
           {
            "iteration": 460,
            "learn": [
             0.009845119803
            ],
            "passed_time": 39.98093131,
            "remaining_time": 220.1986651,
            "test": [
             0.04671245524
            ]
           },
           {
            "iteration": 461,
            "learn": [
             0.009816989572
            ],
            "passed_time": 40.04390164,
            "remaining_time": 219.9814337,
            "test": [
             0.04667652588
            ]
           },
           {
            "iteration": 462,
            "learn": [
             0.009778205218
            ],
            "passed_time": 40.1143731,
            "remaining_time": 219.805971,
            "test": [
             0.04667557373
            ]
           },
           {
            "iteration": 463,
            "learn": [
             0.009745275879
            ],
            "passed_time": 40.18405502,
            "remaining_time": 219.6266455,
            "test": [
             0.04667016195
            ]
           },
           {
            "iteration": 464,
            "learn": [
             0.009713201032
            ],
            "passed_time": 40.25438842,
            "remaining_time": 219.4513433,
            "test": [
             0.04666088867
            ]
           },
           {
            "iteration": 465,
            "learn": [
             0.009672532436
            ],
            "passed_time": 40.3287356,
            "remaining_time": 219.2983176,
            "test": [
             0.04660600586
            ]
           },
           {
            "iteration": 466,
            "learn": [
             0.009642912946
            ],
            "passed_time": 40.39467568,
            "remaining_time": 219.1000289,
            "test": [
             0.04657156576
            ]
           },
           {
            "iteration": 467,
            "learn": [
             0.009613191441
            ],
            "passed_time": 40.47279684,
            "remaining_time": 218.9682086,
            "test": [
             0.04656431885
            ]
           },
           {
            "iteration": 468,
            "learn": [
             0.009569755336
            ],
            "passed_time": 40.54157984,
            "remaining_time": 218.786223,
            "test": [
             0.04654103597
            ]
           },
           {
            "iteration": 469,
            "learn": [
             0.009508391462
            ],
            "passed_time": 40.63359621,
            "remaining_time": 218.7297839,
            "test": [
             0.04648708089
            ]
           },
           {
            "iteration": 470,
            "learn": [
             0.00947084525
            ],
            "passed_time": 40.72873035,
            "remaining_time": 218.6899343,
            "test": [
             0.04646662191
            ]
           },
           {
            "iteration": 471,
            "learn": [
             0.009451628767
            ],
            "passed_time": 40.79292271,
            "remaining_time": 218.4841284,
            "test": [
             0.04647625326
            ]
           },
           {
            "iteration": 472,
            "learn": [
             0.009431892613
            ],
            "passed_time": 40.85897515,
            "remaining_time": 218.2888588,
            "test": [
             0.04647764486
            ]
           },
           {
            "iteration": 473,
            "learn": [
             0.009399439348
            ],
            "passed_time": 40.93015352,
            "remaining_time": 218.121451,
            "test": [
             0.04645994466
            ]
           },
           {
            "iteration": 474,
            "learn": [
             0.009377922712
            ],
            "passed_time": 40.99635056,
            "remaining_time": 217.9279687,
            "test": [
             0.04644231364
            ]
           },
           {
            "iteration": 475,
            "learn": [
             0.009343954904
            ],
            "passed_time": 41.06394106,
            "remaining_time": 217.7424102,
            "test": [
             0.04640315348
            ]
           },
           {
            "iteration": 476,
            "learn": [
             0.009316898019
            ],
            "passed_time": 41.12880274,
            "remaining_time": 217.5429126,
            "test": [
             0.04637586263
            ]
           },
           {
            "iteration": 477,
            "learn": [
             0.009274346052
            ],
            "passed_time": 41.19728965,
            "remaining_time": 217.3631056,
            "test": [
             0.04636181234
            ]
           },
           {
            "iteration": 478,
            "learn": [
             0.009239122663
            ],
            "passed_time": 41.26778113,
            "remaining_time": 217.1943136,
            "test": [
             0.04633677165
            ]
           },
           {
            "iteration": 479,
            "learn": [
             0.009196550642
            ],
            "passed_time": 41.33945274,
            "remaining_time": 217.0321269,
            "test": [
             0.04631459147
            ]
           },
           {
            "iteration": 480,
            "learn": [
             0.009167113386
            ],
            "passed_time": 41.40694975,
            "remaining_time": 216.8484541,
            "test": [
             0.04631434733
            ]
           },
           {
            "iteration": 481,
            "learn": [
             0.009131930978
            ],
            "passed_time": 41.48845048,
            "remaining_time": 216.7384197,
            "test": [
             0.04626340739
            ]
           },
           {
            "iteration": 482,
            "learn": [
             0.009094932338
            ],
            "passed_time": 41.55674209,
            "remaining_time": 216.5596684,
            "test": [
             0.04623977051
            ]
           },
           {
            "iteration": 483,
            "learn": [
             0.009059896415
            ],
            "passed_time": 41.6238057,
            "remaining_time": 216.3749899,
            "test": [
             0.04620233561
            ]
           },
           {
            "iteration": 484,
            "learn": [
             0.009027210345
            ],
            "passed_time": 41.69889908,
            "remaining_time": 216.2324354,
            "test": [
             0.04619353841
            ]
           },
           {
            "iteration": 485,
            "learn": [
             0.009002311489
            ],
            "passed_time": 41.7952774,
            "remaining_time": 216.2002621,
            "test": [
             0.04616976318
            ]
           },
           {
            "iteration": 486,
            "learn": [
             0.008980268206
            ],
            "passed_time": 41.85825988,
            "remaining_time": 215.9954971,
            "test": [
             0.04615362549
            ]
           },
           {
            "iteration": 487,
            "learn": [
             0.008942489188
            ],
            "passed_time": 41.93305862,
            "remaining_time": 215.8521378,
            "test": [
             0.04612444255
            ]
           },
           {
            "iteration": 488,
            "learn": [
             0.008899292864
            ],
            "passed_time": 42.00510362,
            "remaining_time": 215.6949186,
            "test": [
             0.04610863037
            ]
           },
           {
            "iteration": 489,
            "learn": [
             0.008862826974
            ],
            "passed_time": 42.07584192,
            "remaining_time": 215.5313535,
            "test": [
             0.0460539266
            ]
           },
           {
            "iteration": 490,
            "learn": [
             0.008818892125
            ],
            "passed_time": 42.15012778,
            "remaining_time": 215.3862945,
            "test": [
             0.0460134847
            ]
           },
           {
            "iteration": 491,
            "learn": [
             0.008797541155
            ],
            "passed_time": 42.2175169,
            "remaining_time": 215.2063666,
            "test": [
             0.04601468913
            ]
           },
           {
            "iteration": 492,
            "learn": [
             0.008767438616
            ],
            "passed_time": 42.28409854,
            "remaining_time": 215.0227891,
            "test": [
             0.04599053548
            ]
           },
           {
            "iteration": 493,
            "learn": [
             0.008733528355
            ],
            "passed_time": 42.35752973,
            "remaining_time": 214.8744322,
            "test": [
             0.04597115479
            ]
           },
           {
            "iteration": 494,
            "learn": [
             0.0087111363
            ],
            "passed_time": 42.42475665,
            "remaining_time": 214.6949806,
            "test": [
             0.0459858846
            ]
           },
           {
            "iteration": 495,
            "learn": [
             0.008693947928
            ],
            "passed_time": 42.50249654,
            "remaining_time": 214.5690551,
            "test": [
             0.04596533203
            ]
           },
           {
            "iteration": 496,
            "learn": [
             0.008652309745
            ],
            "passed_time": 42.57170619,
            "remaining_time": 214.4003634,
            "test": [
             0.04594657796
            ]
           },
           {
            "iteration": 497,
            "learn": [
             0.008625673131
            ],
            "passed_time": 42.64108203,
            "remaining_time": 214.2329061,
            "test": [
             0.04591400146
            ]
           },
           {
            "iteration": 498,
            "learn": [
             0.008599512591
            ],
            "passed_time": 42.70895459,
            "remaining_time": 214.0583075,
            "test": [
             0.04591182454
            ]
           },
           {
            "iteration": 499,
            "learn": [
             0.008579139056
            ],
            "passed_time": 42.80244123,
            "remaining_time": 214.0122062,
            "test": [
             0.04590633545
            ]
           },
           {
            "iteration": 500,
            "learn": [
             0.008553509521
            ],
            "passed_time": 42.86986318,
            "remaining_time": 213.8359044,
            "test": [
             0.04586692301
            ]
           },
           {
            "iteration": 501,
            "learn": [
             0.008524412319
            ],
            "passed_time": 42.93883939,
            "remaining_time": 213.6677705,
            "test": [
             0.04583811035
            ]
           },
           {
            "iteration": 502,
            "learn": [
             0.008503735352
            ],
            "passed_time": 43.00429191,
            "remaining_time": 213.4825386,
            "test": [
             0.04583346761
            ]
           },
           {
            "iteration": 503,
            "learn": [
             0.008490109689
            ],
            "passed_time": 43.06924831,
            "remaining_time": 213.295325,
            "test": [
             0.04584124756
            ]
           },
           {
            "iteration": 504,
            "learn": [
             0.008457131522
            ],
            "passed_time": 43.15008025,
            "remaining_time": 213.1870302,
            "test": [
             0.04583610433
            ]
           },
           {
            "iteration": 505,
            "learn": [
             0.008432909284
            ],
            "passed_time": 43.21499087,
            "remaining_time": 213.00037,
            "test": [
             0.04581653646
            ]
           },
           {
            "iteration": 506,
            "learn": [
             0.008384142194
            ],
            "passed_time": 43.28630794,
            "remaining_time": 212.8456917,
            "test": [
             0.04572074788
            ]
           },
           {
            "iteration": 507,
            "learn": [
             0.008352730887
            ],
            "passed_time": 43.35305095,
            "remaining_time": 212.6689035,
            "test": [
             0.04571921794
            ]
           },
           {
            "iteration": 508,
            "learn": [
             0.008331164551
            ],
            "passed_time": 43.42138172,
            "remaining_time": 212.500318,
            "test": [
             0.0457026001
            ]
           },
           {
            "iteration": 509,
            "learn": [
             0.008296789551
            ],
            "passed_time": 43.50676029,
            "remaining_time": 212.415359,
            "test": [
             0.04565142415
            ]
           },
           {
            "iteration": 510,
            "learn": [
             0.00827388916
            ],
            "passed_time": 43.58222804,
            "remaining_time": 212.2821244,
            "test": [
             0.0456440918
            ]
           },
           {
            "iteration": 511,
            "learn": [
             0.008256072998
            ],
            "passed_time": 43.64486637,
            "remaining_time": 212.0867725,
            "test": [
             0.04563590902
            ]
           },
           {
            "iteration": 512,
            "learn": [
             0.008228462437
            ],
            "passed_time": 43.74542292,
            "remaining_time": 212.0757638,
            "test": [
             0.04560134684
            ]
           },
           {
            "iteration": 513,
            "learn": [
             0.008199419294
            ],
            "passed_time": 43.8452246,
            "remaining_time": 212.0607556,
            "test": [
             0.04557945557
            ]
           },
           {
            "iteration": 514,
            "learn": [
             0.008175238037
            ],
            "passed_time": 43.91164997,
            "remaining_time": 211.8843693,
            "test": [
             0.04556928711
            ]
           },
           {
            "iteration": 515,
            "learn": [
             0.008158435931
            ],
            "passed_time": 43.97804993,
            "remaining_time": 211.7082869,
            "test": [
             0.0455792277
            ]
           },
           {
            "iteration": 516,
            "learn": [
             0.008125287737
            ],
            "passed_time": 44.05321718,
            "remaining_time": 211.5747355,
            "test": [
             0.04556859538
            ]
           },
           {
            "iteration": 517,
            "learn": [
             0.008098661586
            ],
            "passed_time": 44.12119247,
            "remaining_time": 211.4069493,
            "test": [
             0.04552397868
            ]
           },
           {
            "iteration": 518,
            "learn": [
             0.00806614903
            ],
            "passed_time": 44.19814346,
            "remaining_time": 211.2824546,
            "test": [
             0.04550347493
            ]
           },
           {
            "iteration": 519,
            "learn": [
             0.008040586635
            ],
            "passed_time": 44.26585809,
            "remaining_time": 211.1140924,
            "test": [
             0.04548139648
            ]
           },
           {
            "iteration": 520,
            "learn": [
             0.008022441755
            ],
            "passed_time": 44.33445378,
            "remaining_time": 210.9503089,
            "test": [
             0.04548778076
            ]
           },
           {
            "iteration": 521,
            "learn": [
             0.007985670689
            ],
            "passed_time": 44.40864285,
            "remaining_time": 210.8134425,
            "test": [
             0.04546472982
            ]
           },
           {
            "iteration": 522,
            "learn": [
             0.007955826242
            ],
            "passed_time": 44.47565854,
            "remaining_time": 210.6428417,
            "test": [
             0.04544407959
            ]
           },
           {
            "iteration": 523,
            "learn": [
             0.00792179391
            ],
            "passed_time": 44.5492082,
            "remaining_time": 210.5035105,
            "test": [
             0.0454049113
            ]
           },
           {
            "iteration": 524,
            "learn": [
             0.007903036063
            ],
            "passed_time": 44.6148443,
            "remaining_time": 210.3271231,
            "test": [
             0.04538787842
            ]
           },
           {
            "iteration": 525,
            "learn": [
             0.007875914655
            ],
            "passed_time": 44.68239651,
            "remaining_time": 210.1601692,
            "test": [
             0.0453874471
            ]
           },
           {
            "iteration": 526,
            "learn": [
             0.007849827358
            ],
            "passed_time": 44.7493938,
            "remaining_time": 209.9909883,
            "test": [
             0.04535461019
            ]
           },
           {
            "iteration": 527,
            "learn": [
             0.007818715995
            ],
            "passed_time": 44.81989913,
            "remaining_time": 209.8386187,
            "test": [
             0.04534237061
            ]
           },
           {
            "iteration": 528,
            "learn": [
             0.007792272077
            ],
            "passed_time": 44.92213274,
            "remaining_time": 209.8347637,
            "test": [
             0.04532312826
            ]
           },
           {
            "iteration": 529,
            "learn": [
             0.007751978411
            ],
            "passed_time": 44.99567599,
            "remaining_time": 209.6968296,
            "test": [
             0.04527304281
            ]
           },
           {
            "iteration": 530,
            "learn": [
             0.007727731759
            ],
            "passed_time": 45.06847849,
            "remaining_time": 209.5556938,
            "test": [
             0.04527965088
            ]
           },
           {
            "iteration": 531,
            "learn": [
             0.007693048096
            ],
            "passed_time": 45.14385955,
            "remaining_time": 209.426777,
            "test": [
             0.04524134928
            ]
           },
           {
            "iteration": 532,
            "learn": [
             0.007677191162
            ],
            "passed_time": 45.20825208,
            "remaining_time": 209.2472005,
            "test": [
             0.04521761475
            ]
           },
           {
            "iteration": 533,
            "learn": [
             0.007653448486
            ],
            "passed_time": 45.28071204,
            "remaining_time": 209.1053107,
            "test": [
             0.04521901042
            ]
           },
           {
            "iteration": 534,
            "learn": [
             0.007630466134
            ],
            "passed_time": 45.35486308,
            "remaining_time": 208.971472,
            "test": [
             0.04523299561
            ]
           },
           {
            "iteration": 535,
            "learn": [
             0.007600497001
            ],
            "passed_time": 45.42883086,
            "remaining_time": 208.8370135,
            "test": [
             0.04520794271
            ]
           },
           {
            "iteration": 536,
            "learn": [
             0.00758619472
            ],
            "passed_time": 45.49468027,
            "remaining_time": 208.6655447,
            "test": [
             0.04519859619
            ]
           },
           {
            "iteration": 537,
            "learn": [
             0.007572089495
            ],
            "passed_time": 45.56608582,
            "remaining_time": 208.5198946,
            "test": [
             0.04518404134
            ]
           },
           {
            "iteration": 538,
            "learn": [
             0.007539731271
            ],
            "passed_time": 45.63530349,
            "remaining_time": 208.3645304,
            "test": [
             0.04512825114
            ]
           },
           {
            "iteration": 539,
            "learn": [
             0.007514593506
            ],
            "passed_time": 45.70482634,
            "remaining_time": 208.2108756,
            "test": [
             0.04512653809
            ]
           },
           {
            "iteration": 540,
            "learn": [
             0.007485890416
            ],
            "passed_time": 45.77246763,
            "remaining_time": 208.0489795,
            "test": [
             0.04509039714
            ]
           },
           {
            "iteration": 541,
            "learn": [
             0.007436376081
            ],
            "passed_time": 45.8505142,
            "remaining_time": 207.9346197,
            "test": [
             0.04504938151
            ]
           },
           {
            "iteration": 542,
            "learn": [
             0.007409572056
            ],
            "passed_time": 45.96879367,
            "remaining_time": 208.0024421,
            "test": [
             0.04503476969
            ]
           },
           {
            "iteration": 543,
            "learn": [
             0.007393209403
            ],
            "passed_time": 46.03582333,
            "remaining_time": 207.8382024,
            "test": [
             0.04503714193
            ]
           },
           {
            "iteration": 544,
            "learn": [
             0.007366571045
            ],
            "passed_time": 46.10913705,
            "remaining_time": 207.7026265,
            "test": [
             0.04501870931
            ]
           },
           {
            "iteration": 545,
            "learn": [
             0.007344008092
            ],
            "passed_time": 46.1760829,
            "remaining_time": 207.5386583,
            "test": [
             0.04501015625
            ]
           },
           {
            "iteration": 546,
            "learn": [
             0.007319739641
            ],
            "passed_time": 46.24695751,
            "remaining_time": 207.3926632,
            "test": [
             0.04498081055
            ]
           },
           {
            "iteration": 547,
            "learn": [
             0.007282951573
            ],
            "passed_time": 46.32147671,
            "remaining_time": 207.2632498,
            "test": [
             0.04494031576
            ]
           },
           {
            "iteration": 548,
            "learn": [
             0.007250891985
            ],
            "passed_time": 46.39456033,
            "remaining_time": 207.1276273,
            "test": [
             0.04492217204
            ]
           },
           {
            "iteration": 549,
            "learn": [
             0.007230014474
            ],
            "passed_time": 46.46130033,
            "remaining_time": 206.9639742,
            "test": [
             0.04493030192
            ]
           },
           {
            "iteration": 550,
            "learn": [
             0.007191483416
            ],
            "passed_time": 46.53454691,
            "remaining_time": 206.8295923,
            "test": [
             0.04490558268
            ]
           },
           {
            "iteration": 551,
            "learn": [
             0.007170266724
            ],
            "passed_time": 46.61349196,
            "remaining_time": 206.7207035,
            "test": [
             0.0448810791
            ]
           },
           {
            "iteration": 552,
            "learn": [
             0.007145952061
            ],
            "passed_time": 46.68388243,
            "remaining_time": 206.5740693,
            "test": [
             0.04487441406
            ]
           },
           {
            "iteration": 553,
            "learn": [
             0.007129106358
            ],
            "passed_time": 46.74908455,
            "remaining_time": 206.4048029,
            "test": [
             0.04487126872
            ]
           },
           {
            "iteration": 554,
            "learn": [
             0.007095669556
            ],
            "passed_time": 46.82251651,
            "remaining_time": 206.2721673,
            "test": [
             0.0448366862
            ]
           },
           {
            "iteration": 555,
            "learn": [
             0.007081836809
            ],
            "passed_time": 46.88474235,
            "remaining_time": 206.0904862,
            "test": [
             0.04483630371
            ]
           },
           {
            "iteration": 556,
            "learn": [
             0.007061301967
            ],
            "passed_time": 46.96566707,
            "remaining_time": 205.9912471,
            "test": [
             0.04483737386
            ]
           },
           {
            "iteration": 557,
            "learn": [
             0.007034311349
            ],
            "passed_time": 47.07056359,
            "remaining_time": 205.9969826,
            "test": [
             0.04482106934
            ]
           },
           {
            "iteration": 558,
            "learn": [
             0.007013378034
            ],
            "passed_time": 47.13494712,
            "remaining_time": 205.8254131,
            "test": [
             0.04480957845
            ]
           },
           {
            "iteration": 559,
            "learn": [
             0.006989113072
            ],
            "passed_time": 47.20310926,
            "remaining_time": 205.6706903,
            "test": [
             0.04479277344
            ]
           },
           {
            "iteration": 560,
            "learn": [
             0.006963534982
            ],
            "passed_time": 47.27410656,
            "remaining_time": 205.5286023,
            "test": [
             0.04477170817
            ]
           },
           {
            "iteration": 561,
            "learn": [
             0.006933011736
            ],
            "passed_time": 47.34950409,
            "remaining_time": 205.4058558,
            "test": [
             0.04475312907
            ]
           },
           {
            "iteration": 562,
            "learn": [
             0.006914559937
            ],
            "passed_time": 47.41397638,
            "remaining_time": 205.2359866,
            "test": [
             0.04473513997
            ]
           },
           {
            "iteration": 563,
            "learn": [
             0.006903092303
            ],
            "passed_time": 47.48153965,
            "remaining_time": 205.0798415,
            "test": [
             0.04472851969
            ]
           },
           {
            "iteration": 564,
            "learn": [
             0.006873192051
            ],
            "passed_time": 47.555915,
            "remaining_time": 204.9533682,
            "test": [
             0.04469831136
            ]
           },
           {
            "iteration": 565,
            "learn": [
             0.006841106306
            ],
            "passed_time": 47.64355057,
            "remaining_time": 204.8841026,
            "test": [
             0.04467358398
            ]
           },
           {
            "iteration": 566,
            "learn": [
             0.006826365444
            ],
            "passed_time": 47.71148548,
            "remaining_time": 204.7302366,
            "test": [
             0.04467959798
            ]
           },
           {
            "iteration": 567,
            "learn": [
             0.006800844029
            ],
            "passed_time": 47.78182884,
            "remaining_time": 204.5869855,
            "test": [
             0.04467912191
            ]
           },
           {
            "iteration": 568,
            "learn": [
             0.006775024414
            ],
            "passed_time": 47.85425727,
            "remaining_time": 204.4528988,
            "test": [
             0.04468185221
            ]
           },
           {
            "iteration": 569,
            "learn": [
             0.006752956717
            ],
            "passed_time": 47.92030461,
            "remaining_time": 204.2918249,
            "test": [
             0.04468385824
            ]
           },
           {
            "iteration": 570,
            "learn": [
             0.006738160924
            ],
            "passed_time": 47.9816925,
            "remaining_time": 204.1112629,
            "test": [
             0.04466426595
            ]
           },
           {
            "iteration": 571,
            "learn": [
             0.006712694441
            ],
            "passed_time": 48.08502072,
            "remaining_time": 204.1091439,
            "test": [
             0.04467215169
            ]
           },
           {
            "iteration": 572,
            "learn": [
             0.006690281459
            ],
            "passed_time": 48.15397977,
            "remaining_time": 203.9610976,
            "test": [
             0.04468040365
            ]
           },
           {
            "iteration": 573,
            "learn": [
             0.006681252616
            ],
            "passed_time": 48.21679407,
            "remaining_time": 203.7873561,
            "test": [
             0.04468937988
            ]
           },
           {
            "iteration": 574,
            "learn": [
             0.006658252389
            ],
            "passed_time": 48.28494829,
            "remaining_time": 203.6365211,
            "test": [
             0.04467159017
            ]
           },
           {
            "iteration": 575,
            "learn": [
             0.006631834194
            ],
            "passed_time": 48.35855203,
            "remaining_time": 203.5089064,
            "test": [
             0.04465920817
            ]
           },
           {
            "iteration": 576,
            "learn": [
             0.006602914429
            ],
            "passed_time": 48.43014858,
            "remaining_time": 203.3730503,
            "test": [
             0.04463965251
            ]
           },
           {
            "iteration": 577,
            "learn": [
             0.006590504674
            ],
            "passed_time": 48.49202069,
            "remaining_time": 203.196668,
            "test": [
             0.04463326416
            ]
           },
           {
            "iteration": 578,
            "learn": [
             0.006578658622
            ],
            "passed_time": 48.5555107,
            "remaining_time": 203.0274463,
            "test": [
             0.0446131958
            ]
           },
           {
            "iteration": 579,
            "learn": [
             0.006547097342
            ],
            "passed_time": 48.63815226,
            "remaining_time": 202.9384974,
            "test": [
             0.04458144938
            ]
           },
           {
            "iteration": 580,
            "learn": [
             0.006536671666
            ],
            "passed_time": 48.70602845,
            "remaining_time": 202.7880943,
            "test": [
             0.04458886312
            ]
           },
           {
            "iteration": 581,
            "learn": [
             0.006521398926
            ],
            "passed_time": 48.76984161,
            "remaining_time": 202.6210945,
            "test": [
             0.04457012939
            ]
           },
           {
            "iteration": 582,
            "learn": [
             0.006502096994
            ],
            "passed_time": 48.84262508,
            "remaining_time": 202.4916378,
            "test": [
             0.04455666097
            ]
           },
           {
            "iteration": 583,
            "learn": [
             0.006473825945
            ],
            "passed_time": 48.91363905,
            "remaining_time": 202.3550547,
            "test": [
             0.04454645182
            ]
           },
           {
            "iteration": 584,
            "learn": [
             0.006458477783
            ],
            "passed_time": 48.97553727,
            "remaining_time": 202.1810641,
            "test": [
             0.04453288981
            ]
           },
           {
            "iteration": 585,
            "learn": [
             0.006445554461
            ],
            "passed_time": 49.03778345,
            "remaining_time": 202.0088895,
            "test": [
             0.04454033203
            ]
           },
           {
            "iteration": 586,
            "learn": [
             0.006428412301
            ],
            "passed_time": 49.13271037,
            "remaining_time": 201.9714312,
            "test": [
             0.04452985433
            ]
           },
           {
            "iteration": 587,
            "learn": [
             0.006398485456
            ],
            "passed_time": 49.218601,
            "remaining_time": 201.8967102,
            "test": [
             0.04452277425
            ]
           },
           {
            "iteration": 588,
            "learn": [
             0.006378598894
            ],
            "passed_time": 49.28963483,
            "remaining_time": 201.7611368,
            "test": [
             0.04451127116
            ]
           },
           {
            "iteration": 589,
            "learn": [
             0.006358787755
            ],
            "passed_time": 49.36205298,
            "remaining_time": 201.6314367,
            "test": [
             0.04449409587
            ]
           },
           {
            "iteration": 590,
            "learn": [
             0.006332631138
            ],
            "passed_time": 49.42790738,
            "remaining_time": 201.4751758,
            "test": [
             0.04446767985
            ]
           },
           {
            "iteration": 591,
            "learn": [
             0.006320306396
            ],
            "passed_time": 49.49392281,
            "remaining_time": 201.3198752,
            "test": [
             0.04446352539
            ]
           },
           {
            "iteration": 592,
            "learn": [
             0.006292653111
            ],
            "passed_time": 49.5632725,
            "remaining_time": 201.1784096,
            "test": [
             0.04444915365
            ]
           },
           {
            "iteration": 593,
            "learn": [
             0.006275599888
            ],
            "passed_time": 49.63513027,
            "remaining_time": 201.0473458,
            "test": [
             0.04445664063
            ]
           },
           {
            "iteration": 594,
            "learn": [
             0.006259780448
            ],
            "passed_time": 49.70390092,
            "remaining_time": 200.9040029,
            "test": [
             0.04446700033
            ]
           },
           {
            "iteration": 595,
            "learn": [
             0.006248781477
            ],
            "passed_time": 49.76870199,
            "remaining_time": 200.7448986,
            "test": [
             0.04446772461
            ]
           },
           {
            "iteration": 596,
            "learn": [
             0.006228110177
            ],
            "passed_time": 49.83545693,
            "remaining_time": 200.5939749,
            "test": [
             0.04445145264
            ]
           },
           {
            "iteration": 597,
            "learn": [
             0.006201076399
            ],
            "passed_time": 49.90488904,
            "remaining_time": 200.4540861,
            "test": [
             0.04444082031
            ]
           },
           {
            "iteration": 598,
            "learn": [
             0.006185531616
            ],
            "passed_time": 49.97146476,
            "remaining_time": 200.3029831,
            "test": [
             0.04444054769
            ]
           },
           {
            "iteration": 599,
            "learn": [
             0.006161715698
            ],
            "passed_time": 50.04422953,
            "remaining_time": 200.1769181,
            "test": [
             0.04443795166
            ]
           },
           {
            "iteration": 600,
            "learn": [
             0.006149940273
            ],
            "passed_time": 50.11078086,
            "remaining_time": 200.0262284,
            "test": [
             0.04442738851
            ]
           },
           {
            "iteration": 601,
            "learn": [
             0.006126832363
            ],
            "passed_time": 50.20491006,
            "remaining_time": 199.9856716,
            "test": [
             0.04439662272
            ]
           },
           {
            "iteration": 602,
            "learn": [
             0.00610798863
            ],
            "passed_time": 50.2739381,
            "remaining_time": 199.8451569,
            "test": [
             0.0443859375
            ]
           },
           {
            "iteration": 603,
            "learn": [
             0.006087694005
            ],
            "passed_time": 50.34393478,
            "remaining_time": 199.7087214,
            "test": [
             0.04438260091
            ]
           },
           {
            "iteration": 604,
            "learn": [
             0.00606744036
            ],
            "passed_time": 50.41377079,
            "remaining_time": 199.5718695,
            "test": [
             0.0443810791
            ]
           },
           {
            "iteration": 605,
            "learn": [
             0.006038374111
            ],
            "passed_time": 50.48460408,
            "remaining_time": 199.4391785,
            "test": [
             0.04433923747
            ]
           },
           {
            "iteration": 606,
            "learn": [
             0.006024002075
            ],
            "passed_time": 50.5519963,
            "remaining_time": 199.2931254,
            "test": [
             0.04433786214
            ]
           },
           {
            "iteration": 607,
            "learn": [
             0.006000507028
            ],
            "passed_time": 50.64143468,
            "remaining_time": 199.2340654,
            "test": [
             0.04430449219
            ]
           },
           {
            "iteration": 608,
            "learn": [
             0.005986680821
            ],
            "passed_time": 50.70676482,
            "remaining_time": 199.080254,
            "test": [
             0.0443059611
            ]
           },
           {
            "iteration": 609,
            "learn": [
             0.005966148594
            ],
            "passed_time": 50.77429461,
            "remaining_time": 198.935351,
            "test": [
             0.04430721029
            ]
           },
           {
            "iteration": 610,
            "learn": [
             0.005945720564
            ],
            "passed_time": 50.84536684,
            "remaining_time": 198.8045522,
            "test": [
             0.04427971191
            ]
           },
           {
            "iteration": 611,
            "learn": [
             0.005920567104
            ],
            "passed_time": 50.92069906,
            "remaining_time": 198.6905708,
            "test": [
             0.04426855876
            ]
           },
           {
            "iteration": 612,
            "learn": [
             0.005900130354
            ],
            "passed_time": 50.98592877,
            "remaining_time": 198.5373768,
            "test": [
             0.0442573527
            ]
           },
           {
            "iteration": 613,
            "learn": [
             0.005877461461
            ],
            "passed_time": 51.05638676,
            "remaining_time": 198.4047863,
            "test": [
             0.04426397705
            ]
           },
           {
            "iteration": 614,
            "learn": [
             0.005851529367
            ],
            "passed_time": 51.12897952,
            "remaining_time": 198.2806767,
            "test": [
             0.04423096517
            ]
           },
           {
            "iteration": 615,
            "learn": [
             0.005839281791
            ],
            "passed_time": 51.22312726,
            "remaining_time": 198.2401548,
            "test": [
             0.04421629232
            ]
           },
           {
            "iteration": 616,
            "learn": [
             0.00581645159
            ],
            "passed_time": 51.32066944,
            "remaining_time": 198.2125693,
            "test": [
             0.04421373698
            ]
           },
           {
            "iteration": 617,
            "learn": [
             0.005798510306
            ],
            "passed_time": 51.38666376,
            "remaining_time": 198.0631603,
            "test": [
             0.04416598714
            ]
           },
           {
            "iteration": 618,
            "learn": [
             0.005786315482
            ],
            "passed_time": 51.45249994,
            "remaining_time": 197.9134125,
            "test": [
             0.04417643229
            ]
           },
           {
            "iteration": 619,
            "learn": [
             0.00577333156
            ],
            "passed_time": 51.51832141,
            "remaining_time": 197.763879,
            "test": [
             0.04417362874
            ]
           },
           {
            "iteration": 620,
            "learn": [
             0.005756142317
            ],
            "passed_time": 51.58448124,
            "remaining_time": 197.6159112,
            "test": [
             0.04414452311
            ]
           },
           {
            "iteration": 621,
            "learn": [
             0.005739854649
            ],
            "passed_time": 51.66805466,
            "remaining_time": 197.5347813,
            "test": [
             0.0441493042
            ]
           },
           {
            "iteration": 622,
            "learn": [
             0.005726544625
            ],
            "passed_time": 51.73417527,
            "remaining_time": 197.387054,
            "test": [
             0.04415402425
            ]
           },
           {
            "iteration": 623,
            "learn": [
             0.005715219116
            ],
            "passed_time": 51.80250257,
            "remaining_time": 197.2479906,
            "test": [
             0.04415065918
            ]
           },
           {
            "iteration": 624,
            "learn": [
             0.005692907715
            ],
            "passed_time": 51.88221761,
            "remaining_time": 197.1524269,
            "test": [
             0.04413320312
            ]
           },
           {
            "iteration": 625,
            "learn": [
             0.005674419294
            ],
            "passed_time": 51.95105274,
            "remaining_time": 197.0156537,
            "test": [
             0.04413285726
            ]
           },
           {
            "iteration": 626,
            "learn": [
             0.005660252162
            ],
            "passed_time": 52.02004498,
            "remaining_time": 196.8796918,
            "test": [
             0.04413484294
            ]
           },
           {
            "iteration": 627,
            "learn": [
             0.00564197998
            ],
            "passed_time": 52.08648764,
            "remaining_time": 196.7343132,
            "test": [
             0.04414304199
            ]
           },
           {
            "iteration": 628,
            "learn": [
             0.005630324445
            ],
            "passed_time": 52.15065136,
            "remaining_time": 196.5805952,
            "test": [
             0.0441453654
            ]
           },
           {
            "iteration": 629,
            "learn": [
             0.005606924003
            ],
            "passed_time": 52.23118454,
            "remaining_time": 196.4887418,
            "test": [
             0.04415422363
            ]
           },
           {
            "iteration": 630,
            "learn": [
             0.00559097726
            ],
            "passed_time": 52.33043392,
            "remaining_time": 196.4671917,
            "test": [
             0.04416378988
            ]
           },
           {
            "iteration": 631,
            "learn": [
             0.005568488857
            ],
            "passed_time": 52.39992863,
            "remaining_time": 196.3339098,
            "test": [
             0.04412670085
            ]
           },
           {
            "iteration": 632,
            "learn": [
             0.005552779279
            ],
            "passed_time": 52.4670847,
            "remaining_time": 196.1920845,
            "test": [
             0.04409395752
            ]
           },
           {
            "iteration": 633,
            "learn": [
             0.00553997454
            ],
            "passed_time": 52.52871333,
            "remaining_time": 196.0298671,
            "test": [
             0.04406686198
            ]
           },
           {
            "iteration": 634,
            "learn": [
             0.005520320783
            ],
            "passed_time": 52.59784247,
            "remaining_time": 195.8959015,
            "test": [
             0.04407208252
            ]
           },
           {
            "iteration": 635,
            "learn": [
             0.005502904837
            ],
            "passed_time": 52.67880586,
            "remaining_time": 195.8061275,
            "test": [
             0.04406010335
            ]
           },
           {
            "iteration": 636,
            "learn": [
             0.005482980783
            ],
            "passed_time": 52.75314123,
            "remaining_time": 195.6917939,
            "test": [
             0.04402118734
            ]
           },
           {
            "iteration": 637,
            "learn": [
             0.005468064662
            ],
            "passed_time": 52.82155519,
            "remaining_time": 195.5556636,
            "test": [
             0.04402062174
            ]
           },
           {
            "iteration": 638,
            "learn": [
             0.005447313581
            ],
            "passed_time": 52.89156885,
            "remaining_time": 195.4256558,
            "test": [
             0.04399662679
            ]
           },
           {
            "iteration": 639,
            "learn": [
             0.005418530273
            ],
            "passed_time": 52.96534184,
            "remaining_time": 195.309698,
            "test": [
             0.04394640706
            ]
           },
           {
            "iteration": 640,
            "learn": [
             0.005401228115
            ],
            "passed_time": 53.03651983,
            "remaining_time": 195.1843218,
            "test": [
             0.04394805501
            ]
           },
           {
            "iteration": 641,
            "learn": [
             0.005395214844
            ],
            "passed_time": 53.10042242,
            "remaining_time": 195.0323926,
            "test": [
             0.04395251872
            ]
           },
           {
            "iteration": 642,
            "learn": [
             0.005371933419
            ],
            "passed_time": 53.16605024,
            "remaining_time": 194.8870613,
            "test": [
             0.04390862223
            ]
           },
           {
            "iteration": 643,
            "learn": [
             0.005338298253
            ],
            "passed_time": 53.24041782,
            "remaining_time": 194.7739509,
            "test": [
             0.04387589518
            ]
           },
           {
            "iteration": 644,
            "learn": [
             0.005318092128
            ],
            "passed_time": 53.32494021,
            "remaining_time": 194.6980375,
            "test": [
             0.04386466471
            ]
           },
           {
            "iteration": 645,
            "learn": [
             0.00530791408
            ],
            "passed_time": 53.40785858,
            "remaining_time": 194.6162525,
            "test": [
             0.04387371012
            ]
           },
           {
            "iteration": 646,
            "learn": [
             0.005293430873
            ],
            "passed_time": 53.47253862,
            "remaining_time": 194.468135,
            "test": [
             0.04387304281
            ]
           },
           {
            "iteration": 647,
            "learn": [
             0.005285700335
            ],
            "passed_time": 53.53532549,
            "remaining_time": 194.3134036,
            "test": [
             0.04386751302
            ]
           },
           {
            "iteration": 648,
            "learn": [
             0.005273917062
            ],
            "passed_time": 53.60006354,
            "remaining_time": 194.1660237,
            "test": [
             0.04387467855
            ]
           },
           {
            "iteration": 649,
            "learn": [
             0.005260011945
            ],
            "passed_time": 53.67201595,
            "remaining_time": 194.0449807,
            "test": [
             0.04387298991
            ]
           },
           {
            "iteration": 650,
            "learn": [
             0.005242819214
            ],
            "passed_time": 53.74239548,
            "remaining_time": 193.9184132,
            "test": [
             0.04387527262
            ]
           },
           {
            "iteration": 651,
            "learn": [
             0.005225510951
            ],
            "passed_time": 53.81209113,
            "remaining_time": 193.7895552,
            "test": [
             0.0438530721
            ]
           },
           {
            "iteration": 652,
            "learn": [
             0.005206535121
            ],
            "passed_time": 53.87778431,
            "remaining_time": 193.6464928,
            "test": [
             0.0438398234
            ]
           },
           {
            "iteration": 653,
            "learn": [
             0.005186536952
            ],
            "passed_time": 53.94711088,
            "remaining_time": 193.5167005,
            "test": [
             0.04383468018
            ]
           },
           {
            "iteration": 654,
            "learn": [
             0.005168382917
            ],
            "passed_time": 54.0210291,
            "remaining_time": 193.4035317,
            "test": [
             0.04383247884
            ]
           },
           {
            "iteration": 655,
            "learn": [
             0.005159944807
            ],
            "passed_time": 54.08305487,
            "remaining_time": 193.2479887,
            "test": [
             0.04384301758
            ]
           },
           {
            "iteration": 656,
            "learn": [
             0.005138811384
            ],
            "passed_time": 54.16049896,
            "remaining_time": 193.1477155,
            "test": [
             0.04383849284
            ]
           },
           {
            "iteration": 657,
            "learn": [
             0.005117800031
            ],
            "passed_time": 54.23233846,
            "remaining_time": 193.0275633,
            "test": [
             0.04382618001
            ]
           },
           {
            "iteration": 658,
            "learn": [
             0.005111366926
            ],
            "passed_time": 54.30038771,
            "remaining_time": 192.8940935,
            "test": [
             0.04382967936
            ]
           },
           {
            "iteration": 659,
            "learn": [
             0.005096432495
            ],
            "passed_time": 54.38076297,
            "remaining_time": 192.8045232,
            "test": [
             0.04384098307
            ]
           },
           {
            "iteration": 660,
            "learn": [
             0.005076066371
            ],
            "passed_time": 54.48619155,
            "remaining_time": 192.8036339,
            "test": [
             0.0438445109
            ]
           },
           {
            "iteration": 661,
            "learn": [
             0.005059741647
            ],
            "passed_time": 54.55378238,
            "remaining_time": 192.6687964,
            "test": [
             0.04381361491
            ]
           },
           {
            "iteration": 662,
            "learn": [
             0.005047072492
            ],
            "passed_time": 54.61852553,
            "remaining_time": 192.5241239,
            "test": [
             0.04381063232
            ]
           },
           {
            "iteration": 663,
            "learn": [
             0.00503223223
            ],
            "passed_time": 54.69950864,
            "remaining_time": 192.4368256,
            "test": [
             0.04379103597
            ]
           },
           {
            "iteration": 664,
            "learn": [
             0.005020987374
            ],
            "passed_time": 54.76403583,
            "remaining_time": 192.2917649,
            "test": [
             0.04377207438
            ]
           },
           {
            "iteration": 665,
            "learn": [
             0.005008830915
            ],
            "passed_time": 54.83714532,
            "remaining_time": 192.1770228,
            "test": [
             0.04375496419
            ]
           },
           {
            "iteration": 666,
            "learn": [
             0.005000462123
            ],
            "passed_time": 54.90791801,
            "remaining_time": 192.0542319,
            "test": [
             0.04374596761
            ]
           },
           {
            "iteration": 667,
            "learn": [
             0.004987744577
            ],
            "passed_time": 54.97026315,
            "remaining_time": 191.9021762,
            "test": [
             0.04373015137
            ]
           },
           {
            "iteration": 668,
            "learn": [
             0.004976896449
            ],
            "passed_time": 55.03467999,
            "remaining_time": 191.757607,
            "test": [
             0.04371752523
            ]
           },
           {
            "iteration": 669,
            "learn": [
             0.004954162598
            ],
            "passed_time": 55.10499719,
            "remaining_time": 191.6337962,
            "test": [
             0.04367572428
            ]
           },
           {
            "iteration": 670,
            "learn": [
             0.004946151733
            ],
            "passed_time": 55.16588704,
            "remaining_time": 191.4774231,
            "test": [
             0.04368839925
            ]
           },
           {
            "iteration": 671,
            "learn": [
             0.00493799918
            ],
            "passed_time": 55.22951283,
            "remaining_time": 191.3308123,
            "test": [
             0.04368551839
            ]
           },
           {
            "iteration": 672,
            "learn": [
             0.004924440656
            ],
            "passed_time": 55.29548904,
            "remaining_time": 191.192575,
            "test": [
             0.04367021484
            ]
           },
           {
            "iteration": 673,
            "learn": [
             0.004911951991
            ],
            "passed_time": 55.36215997,
            "remaining_time": 191.0569497,
            "test": [
             0.04365207113
            ]
           },
           {
            "iteration": 674,
            "learn": [
             0.00490050136
            ],
            "passed_time": 55.4257071,
            "remaining_time": 190.9107689,
            "test": [
             0.04365861816
            ]
           },
           {
            "iteration": 675,
            "learn": [
             0.00488899013
            ],
            "passed_time": 55.52146406,
            "remaining_time": 190.8755658,
            "test": [
             0.04365112305
            ]
           },
           {
            "iteration": 676,
            "learn": [
             0.004874980818
            ],
            "passed_time": 55.58443841,
            "remaining_time": 190.7276964,
            "test": [
             0.04362919515
            ]
           },
           {
            "iteration": 677,
            "learn": [
             0.004859278216
            ],
            "passed_time": 55.6511443,
            "remaining_time": 190.592857,
            "test": [
             0.04361028239
            ]
           },
           {
            "iteration": 678,
            "learn": [
             0.00485106114
            ],
            "passed_time": 55.7273489,
            "remaining_time": 190.4906875,
            "test": [
             0.0436203776
            ]
           },
           {
            "iteration": 679,
            "learn": [
             0.004835057286
            ],
            "passed_time": 55.79450312,
            "remaining_time": 190.3577165,
            "test": [
             0.0436286499
            ]
           },
           {
            "iteration": 680,
            "learn": [
             0.004821096802
            ],
            "passed_time": 55.87159444,
            "remaining_time": 190.2587775,
            "test": [
             0.04362822673
            ]
           },
           {
            "iteration": 681,
            "learn": [
             0.004807478551
            ],
            "passed_time": 55.94092749,
            "remaining_time": 190.1335336,
            "test": [
             0.04361875407
            ]
           },
           {
            "iteration": 682,
            "learn": [
             0.004793887765
            ],
            "passed_time": 56.00865849,
            "remaining_time": 190.0030186,
            "test": [
             0.04362081706
            ]
           },
           {
            "iteration": 683,
            "learn": [
             0.004785002354
            ],
            "passed_time": 56.07773504,
            "remaining_time": 189.8772432,
            "test": [
             0.04362666829
            ]
           },
           {
            "iteration": 684,
            "learn": [
             0.004773341152
            ],
            "passed_time": 56.13997674,
            "remaining_time": 189.7285345,
            "test": [
             0.04360141602
            ]
           },
           {
            "iteration": 685,
            "learn": [
             0.00475924639
            ],
            "passed_time": 56.20754586,
            "remaining_time": 189.5980483,
            "test": [
             0.04360240479
            ]
           },
           {
            "iteration": 686,
            "learn": [
             0.004744894409
            ],
            "passed_time": 56.27406969,
            "remaining_time": 189.4642259,
            "test": [
             0.04359707845
            ]
           },
           {
            "iteration": 687,
            "learn": [
             0.004732264491
            ],
            "passed_time": 56.34555681,
            "remaining_time": 189.3472781,
            "test": [
             0.04359673665
            ]
           },
           {
            "iteration": 688,
            "learn": [
             0.004709409005
            ],
            "passed_time": 56.41838409,
            "remaining_time": 189.2349574,
            "test": [
             0.04353354085
            ]
           },
           {
            "iteration": 689,
            "learn": [
             0.004697862026
            ],
            "passed_time": 56.48280066,
            "remaining_time": 189.0945935,
            "test": [
             0.04352366943
            ]
           },
           {
            "iteration": 690,
            "learn": [
             0.004690102277
            ],
            "passed_time": 56.56429903,
            "remaining_time": 189.0115289,
            "test": [
             0.04352071126
            ]
           },
           {
            "iteration": 691,
            "learn": [
             0.004680781337
            ],
            "passed_time": 56.65322124,
            "remaining_time": 188.9532292,
            "test": [
             0.04351628418
            ]
           },
           {
            "iteration": 692,
            "learn": [
             0.004673000227
            ],
            "passed_time": 56.73354317,
            "remaining_time": 188.8662108,
            "test": [
             0.04351721191
            ]
           },
           {
            "iteration": 693,
            "learn": [
             0.004658066668
            ],
            "passed_time": 56.80735607,
            "remaining_time": 188.7575837,
            "test": [
             0.04352562256
            ]
           },
           {
            "iteration": 694,
            "learn": [
             0.004635239519
            ],
            "passed_time": 56.88374461,
            "remaining_time": 188.657599,
            "test": [
             0.0434942749
            ]
           },
           {
            "iteration": 695,
            "learn": [
             0.004620807757
            ],
            "passed_time": 56.9581005,
            "remaining_time": 188.5509534,
            "test": [
             0.04350803223
            ]
           },
           {
            "iteration": 696,
            "learn": [
             0.004604873657
            ],
            "passed_time": 57.02636582,
            "remaining_time": 188.4242761,
            "test": [
             0.04348595378
            ]
           },
           {
            "iteration": 697,
            "learn": [
             0.004593283081
            ],
            "passed_time": 57.08881632,
            "remaining_time": 188.2785891,
            "test": [
             0.04345607096
            ]
           },
           {
            "iteration": 698,
            "learn": [
             0.00458525347
            ],
            "passed_time": 57.1548696,
            "remaining_time": 188.1449999,
            "test": [
             0.04345361735
            ]
           },
           {
            "iteration": 699,
            "learn": [
             0.004574847412
            ],
            "passed_time": 57.22243163,
            "remaining_time": 188.0165611,
            "test": [
             0.04345484212
            ]
           },
           {
            "iteration": 700,
            "learn": [
             0.004561877441
            ],
            "passed_time": 57.29055413,
            "remaining_time": 187.890134,
            "test": [
             0.04345505371
            ]
           },
           {
            "iteration": 701,
            "learn": [
             0.004556416103
            ],
            "passed_time": 57.3530495,
            "remaining_time": 187.7454526,
            "test": [
             0.04346171468
            ]
           },
           {
            "iteration": 702,
            "learn": [
             0.004545271083
            ],
            "passed_time": 57.4193741,
            "remaining_time": 187.6135168,
            "test": [
             0.04346427409
            ]
           },
           {
            "iteration": 703,
            "learn": [
             0.004533749826
            ],
            "passed_time": 57.48459876,
            "remaining_time": 187.4781801,
            "test": [
             0.0434738444
            ]
           },
           {
            "iteration": 704,
            "learn": [
             0.004515838623
            ],
            "passed_time": 57.5579779,
            "remaining_time": 187.3695876,
            "test": [
             0.04346477458
            ]
           },
           {
            "iteration": 705,
            "learn": [
             0.004500512695
            ],
            "passed_time": 57.64243591,
            "remaining_time": 187.2970935,
            "test": [
             0.04345624186
            ]
           },
           {
            "iteration": 706,
            "learn": [
             0.004484555054
            ],
            "passed_time": 57.74128842,
            "remaining_time": 187.2712508,
            "test": [
             0.043447111
            ]
           },
           {
            "iteration": 707,
            "learn": [
             0.00447064209
            ],
            "passed_time": 57.81064272,
            "remaining_time": 187.1497078,
            "test": [
             0.04342366943
            ]
           },
           {
            "iteration": 708,
            "learn": [
             0.004459485299
            ],
            "passed_time": 57.87999063,
            "remaining_time": 187.0282913,
            "test": [
             0.04341125488
            ]
           },
           {
            "iteration": 709,
            "learn": [
             0.004449812971
            ],
            "passed_time": 57.94447614,
            "remaining_time": 186.8913385,
            "test": [
             0.04339702148
            ]
           },
           {
            "iteration": 710,
            "learn": [
             0.004432186018
            ],
            "passed_time": 58.01576929,
            "remaining_time": 186.7765062,
            "test": [
             0.04338632406
            ]
           },
           {
            "iteration": 711,
            "learn": [
             0.004412613351
            ],
            "passed_time": 58.08491288,
            "remaining_time": 186.6548886,
            "test": [
             0.0433860026
            ]
           },
           {
            "iteration": 712,
            "learn": [
             0.004404437692
            ],
            "passed_time": 58.14842501,
            "remaining_time": 186.5153548,
            "test": [
             0.04338242188
            ]
           },
           {
            "iteration": 713,
            "learn": [
             0.00439558803
            ],
            "passed_time": 58.21111325,
            "remaining_time": 186.3733962,
            "test": [
             0.04336267497
            ]
           },
           {
            "iteration": 714,
            "learn": [
             0.004378733608
            ],
            "passed_time": 58.28157028,
            "remaining_time": 186.2564868,
            "test": [
             0.04333086751
            ]
           },
           {
            "iteration": 715,
            "learn": [
             0.004365935843
            ],
            "passed_time": 58.34619033,
            "remaining_time": 186.1210876,
            "test": [
             0.0432956014
            ]
           },
           {
            "iteration": 716,
            "learn": [
             0.004350592477
            ],
            "passed_time": 58.41874287,
            "remaining_time": 186.0111436,
            "test": [
             0.04329469808
            ]
           },
           {
            "iteration": 717,
            "learn": [
             0.004341148158
            ],
            "passed_time": 58.48563161,
            "remaining_time": 185.8833027,
            "test": [
             0.04328317057
            ]
           },
           {
            "iteration": 718,
            "learn": [
             0.004333086286
            ],
            "passed_time": 58.54843333,
            "remaining_time": 185.7426654,
            "test": [
             0.0432952596
            ]
           },
           {
            "iteration": 719,
            "learn": [
             0.004327380371
            ],
            "passed_time": 58.61072576,
            "remaining_time": 185.6006316,
            "test": [
             0.04329533691
            ]
           },
           {
            "iteration": 720,
            "learn": [
             0.004312854876
            ],
            "passed_time": 58.71203205,
            "remaining_time": 185.5821374,
            "test": [
             0.04330298258
            ]
           },
           {
            "iteration": 721,
            "learn": [
             0.004300619943
            ],
            "passed_time": 58.8117888,
            "remaining_time": 185.5585248,
            "test": [
             0.04329520264
            ]
           },
           {
            "iteration": 722,
            "learn": [
             0.004291179112
            ],
            "passed_time": 58.877186,
            "remaining_time": 185.4264903,
            "test": [
             0.04328575846
            ]
           },
           {
            "iteration": 723,
            "learn": [
             0.004284359741
            ],
            "passed_time": 58.93715111,
            "remaining_time": 185.2775634,
            "test": [
             0.04329170736
            ]
           },
           {
            "iteration": 724,
            "learn": [
             0.004269437953
            ],
            "passed_time": 59.00441589,
            "remaining_time": 185.1517878,
            "test": [
             0.04328715413
            ]
           },
           {
            "iteration": 725,
            "learn": [
             0.00426398141
            ],
            "passed_time": 59.06896169,
            "remaining_time": 185.0176569,
            "test": [
             0.04329256592
            ]
           },
           {
            "iteration": 726,
            "learn": [
             0.004256269618
            ],
            "passed_time": 59.13683241,
            "remaining_time": 184.8941129,
            "test": [
             0.04330001628
            ]
           },
           {
            "iteration": 727,
            "learn": [
             0.004240263149
            ],
            "passed_time": 59.20639886,
            "remaining_time": 184.776014,
            "test": [
             0.04329248861
            ]
           },
           {
            "iteration": 728,
            "learn": [
             0.004232258388
            ],
            "passed_time": 59.27553568,
            "remaining_time": 184.6567099,
            "test": [
             0.0432890625
            ]
           },
           {
            "iteration": 729,
            "learn": [
             0.00422197222
            ],
            "passed_time": 59.34149272,
            "remaining_time": 184.5276555,
            "test": [
             0.04328869222
            ]
           },
           {
            "iteration": 730,
            "learn": [
             0.004211970302
            ],
            "passed_time": 59.41064857,
            "remaining_time": 184.4087026,
            "test": [
             0.0432803304
            ]
           },
           {
            "iteration": 731,
            "learn": [
             0.004199867467
            ],
            "passed_time": 59.47725946,
            "remaining_time": 184.2820006,
            "test": [
             0.04326733398
            ]
           },
           {
            "iteration": 732,
            "learn": [
             0.004190754918
            ],
            "passed_time": 59.54474473,
            "remaining_time": 184.1581668,
            "test": [
             0.04326427816
            ]
           },
           {
            "iteration": 733,
            "learn": [
             0.004178699602
            ],
            "passed_time": 59.61307849,
            "remaining_time": 184.0371061,
            "test": [
             0.04326877441
            ]
           },
           {
            "iteration": 734,
            "learn": [
             0.004166104126
            ],
            "passed_time": 59.68081185,
            "remaining_time": 183.9143385,
            "test": [
             0.04325910238
            ]
           },
           {
            "iteration": 735,
            "learn": [
             0.004152214704
            ],
            "passed_time": 59.79581798,
            "remaining_time": 183.9371358,
            "test": [
             0.04325035807
            ]
           },
           {
            "iteration": 736,
            "learn": [
             0.004140513393
            ],
            "passed_time": 59.89517861,
            "remaining_time": 183.9115186,
            "test": [
             0.04325607096
            ]
           },
           {
            "iteration": 737,
            "learn": [
             0.004133701869
            ],
            "passed_time": 59.96076931,
            "remaining_time": 183.7821954,
            "test": [
             0.04324220378
            ]
           },
           {
            "iteration": 738,
            "learn": [
             0.004123473249
            ],
            "passed_time": 60.02536323,
            "remaining_time": 183.649995,
            "test": [
             0.04324212646
            ]
           },
           {
            "iteration": 739,
            "learn": [
             0.004115089199
            ],
            "passed_time": 60.08815546,
            "remaining_time": 183.5124748,
            "test": [
             0.04323782145
            ]
           },
           {
            "iteration": 740,
            "learn": [
             0.004107656424
            ],
            "passed_time": 60.15817599,
            "remaining_time": 183.3971924,
            "test": [
             0.04323887533
            ]
           },
           {
            "iteration": 741,
            "learn": [
             0.004100732422
            ],
            "passed_time": 60.22067779,
            "remaining_time": 183.2591515,
            "test": [
             0.04324282227
            ]
           },
           {
            "iteration": 742,
            "learn": [
             0.004086919294
            ],
            "passed_time": 60.29735814,
            "remaining_time": 183.164384,
            "test": [
             0.04322495117
            ]
           },
           {
            "iteration": 743,
            "learn": [
             0.004072837176
            ],
            "passed_time": 60.36244623,
            "remaining_time": 183.0345144,
            "test": [
             0.04322362061
            ]
           },
           {
            "iteration": 744,
            "learn": [
             0.004062854004
            ],
            "passed_time": 60.43457121,
            "remaining_time": 182.9261182,
            "test": [
             0.04323125
            ]
           },
           {
            "iteration": 745,
            "learn": [
             0.004052811105
            ],
            "passed_time": 60.49844916,
            "remaining_time": 182.7929014,
            "test": [
             0.04321890055
            ]
           },
           {
            "iteration": 746,
            "learn": [
             0.004046191842
            ],
            "passed_time": 60.56608489,
            "remaining_time": 182.6712038,
            "test": [
             0.04322078044
            ]
           },
           {
            "iteration": 747,
            "learn": [
             0.004030531529
            ],
            "passed_time": 60.63437608,
            "remaining_time": 182.5516243,
            "test": [
             0.04321448161
            ]
           },
           {
            "iteration": 748,
            "learn": [
             0.004020895386
            ],
            "passed_time": 60.70159692,
            "remaining_time": 182.4289648,
            "test": [
             0.0432205363
            ]
           },
           {
            "iteration": 749,
            "learn": [
             0.004014035906
            ],
            "passed_time": 60.76267881,
            "remaining_time": 182.2880364,
            "test": [
             0.04320779215
            ]
           },
           {
            "iteration": 750,
            "learn": [
             0.004002685547
            ],
            "passed_time": 60.86885394,
            "remaining_time": 182.2823602,
            "test": [
             0.04322038167
            ]
           },
           {
            "iteration": 751,
            "learn": [
             0.003993425206
            ],
            "passed_time": 60.95086296,
            "remaining_time": 182.2041754,
            "test": [
             0.04322030029
            ]
           },
           {
            "iteration": 752,
            "learn": [
             0.003983830479
            ],
            "passed_time": 61.01955946,
            "remaining_time": 182.0862551,
            "test": [
             0.04322781576
            ]
           },
           {
            "iteration": 753,
            "learn": [
             0.003972995867
            ],
            "passed_time": 61.09232834,
            "remaining_time": 181.9805961,
            "test": [
             0.04323494466
            ]
           },
           {
            "iteration": 754,
            "learn": [
             0.003961403983
            ],
            "passed_time": 61.15996251,
            "remaining_time": 181.8597561,
            "test": [
             0.04323449707
            ]
           },
           {
            "iteration": 755,
            "learn": [
             0.00395345241
            ],
            "passed_time": 61.22348424,
            "remaining_time": 181.7268501,
            "test": [
             0.04323421224
            ]
           },
           {
            "iteration": 756,
            "learn": [
             0.003939308384
            ],
            "passed_time": 61.29377034,
            "remaining_time": 181.6141703,
            "test": [
             0.04323827718
            ]
           },
           {
            "iteration": 757,
            "learn": [
             0.003931497628
            ],
            "passed_time": 61.36013093,
            "remaining_time": 181.4899915,
            "test": [
             0.04324171956
            ]
           },
           {
            "iteration": 758,
            "learn": [
             0.003921278163
            ],
            "passed_time": 61.42631498,
            "remaining_time": 181.3654438,
            "test": [
             0.04323262939
            ]
           },
           {
            "iteration": 759,
            "learn": [
             0.003911804635
            ],
            "passed_time": 61.49926607,
            "remaining_time": 181.2609947,
            "test": [
             0.04322460938
            ]
           },
           {
            "iteration": 760,
            "learn": [
             0.003896170044
            ],
            "passed_time": 61.57072827,
            "remaining_time": 181.1522478,
            "test": [
             0.04324606527
            ]
           },
           {
            "iteration": 761,
            "learn": [
             0.003887702288
            ],
            "passed_time": 61.63830429,
            "remaining_time": 181.032185,
            "test": [
             0.04325165202
            ]
           },
           {
            "iteration": 762,
            "learn": [
             0.003879591152
            ],
            "passed_time": 61.70444491,
            "remaining_time": 180.9080515,
            "test": [
             0.04324898682
            ]
           },
           {
            "iteration": 763,
            "learn": [
             0.003866208322
            ],
            "passed_time": 61.77682507,
            "remaining_time": 180.802331,
            "test": [
             0.0432607015
            ]
           },
           {
            "iteration": 764,
            "learn": [
             0.0038582707
            ],
            "passed_time": 61.8514637,
            "remaining_time": 180.7032959,
            "test": [
             0.04326427002
            ]
           },
           {
            "iteration": 765,
            "learn": [
             0.003849640765
            ],
            "passed_time": 61.93484565,
            "remaining_time": 180.629824,
            "test": [
             0.0432597819
            ]
           },
           {
            "iteration": 766,
            "learn": [
             0.003834277344
            ],
            "passed_time": 62.02870203,
            "remaining_time": 180.5868209,
            "test": [
             0.04324634196
            ]
           },
           {
            "iteration": 767,
            "learn": [
             0.003824479457
            ],
            "passed_time": 62.0969595,
            "remaining_time": 180.4692885,
            "test": [
             0.04325074463
            ]
           },
           {
            "iteration": 768,
            "learn": [
             0.003814382935
            ],
            "passed_time": 62.16178682,
            "remaining_time": 180.3419329,
            "test": [
             0.04323825684
            ]
           },
           {
            "iteration": 769,
            "learn": [
             0.003808291626
            ],
            "passed_time": 62.22800381,
            "remaining_time": 180.2187643,
            "test": [
             0.04323981934
            ]
           },
           {
            "iteration": 770,
            "learn": [
             0.003793195888
            ],
            "passed_time": 62.29956998,
            "remaining_time": 180.1112081,
            "test": [
             0.04323562012
            ]
           },
           {
            "iteration": 771,
            "learn": [
             0.003774414498
            ],
            "passed_time": 62.37624243,
            "remaining_time": 180.018482,
            "test": [
             0.04323044434
            ]
           },
           {
            "iteration": 772,
            "learn": [
             0.0037598332
            ],
            "passed_time": 62.44642429,
            "remaining_time": 179.9070982,
            "test": [
             0.04320249023
            ]
           },
           {
            "iteration": 773,
            "learn": [
             0.003751047189
            ],
            "passed_time": 62.51410923,
            "remaining_time": 179.7886397,
            "test": [
             0.04320002441
            ]
           },
           {
            "iteration": 774,
            "learn": [
             0.003738483102
            ],
            "passed_time": 62.58165328,
            "remaining_time": 179.6699078,
            "test": [
             0.04320860189
            ]
           },
           {
            "iteration": 775,
            "learn": [
             0.003726952689
            ],
            "passed_time": 62.65132242,
            "remaining_time": 179.5573983,
            "test": [
             0.04321094157
            ]
           },
           {
            "iteration": 776,
            "learn": [
             0.003714872088
            ],
            "passed_time": 62.71937074,
            "remaining_time": 179.4403618,
            "test": [
             0.04320063883
            ]
           },
           {
            "iteration": 777,
            "learn": [
             0.003706170654
            ],
            "passed_time": 62.78137361,
            "remaining_time": 179.3061853,
            "test": [
             0.0431965332
            ]
           },
           {
            "iteration": 778,
            "learn": [
             0.003690478516
            ],
            "passed_time": 62.86157852,
            "remaining_time": 179.2240897,
            "test": [
             0.04317003174
            ]
           },
           {
            "iteration": 779,
            "learn": [
             0.00368364345
            ],
            "passed_time": 62.92897548,
            "remaining_time": 179.1055456,
            "test": [
             0.04317917887
            ]
           },
           {
            "iteration": 780,
            "learn": [
             0.003674989537
            ],
            "passed_time": 63.00544331,
            "remaining_time": 179.0129049,
            "test": [
             0.04318301595
            ]
           },
           {
            "iteration": 781,
            "learn": [
             0.003670749773
            ],
            "passed_time": 63.08835281,
            "remaining_time": 178.9385761,
            "test": [
             0.0431859904
            ]
           },
           {
            "iteration": 782,
            "learn": [
             0.003660118321
            ],
            "passed_time": 63.1588117,
            "remaining_time": 178.8289726,
            "test": [
             0.04318177897
            ]
           },
           {
            "iteration": 783,
            "learn": [
             0.003648609052
            ],
            "passed_time": 63.22775935,
            "remaining_time": 178.7151974,
            "test": [
             0.04317323405
            ]
           },
           {
            "iteration": 784,
            "learn": [
             0.003639334106
            ],
            "passed_time": 63.29508562,
            "remaining_time": 178.5969613,
            "test": [
             0.04317524821
            ]
           },
           {
            "iteration": 785,
            "learn": [
             0.003632648795
            ],
            "passed_time": 63.35809227,
            "remaining_time": 178.4666874,
            "test": [
             0.04318663737
            ]
           },
           {
            "iteration": 786,
            "learn": [
             0.003624639893
            ],
            "passed_time": 63.42449907,
            "remaining_time": 178.3461454,
            "test": [
             0.0431946696
            ]
           },
           {
            "iteration": 787,
            "learn": [
             0.00361315264
            ],
            "passed_time": 63.49195797,
            "remaining_time": 178.2286942,
            "test": [
             0.04318407389
            ]
           },
           {
            "iteration": 788,
            "learn": [
             0.003602999442
            ],
            "passed_time": 63.56185763,
            "remaining_time": 178.1182094,
            "test": [
             0.04319025472
            ]
           },
           {
            "iteration": 789,
            "learn": [
             0.003594608634
            ],
            "passed_time": 63.62763125,
            "remaining_time": 177.9962849,
            "test": [
             0.04318695882
            ]
           },
           {
            "iteration": 790,
            "learn": [
             0.003584780884
            ],
            "passed_time": 63.69713349,
            "remaining_time": 177.8849151,
            "test": [
             0.04318728434
            ]
           },
           {
            "iteration": 791,
            "learn": [
             0.003571484157
            ],
            "passed_time": 63.76824384,
            "remaining_time": 177.7781343,
            "test": [
             0.04318818766
            ]
           },
           {
            "iteration": 792,
            "learn": [
             0.003557376753
            ],
            "passed_time": 63.83783689,
            "remaining_time": 177.6672207,
            "test": [
             0.04316124268
            ]
           },
           {
            "iteration": 793,
            "learn": [
             0.003548601859
            ],
            "passed_time": 63.91958628,
            "remaining_time": 177.5901856,
            "test": [
             0.04317205404
            ]
           },
           {
            "iteration": 794,
            "learn": [
             0.003539683315
            ],
            "passed_time": 63.98658082,
            "remaining_time": 177.4722147,
            "test": [
             0.04317478434
            ]
           },
           {
            "iteration": 795,
            "learn": [
             0.003528525652
            ],
            "passed_time": 64.06607152,
            "remaining_time": 177.3889719,
            "test": [
             0.04315495199
            ]
           },
           {
            "iteration": 796,
            "learn": [
             0.003515936497
            ],
            "passed_time": 64.16518132,
            "remaining_time": 177.3599679,
            "test": [
             0.04315090739
            ]
           },
           {
            "iteration": 797,
            "learn": [
             0.003504116385
            ],
            "passed_time": 64.23294496,
            "remaining_time": 177.2442917,
            "test": [
             0.04317393392
            ]
           },
           {
            "iteration": 798,
            "learn": [
             0.003491043091
            ],
            "passed_time": 64.30575199,
            "remaining_time": 177.1426285,
            "test": [
             0.04316837158
            ]
           },
           {
            "iteration": 799,
            "learn": [
             0.003481679426
            ],
            "passed_time": 64.37244592,
            "remaining_time": 177.0242263,
            "test": [
             0.04316164144
            ]
           },
           {
            "iteration": 800,
            "learn": [
             0.00347865557
            ],
            "passed_time": 64.43394721,
            "remaining_time": 176.8916978,
            "test": [
             0.04316459554
            ]
           },
           {
            "iteration": 801,
            "learn": [
             0.003472102138
            ],
            "passed_time": 64.49848395,
            "remaining_time": 176.7676655,
            "test": [
             0.04316651204
            ]
           },
           {
            "iteration": 802,
            "learn": [
             0.003463351222
            ],
            "passed_time": 64.57094477,
            "remaining_time": 176.6654616,
            "test": [
             0.04317543132
            ]
           },
           {
            "iteration": 803,
            "learn": [
             0.003452872576
            ],
            "passed_time": 64.64299895,
            "remaining_time": 176.562221,
            "test": [
             0.0431536499
            ]
           },
           {
            "iteration": 804,
            "learn": [
             0.003437024144
            ],
            "passed_time": 64.71475985,
            "remaining_time": 176.4582582,
            "test": [
             0.04314119059
            ]
           },
           {
            "iteration": 805,
            "learn": [
             0.003432296099
            ],
            "passed_time": 64.77572956,
            "remaining_time": 176.3250008,
            "test": [
             0.04314538981
            ]
           },
           {
            "iteration": 806,
            "learn": [
             0.003425159999
            ],
            "passed_time": 64.85185412,
            "remaining_time": 176.2331054,
            "test": [
             0.0431516805
            ]
           },
           {
            "iteration": 807,
            "learn": [
             0.00341857278
            ],
            "passed_time": 64.92929201,
            "remaining_time": 176.144812,
            "test": [
             0.04315083008
            ]
           },
           {
            "iteration": 808,
            "learn": [
             0.003408308193
            ],
            "passed_time": 64.99827555,
            "remaining_time": 176.0336486,
            "test": [
             0.04314497477
            ]
           },
           {
            "iteration": 809,
            "learn": [
             0.00340216108
            ],
            "passed_time": 65.06662128,
            "remaining_time": 175.9208649,
            "test": [
             0.04314393311
            ]
           },
           {
            "iteration": 810,
            "learn": [
             0.003392106628
            ],
            "passed_time": 65.14147653,
            "remaining_time": 175.8257609,
            "test": [
             0.04314313558
            ]
           },
           {
            "iteration": 811,
            "learn": [
             0.003382069179
            ],
            "passed_time": 65.25490241,
            "remaining_time": 175.8346385,
            "test": [
             0.04315458171
            ]
           },
           {
            "iteration": 812,
            "learn": [
             0.003378441947
            ],
            "passed_time": 65.31661044,
            "remaining_time": 175.7040923,
            "test": [
             0.04316289062
            ]
           },
           {
            "iteration": 813,
            "learn": [
             0.003367375401
            ],
            "passed_time": 65.39313575,
            "remaining_time": 175.6135071,
            "test": [
             0.04316359456
            ]
           },
           {
            "iteration": 814,
            "learn": [
             0.003358221
            ],
            "passed_time": 65.46121634,
            "remaining_time": 175.5003162,
            "test": [
             0.04315291341
            ]
           },
           {
            "iteration": 815,
            "learn": [
             0.003346319144
            ],
            "passed_time": 65.52643847,
            "remaining_time": 175.3795853,
            "test": [
             0.04314588216
            ]
           },
           {
            "iteration": 816,
            "learn": [
             0.003329289246
            ],
            "passed_time": 65.60113246,
            "remaining_time": 175.2842988,
            "test": [
             0.04312718099
            ]
           },
           {
            "iteration": 817,
            "learn": [
             0.00332605896
            ],
            "passed_time": 65.66570924,
            "remaining_time": 175.1620753,
            "test": [
             0.04313011475
            ]
           },
           {
            "iteration": 818,
            "learn": [
             0.003318968637
            ],
            "passed_time": 65.73686069,
            "remaining_time": 175.0575008,
            "test": [
             0.04313716634
            ]
           },
           {
            "iteration": 819,
            "learn": [
             0.003309678868
            ],
            "passed_time": 65.80805997,
            "remaining_time": 174.953135,
            "test": [
             0.04314258219
            ]
           },
           {
            "iteration": 820,
            "learn": [
             0.00330022692
            ],
            "passed_time": 65.89040313,
            "remaining_time": 174.8784268,
            "test": [
             0.04314331055
            ]
           },
           {
            "iteration": 821,
            "learn": [
             0.003291727557
            ],
            "passed_time": 65.96007018,
            "remaining_time": 174.770113,
            "test": [
             0.0431337972
            ]
           },
           {
            "iteration": 822,
            "learn": [
             0.003284527806
            ],
            "passed_time": 66.02699236,
            "remaining_time": 174.6546323,
            "test": [
             0.04313977458
            ]
           },
           {
            "iteration": 823,
            "learn": [
             0.00327597678
            ],
            "passed_time": 66.10274945,
            "remaining_time": 174.5626005,
            "test": [
             0.0431583903
            ]
           },
           {
            "iteration": 824,
            "learn": [
             0.003260772051
            ],
            "passed_time": 66.1728634,
            "remaining_time": 174.4557308,
            "test": [
             0.0431583252
            ]
           },
           {
            "iteration": 825,
            "learn": [
             0.003253465489
            ],
            "passed_time": 66.28161464,
            "remaining_time": 174.4506419,
            "test": [
             0.04316724447
            ]
           },
           {
            "iteration": 826,
            "learn": [
             0.003244662476
            ],
            "passed_time": 66.38870272,
            "remaining_time": 174.4409323,
            "test": [
             0.04317344157
            ]
           },
           {
            "iteration": 827,
            "learn": [
             0.003237928336
            ],
            "passed_time": 66.46026575,
            "remaining_time": 174.3377986,
            "test": [
             0.04316571452
            ]
           },
           {
            "iteration": 828,
            "learn": [
             0.003229153878
            ],
            "passed_time": 66.5285795,
            "remaining_time": 174.2262317,
            "test": [
             0.04316398519
            ]
           },
           {
            "iteration": 829,
            "learn": [
             0.003220894514
            ],
            "passed_time": 66.59606993,
            "remaining_time": 174.1126166,
            "test": [
             0.04316209717
            ]
           },
           {
            "iteration": 830,
            "learn": [
             0.003212987409
            ],
            "passed_time": 66.66428866,
            "remaining_time": 174.0010134,
            "test": [
             0.04315372721
            ]
           },
           {
            "iteration": 831,
            "learn": [
             0.00320317252
            ],
            "passed_time": 66.73596876,
            "remaining_time": 173.898534,
            "test": [
             0.04315268555
            ]
           },
           {
            "iteration": 832,
            "learn": [
             0.003186889648
            ],
            "passed_time": 66.81357894,
            "remaining_time": 173.8115553,
            "test": [
             0.04315087077
            ]
           },
           {
            "iteration": 833,
            "learn": [
             0.003181653704
            ],
            "passed_time": 66.88992848,
            "remaining_time": 173.721325,
            "test": [
             0.04316258138
            ]
           },
           {
            "iteration": 834,
            "learn": [
             0.003174931989
            ],
            "passed_time": 66.95673741,
            "remaining_time": 173.606391,
            "test": [
             0.04315582682
            ]
           },
           {
            "iteration": 835,
            "learn": [
             0.003167876761
            ],
            "passed_time": 67.0201847,
            "remaining_time": 173.4828704,
            "test": [
             0.04315440674
            ]
           },
           {
            "iteration": 836,
            "learn": [
             0.003164267186
            ],
            "passed_time": 67.08474705,
            "remaining_time": 173.362375,
            "test": [
             0.04314938965
            ]
           },
           {
            "iteration": 837,
            "learn": [
             0.00315609327
            ],
            "passed_time": 67.15190892,
            "remaining_time": 173.2487197,
            "test": [
             0.04315410156
            ]
           },
           {
            "iteration": 838,
            "learn": [
             0.00314559457
            ],
            "passed_time": 67.22142033,
            "remaining_time": 173.1412269,
            "test": [
             0.04314694824
            ]
           },
           {
            "iteration": 839,
            "learn": [
             0.003138140433
            ],
            "passed_time": 67.28763122,
            "remaining_time": 173.0253374,
            "test": [
             0.04315022786
            ]
           },
           {
            "iteration": 840,
            "learn": [
             0.003125683812
            ],
            "passed_time": 67.38291315,
            "remaining_time": 172.9841968,
            "test": [
             0.04316090088
            ]
           },
           {
            "iteration": 841,
            "learn": [
             0.003116314043
            ],
            "passed_time": 67.47994013,
            "remaining_time": 172.9474,
            "test": [
             0.0431425293
            ]
           },
           {
            "iteration": 842,
            "learn": [
             0.003109262521
            ],
            "passed_time": 67.54882356,
            "remaining_time": 172.8384489,
            "test": [
             0.04314619141
            ]
           },
           {
            "iteration": 843,
            "learn": [
             0.003099111503
            ],
            "passed_time": 67.61824157,
            "remaining_time": 172.7309583,
            "test": [
             0.04311704508
            ]
           },
           {
            "iteration": 844,
            "learn": [
             0.003087455096
            ],
            "passed_time": 67.69352806,
            "remaining_time": 172.6385242,
            "test": [
             0.04312489827
            ]
           },
           {
            "iteration": 845,
            "learn": [
             0.003080903843
            ],
            "passed_time": 67.75511221,
            "remaining_time": 172.5112431,
            "test": [
             0.0431317098
            ]
           },
           {
            "iteration": 846,
            "learn": [
             0.00307071773
            ],
            "passed_time": 67.82918142,
            "remaining_time": 172.4158531,
            "test": [
             0.04313142904
            ]
           },
           {
            "iteration": 847,
            "learn": [
             0.003064257377
            ],
            "passed_time": 67.90984013,
            "remaining_time": 172.3372358,
            "test": [
             0.04313726807
            ]
           },
           {
            "iteration": 848,
            "learn": [
             0.003056770761
            ],
            "passed_time": 67.97432964,
            "remaining_time": 172.2176479,
            "test": [
             0.0431267863
            ]
           },
           {
            "iteration": 849,
            "learn": [
             0.003047522409
            ],
            "passed_time": 68.03957566,
            "remaining_time": 172.1001031,
            "test": [
             0.04312529704
            ]
           },
           {
            "iteration": 850,
            "learn": [
             0.003041035679
            ],
            "passed_time": 68.10479419,
            "remaining_time": 171.9826119,
            "test": [
             0.04313326009
            ]
           },
           {
            "iteration": 851,
            "learn": [
             0.003031360299
            ],
            "passed_time": 68.17390699,
            "remaining_time": 171.8750613,
            "test": [
             0.04312592367
            ]
           },
           {
            "iteration": 852,
            "learn": [
             0.003024737549
            ],
            "passed_time": 68.24969186,
            "remaining_time": 171.7843944,
            "test": [
             0.04313527832
            ]
           },
           {
            "iteration": 853,
            "learn": [
             0.003016644941
            ],
            "passed_time": 68.31737085,
            "remaining_time": 171.6733933,
            "test": [
             0.0431402181
            ]
           },
           {
            "iteration": 854,
            "learn": [
             0.003009902954
            ],
            "passed_time": 68.38500985,
            "remaining_time": 171.5623931,
            "test": [
             0.0431420695
            ]
           },
           {
            "iteration": 855,
            "learn": [
             0.002999867685
            ],
            "passed_time": 68.51131657,
            "remaining_time": 171.5984378,
            "test": [
             0.04312550456
            ]
           },
           {
            "iteration": 856,
            "learn": [
             0.002992540196
            ],
            "passed_time": 68.59128581,
            "remaining_time": 171.5182328,
            "test": [
             0.0431112915
            ]
           },
           {
            "iteration": 857,
            "learn": [
             0.002984456526
            ],
            "passed_time": 68.66049416,
            "remaining_time": 171.4111637,
            "test": [
             0.04312340495
            ]
           },
           {
            "iteration": 858,
            "learn": [
             0.002976210894
            ],
            "passed_time": 68.73358702,
            "remaining_time": 171.3138647,
            "test": [
             0.04313354085
            ]
           },
           {
            "iteration": 859,
            "learn": [
             0.002972928074
            ],
            "passed_time": 68.79810469,
            "remaining_time": 171.1952838,
            "test": [
             0.04313907064
            ]
           },
           {
            "iteration": 860,
            "learn": [
             0.002965038191
            ],
            "passed_time": 68.86834672,
            "remaining_time": 171.0910495,
            "test": [
             0.04311807454
            ]
           },
           {
            "iteration": 861,
            "learn": [
             0.002959137835
            ],
            "passed_time": 68.94812574,
            "remaining_time": 171.0105485,
            "test": [
             0.04313282471
            ]
           },
           {
            "iteration": 862,
            "learn": [
             0.002955382865
            ],
            "passed_time": 69.01424663,
            "remaining_time": 170.8962283,
            "test": [
             0.04313317871
            ]
           },
           {
            "iteration": 863,
            "learn": [
             0.002952261789
            ],
            "passed_time": 69.07429892,
            "remaining_time": 170.7670168,
            "test": [
             0.04312470296
            ]
           },
           {
            "iteration": 864,
            "learn": [
             0.002942311096
            ],
            "passed_time": 69.14239515,
            "remaining_time": 170.6578193,
            "test": [
             0.04311529948
            ]
           },
           {
            "iteration": 865,
            "learn": [
             0.002936111232
            ],
            "passed_time": 69.20822488,
            "remaining_time": 170.5431315,
            "test": [
             0.04311404215
            ]
           },
           {
            "iteration": 866,
            "learn": [
             0.002922939845
            ],
            "passed_time": 69.28144769,
            "remaining_time": 170.446745,
            "test": [
             0.04312526449
            ]
           },
           {
            "iteration": 867,
            "learn": [
             0.002912092372
            ],
            "passed_time": 69.35045358,
            "remaining_time": 170.3400542,
            "test": [
             0.04310038249
            ]
           },
           {
            "iteration": 868,
            "learn": [
             0.002903403582
            ],
            "passed_time": 69.41631647,
            "remaining_time": 170.2257427,
            "test": [
             0.04310672607
            ]
           },
           {
            "iteration": 869,
            "learn": [
             0.002897319685
            ],
            "passed_time": 69.47736587,
            "remaining_time": 170.0997578,
            "test": [
             0.04310535482
            ]
           },
           {
            "iteration": 870,
            "learn": [
             0.002888056292
            ],
            "passed_time": 69.55536409,
            "remaining_time": 170.0153503,
            "test": [
             0.04310501709
            ]
           },
           {
            "iteration": 871,
            "learn": [
             0.00288397195
            ],
            "passed_time": 69.64146816,
            "remaining_time": 169.9507388,
            "test": [
             0.0431056071
            ]
           },
           {
            "iteration": 872,
            "learn": [
             0.002878320966
            ],
            "passed_time": 69.70697896,
            "remaining_time": 169.8359041,
            "test": [
             0.04310134277
            ]
           },
           {
            "iteration": 873,
            "learn": [
             0.002870131574
            ],
            "passed_time": 69.77453758,
            "remaining_time": 169.7261635,
            "test": [
             0.04310682373
            ]
           },
           {
            "iteration": 874,
            "learn": [
             0.002863182722
            ],
            "passed_time": 69.84955468,
            "remaining_time": 169.6346328,
            "test": [
             0.04310297038
            ]
           },
           {
            "iteration": 875,
            "learn": [
             0.002858369228
            ],
            "passed_time": 69.92510879,
            "remaining_time": 169.5444419,
            "test": [
             0.04309689941
            ]
           },
           {
            "iteration": 876,
            "learn": [
             0.002852846418
            ],
            "passed_time": 69.9927651,
            "remaining_time": 169.4351657,
            "test": [
             0.04309321289
            ]
           },
           {
            "iteration": 877,
            "learn": [
             0.002850131008
            ],
            "passed_time": 70.06431774,
            "remaining_time": 169.3354012,
            "test": [
             0.04309265544
            ]
           },
           {
            "iteration": 878,
            "learn": [
             0.002833867754
            ],
            "passed_time": 70.1431209,
            "remaining_time": 169.2531962,
            "test": [
             0.04307234701
            ]
           },
           {
            "iteration": 879,
            "learn": [
             0.002828011867
            ],
            "passed_time": 70.21040825,
            "remaining_time": 169.1432562,
            "test": [
             0.04307263997
            ]
           },
           {
            "iteration": 880,
            "learn": [
             0.002822364153
            ],
            "passed_time": 70.2774489,
            "remaining_time": 169.0328198,
            "test": [
             0.04307470703
            ]
           },
           {
            "iteration": 881,
            "learn": [
             0.002812577166
            ],
            "passed_time": 70.34606717,
            "remaining_time": 168.9262701,
            "test": [
             0.04307642008
            ]
           },
           {
            "iteration": 882,
            "learn": [
             0.0028084198
            ],
            "passed_time": 70.41002458,
            "remaining_time": 168.808632,
            "test": [
             0.04307998861
            ]
           },
           {
            "iteration": 883,
            "learn": [
             0.002800636074
            ],
            "passed_time": 70.4762589,
            "remaining_time": 168.6965654,
            "test": [
             0.04309100342
            ]
           },
           {
            "iteration": 884,
            "learn": [
             0.002794076102
            ],
            "passed_time": 70.54423299,
            "remaining_time": 168.5887602,
            "test": [
             0.04309047445
            ]
           },
           {
            "iteration": 885,
            "learn": [
             0.002784166173
            ],
            "passed_time": 70.62242312,
            "remaining_time": 168.5054204,
            "test": [
             0.04309710693
            ]
           },
           {
            "iteration": 886,
            "learn": [
             0.002774789429
            ],
            "passed_time": 70.73372673,
            "remaining_time": 168.5009747,
            "test": [
             0.04308313802
            ]
           },
           {
            "iteration": 887,
            "learn": [
             0.002766599165
            ],
            "passed_time": 70.80551042,
            "remaining_time": 168.4022951,
            "test": [
             0.04309006755
            ]
           },
           {
            "iteration": 888,
            "learn": [
             0.002757275609
            ],
            "passed_time": 70.87761929,
            "remaining_time": 168.3044481,
            "test": [
             0.04307110189
            ]
           },
           {
            "iteration": 889,
            "learn": [
             0.002751032148
            ],
            "passed_time": 70.94948291,
            "remaining_time": 168.2060775,
            "test": [
             0.043065979
            ]
           },
           {
            "iteration": 890,
            "learn": [
             0.002743103463
            ],
            "passed_time": 71.01879121,
            "remaining_time": 168.1017179,
            "test": [
             0.04307741292
            ]
           },
           {
            "iteration": 891,
            "learn": [
             0.00273086962
            ],
            "passed_time": 71.08625996,
            "remaining_time": 167.9930897,
            "test": [
             0.04306022135
            ]
           },
           {
            "iteration": 892,
            "learn": [
             0.002719468253
            ],
            "passed_time": 71.16240632,
            "remaining_time": 167.9050281,
            "test": [
             0.04304669596
            ]
           },
           {
            "iteration": 893,
            "learn": [
             0.002712881688
            ],
            "passed_time": 71.2324855,
            "remaining_time": 167.8027007,
            "test": [
             0.04304466146
            ]
           },
           {
            "iteration": 894,
            "learn": [
             0.002704609898
            ],
            "passed_time": 71.30041684,
            "remaining_time": 167.6953938,
            "test": [
             0.0430416097
            ]
           },
           {
            "iteration": 895,
            "learn": [
             0.002695743016
            ],
            "passed_time": 71.37260376,
            "remaining_time": 167.5981677,
            "test": [
             0.04302362061
            ]
           },
           {
            "iteration": 896,
            "learn": [
             0.002686218698
            ],
            "passed_time": 71.43873065,
            "remaining_time": 167.4867899,
            "test": [
             0.04301403809
            ]
           },
           {
            "iteration": 897,
            "learn": [
             0.002680649894
            ],
            "passed_time": 71.50311512,
            "remaining_time": 167.3714343,
            "test": [
             0.04302305908
            ]
           },
           {
            "iteration": 898,
            "learn": [
             0.0026699646
            ],
            "passed_time": 71.5798734,
            "remaining_time": 167.2851101,
            "test": [
             0.04301171468
            ]
           },
           {
            "iteration": 899,
            "learn": [
             0.00266045663
            ],
            "passed_time": 71.65206092,
            "remaining_time": 167.1881421,
            "test": [
             0.0430103597
            ]
           },
           {
            "iteration": 900,
            "learn": [
             0.002650822449
            ],
            "passed_time": 71.73596666,
            "remaining_time": 167.1185283,
            "test": [
             0.04300539551
            ]
           },
           {
            "iteration": 901,
            "learn": [
             0.002643656703
            ],
            "passed_time": 71.83224996,
            "remaining_time": 167.0776723,
            "test": [
             0.04300240072
            ]
           },
           {
            "iteration": 902,
            "learn": [
             0.002638072641
            ],
            "passed_time": 71.89754967,
            "remaining_time": 166.9647416,
            "test": [
             0.04300917969
            ]
           },
           {
            "iteration": 903,
            "learn": [
             0.002632787214
            ],
            "passed_time": 71.97596933,
            "remaining_time": 166.882336,
            "test": [
             0.04301597087
            ]
           },
           {
            "iteration": 904,
            "learn": [
             0.002624877058
            ],
            "passed_time": 72.04363159,
            "remaining_time": 166.7750367,
            "test": [
             0.04302332357
            ]
           },
           {
            "iteration": 905,
            "learn": [
             0.002616811698
            ],
            "passed_time": 72.11599341,
            "remaining_time": 166.6786868,
            "test": [
             0.04305255534
            ]
           },
           {
            "iteration": 906,
            "learn": [
             0.002609428406
            ],
            "passed_time": 72.18415795,
            "remaining_time": 166.5727041,
            "test": [
             0.04306267904
            ]
           },
           {
            "iteration": 907,
            "learn": [
             0.002598761422
            ],
            "passed_time": 72.25788348,
            "remaining_time": 166.479617,
            "test": [
             0.04303215332
            ]
           },
           {
            "iteration": 908,
            "learn": [
             0.002594457354
            ],
            "passed_time": 72.32067323,
            "remaining_time": 166.3614166,
            "test": [
             0.04303396403
            ]
           },
           {
            "iteration": 909,
            "learn": [
             0.002583937945
            ],
            "passed_time": 72.39304763,
            "remaining_time": 166.2653512,
            "test": [
             0.04301704915
            ]
           },
           {
            "iteration": 910,
            "learn": [
             0.002580033439
            ],
            "passed_time": 72.46016702,
            "remaining_time": 166.1572875,
            "test": [
             0.04302063802
            ]
           },
           {
            "iteration": 911,
            "learn": [
             0.002575525774
            ],
            "passed_time": 72.52617635,
            "remaining_time": 166.0467722,
            "test": [
             0.04302473551
            ]
           },
           {
            "iteration": 912,
            "learn": [
             0.002570537676
            ],
            "passed_time": 72.59178143,
            "remaining_time": 165.9354303,
            "test": [
             0.04303566488
            ]
           },
           {
            "iteration": 913,
            "learn": [
             0.002565262059
            ],
            "passed_time": 72.65819983,
            "remaining_time": 165.8260447,
            "test": [
             0.04302869059
            ]
           },
           {
            "iteration": 914,
            "learn": [
             0.00255836901
            ],
            "passed_time": 72.72676914,
            "remaining_time": 165.7216543,
            "test": [
             0.04303316243
            ]
           },
           {
            "iteration": 915,
            "learn": [
             0.002550940159
            ],
            "passed_time": 72.80485414,
            "remaining_time": 165.6389913,
            "test": [
             0.04302078451
            ]
           },
           {
            "iteration": 916,
            "learn": [
             0.002544284058
            ],
            "passed_time": 72.91064398,
            "remaining_time": 165.6192709,
            "test": [
             0.04302294515
            ]
           },
           {
            "iteration": 917,
            "learn": [
             0.002539360918
            ],
            "passed_time": 72.98557679,
            "remaining_time": 165.52938,
            "test": [
             0.04303247477
            ]
           },
           {
            "iteration": 918,
            "learn": [
             0.002530911037
            ],
            "passed_time": 73.05604966,
            "remaining_time": 165.4294226,
            "test": [
             0.04302798258
            ]
           },
           {
            "iteration": 919,
            "learn": [
             0.002523132324
            ],
            "passed_time": 73.1271858,
            "remaining_time": 165.3310288,
            "test": [
             0.04303179932
            ]
           },
           {
            "iteration": 920,
            "learn": [
             0.002518235343
            ],
            "passed_time": 73.1957496,
            "remaining_time": 165.2268875,
            "test": [
             0.04304232178
            ]
           },
           {
            "iteration": 921,
            "learn": [
             0.002515280369
            ],
            "passed_time": 73.26344379,
            "remaining_time": 165.1208636,
            "test": [
             0.04305702311
            ]
           },
           {
            "iteration": 922,
            "learn": [
             0.002508604213
            ],
            "passed_time": 73.33162393,
            "remaining_time": 165.0160161,
            "test": [
             0.04304394938
            ]
           },
           {
            "iteration": 923,
            "learn": [
             0.002504429408
            ],
            "passed_time": 73.40160814,
            "remaining_time": 164.9153014,
            "test": [
             0.04304657796
            ]
           },
           {
            "iteration": 924,
            "learn": [
             0.002499147252
            ],
            "passed_time": 73.47053615,
            "remaining_time": 164.8122838,
            "test": [
             0.04304987386
            ]
           },
           {
            "iteration": 925,
            "learn": [
             0.002491940526
            ],
            "passed_time": 73.53824329,
            "remaining_time": 164.7066054,
            "test": [
             0.04305370687
            ]
           },
           {
            "iteration": 926,
            "learn": [
             0.002480394418
            ],
            "passed_time": 73.61107585,
            "remaining_time": 164.6124706,
            "test": [
             0.04305807699
            ]
           },
           {
            "iteration": 927,
            "learn": [
             0.002474665397
            ],
            "passed_time": 73.6766125,
            "remaining_time": 164.5020917,
            "test": [
             0.04304331462
            ]
           },
           {
            "iteration": 928,
            "learn": [
             0.002470210266
            ],
            "passed_time": 73.73764414,
            "remaining_time": 164.3817664,
            "test": [
             0.04304237874
            ]
           },
           {
            "iteration": 929,
            "learn": [
             0.002460954721
            ],
            "passed_time": 73.81370052,
            "remaining_time": 164.2950108,
            "test": [
             0.04305329997
            ]
           },
           {
            "iteration": 930,
            "learn": [
             0.002456555612
            ],
            "passed_time": 73.90678877,
            "remaining_time": 164.2461289,
            "test": [
             0.04306287435
            ]
           },
           {
            "iteration": 931,
            "learn": [
             0.002451087734
            ],
            "passed_time": 74.00064453,
            "remaining_time": 164.198855,
            "test": [
             0.04307512614
            ]
           },
           {
            "iteration": 932,
            "learn": [
             0.002443213981
            ],
            "passed_time": 74.07167391,
            "remaining_time": 164.100911,
            "test": [
             0.04308565267
            ]
           },
           {
            "iteration": 933,
            "learn": [
             0.002434071132
            ],
            "passed_time": 74.14748153,
            "remaining_time": 164.013594,
            "test": [
             0.0430864502
            ]
           },
           {
            "iteration": 934,
            "learn": [
             0.00242644261
            ],
            "passed_time": 74.21781643,
            "remaining_time": 163.9142149,
            "test": [
             0.04307657064
            ]
           },
           {
            "iteration": 935,
            "learn": [
             0.002421672058
            ],
            "passed_time": 74.28702212,
            "remaining_time": 163.8124078,
            "test": [
             0.0430869873
            ]
           },
           {
            "iteration": 936,
            "learn": [
             0.002417610822
            ],
            "passed_time": 74.35130181,
            "remaining_time": 163.6998246,
            "test": [
             0.04309128011
            ]
           },
           {
            "iteration": 937,
            "learn": [
             0.002414730399
            ],
            "passed_time": 74.41743215,
            "remaining_time": 163.5914127,
            "test": [
             0.04309441732
            ]
           },
           {
            "iteration": 938,
            "learn": [
             0.002409402684
            ],
            "passed_time": 74.48066417,
            "remaining_time": 163.4767293,
            "test": [
             0.04309427083
            ]
           },
           {
            "iteration": 939,
            "learn": [
             0.002402380153
            ],
            "passed_time": 74.54848639,
            "remaining_time": 163.3722148,
            "test": [
             0.04309965413
            ]
           },
           {
            "iteration": 940,
            "learn": [
             0.002396888515
            ],
            "passed_time": 74.61501347,
            "remaining_time": 163.2649445,
            "test": [
             0.04308519694
            ]
           },
           {
            "iteration": 941,
            "learn": [
             0.002390041242
            ],
            "passed_time": 74.68501964,
            "remaining_time": 163.1653614,
            "test": [
             0.04309926758
            ]
           },
           {
            "iteration": 942,
            "learn": [
             0.002387070792
            ],
            "passed_time": 74.74730185,
            "remaining_time": 163.0489925,
            "test": [
             0.04310016683
            ]
           },
           {
            "iteration": 943,
            "learn": [
             0.002382654463
            ],
            "passed_time": 74.8119556,
            "remaining_time": 162.9379033,
            "test": [
             0.0431005778
            ]
           },
           {
            "iteration": 944,
            "learn": [
             0.002377693612
            ],
            "passed_time": 74.87954407,
            "remaining_time": 162.8332942,
            "test": [
             0.04309914144
            ]
           },
           {
            "iteration": 945,
            "learn": [
             0.002370481873
            ],
            "passed_time": 74.97925498,
            "remaining_time": 162.7985092,
            "test": [
             0.04309928385
            ]
           },
           {
            "iteration": 946,
            "learn": [
             0.002365893773
            ],
            "passed_time": 75.0872445,
            "remaining_time": 162.7815343,
            "test": [
             0.04311236572
            ]
           },
           {
            "iteration": 947,
            "learn": [
             0.002358330645
            ],
            "passed_time": 75.16192922,
            "remaining_time": 162.6922772,
            "test": [
             0.04310516764
            ]
           },
           {
            "iteration": 948,
            "learn": [
             0.002354305594
            ],
            "passed_time": 75.23078888,
            "remaining_time": 162.5904615,
            "test": [
             0.04311326904
            ]
           },
           {
            "iteration": 949,
            "learn": [
             0.002349005999
            ],
            "passed_time": 75.29744812,
            "remaining_time": 162.483967,
            "test": [
             0.04311992188
            ]
           },
           {
            "iteration": 950,
            "learn": [
             0.002344014195
            ],
            "passed_time": 75.36478649,
            "remaining_time": 162.3790195,
            "test": [
             0.04312567546
            ]
           },
           {
            "iteration": 951,
            "learn": [
             0.002338923209
            ],
            "passed_time": 75.4316748,
            "remaining_time": 162.2731828,
            "test": [
             0.04311833496
            ]
           },
           {
            "iteration": 952,
            "learn": [
             0.002332367815
            ],
            "passed_time": 75.49864343,
            "remaining_time": 162.1676003,
            "test": [
             0.04311310628
            ]
           },
           {
            "iteration": 953,
            "learn": [
             0.002329147993
            ],
            "passed_time": 75.56512434,
            "remaining_time": 162.0610528,
            "test": [
             0.04311614176
            ]
           },
           {
            "iteration": 954,
            "learn": [
             0.002326327079
            ],
            "passed_time": 75.62712743,
            "remaining_time": 161.9450006,
            "test": [
             0.0431208374
            ]
           },
           {
            "iteration": 955,
            "learn": [
             0.002318855722
            ],
            "passed_time": 75.6979579,
            "remaining_time": 161.8479351,
            "test": [
             0.04311638997
            ]
           },
           {
            "iteration": 956,
            "learn": [
             0.002313590349
            ],
            "passed_time": 75.76325681,
            "remaining_time": 161.7391156,
            "test": [
             0.04311687419
            ]
           },
           {
            "iteration": 957,
            "learn": [
             0.002305949402
            ],
            "passed_time": 75.83368659,
            "remaining_time": 161.6413236,
            "test": [
             0.04310938314
            ]
           },
           {
            "iteration": 958,
            "learn": [
             0.00230292293
            ],
            "passed_time": 75.90360291,
            "remaining_time": 161.5424959,
            "test": [
             0.04311775309
            ]
           },
           {
            "iteration": 959,
            "learn": [
             0.002297108241
            ],
            "passed_time": 75.98508141,
            "remaining_time": 161.468298,
            "test": [
             0.04311464844
            ]
           },
           {
            "iteration": 960,
            "learn": [
             0.002293477086
            ],
            "passed_time": 76.06937862,
            "remaining_time": 161.4000656,
            "test": [
             0.04311486003
            ]
           },
           {
            "iteration": 961,
            "learn": [
             0.002287085615
            ],
            "passed_time": 76.20602218,
            "remaining_time": 161.4426956,
            "test": [
             0.04312143148
            ]
           },
           {
            "iteration": 962,
            "learn": [
             0.002282177952
            ],
            "passed_time": 76.27275049,
            "remaining_time": 161.3370641,
            "test": [
             0.04312903239
            ]
           },
           {
            "iteration": 963,
            "learn": [
             0.002277424404
            ],
            "passed_time": 76.33912817,
            "remaining_time": 161.2307728,
            "test": [
             0.04313816732
            ]
           },
           {
            "iteration": 964,
            "learn": [
             0.002273219081
            ],
            "passed_time": 76.40879652,
            "remaining_time": 161.1315035,
            "test": [
             0.04314256185
            ]
           },
           {
            "iteration": 965,
            "learn": [
             0.00226424081
            ],
            "passed_time": 76.47311928,
            "remaining_time": 161.02104,
            "test": [
             0.04313570557
            ]
           },
           {
            "iteration": 966,
            "learn": [
             0.002258346994
            ],
            "passed_time": 76.5419647,
            "remaining_time": 160.9201802,
            "test": [
             0.04314806722
            ]
           },
           {
            "iteration": 967,
            "learn": [
             0.002253021894
            ],
            "passed_time": 76.61113381,
            "remaining_time": 160.820066,
            "test": [
             0.04314589437
            ]
           },
           {
            "iteration": 968,
            "learn": [
             0.002248341588
            ],
            "passed_time": 76.6739045,
            "remaining_time": 160.7066048,
            "test": [
             0.04315187988
            ]
           },
           {
            "iteration": 969,
            "learn": [
             0.002244506618
            ],
            "passed_time": 76.74025286,
            "remaining_time": 160.6007354,
            "test": [
             0.04315863851
            ]
           },
           {
            "iteration": 970,
            "learn": [
             0.002239151001
            ],
            "passed_time": 76.8089376,
            "remaining_time": 160.4998295,
            "test": [
             0.0431655721
            ]
           },
           {
            "iteration": 971,
            "learn": [
             0.002234901864
            ],
            "passed_time": 76.8788266,
            "remaining_time": 160.4015024,
            "test": [
             0.04316948649
            ]
           }
          ],
          "meta": {
           "iteration_count": 3000,
           "launch_mode": "Train",
           "learn_metrics": [
            {
             "best_value": "Min",
             "name": "MultiClassOneVsAll"
            }
           ],
           "learn_sets": [
            "learn"
           ],
           "name": "experiment",
           "parameters": "",
           "test_metrics": [
            {
             "best_value": "Min",
             "name": "MultiClassOneVsAll"
            }
           ],
           "test_sets": [
            "test"
           ]
          }
         },
         "passed_iterations": 971,
         "total_iterations": 3000
        },
        "name": "catboost_info",
        "path": "catboost_info"
       }
      },
      "layout": "IPY_MODEL_970ac3900bbe4a819761d8f6e77fd7cc"
     }
    }
   }
  }
 },
 "nbformat": 4,
 "nbformat_minor": 1
}
